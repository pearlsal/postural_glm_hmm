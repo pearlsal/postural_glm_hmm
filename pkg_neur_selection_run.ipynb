{
 "cells": [
  {
   "cell_type": "code",
   "execution_count": 1,
   "id": "4b8c51bf-8356-4475-80c4-5e5bab5abf72",
   "metadata": {},
   "outputs": [],
   "source": [
    "from test_beta_package import *\n",
    "%matplotlib inline"
   ]
  },
  {
   "cell_type": "code",
   "execution_count": 2,
   "id": "eae91827-0c22-4a86-b04c-fd09cf4b0cb5",
   "metadata": {},
   "outputs": [],
   "source": [
    "path_data_folder, path_raw_data_folder, path_process_data_folder, path_top_folder, path_info_dir, path_analysis_dir, \\\n",
    "path_plots_dir, path_single_pred_dir, path_multi_pred_dir = folder_structure()"
   ]
  },
  {
   "cell_type": "code",
   "execution_count": 3,
   "id": "c7dd67ec-fcbd-4904-8d16-8f13e7663e82",
   "metadata": {},
   "outputs": [],
   "source": [
    "data_continous_ratemaps, data_binned_glm = \\\n",
    "    processing_and_loading(path_raw_data_folder, path_process_data_folder,  # mat_file=\"diana_chasing2_notreheaded.mat\")\n",
    "                           data_continous_ratemaps_pickle=\"rm_pre_data_diana_chasing2_notreheaded_XYZeuler_notricks_eo.pkl\",\n",
    "                           data_binned_glm_pickle=\"binned_4_GLM_rm_pre_data_diana_chasing2_notreheaded_XYZeuler_notricks_eo.pkl\")\n"
   ]
  },
  {
   "cell_type": "code",
   "execution_count": 4,
   "id": "90d4d469-5870-4894-a313-8113dc5b678a",
   "metadata": {},
   "outputs": [],
   "source": [
    "predictors_name_list, cells_id, animal_name = get_data_information(path_info_dir, data_continous_ratemaps)"
   ]
  },
  {
   "cell_type": "code",
   "execution_count": 5,
   "id": "52912d78-69e6-4c2c-a005-4c3c6d63fd0e",
   "metadata": {},
   "outputs": [],
   "source": [
    "dict_param = dict_parameters_hmm(path_info_dir, animal_name, num_dimen=1, num_categ_obs=2, N_iters=100,\n",
    "                                 tolerance=10**-5, num_indep_neurons=2, num_predictors=8, max_num_states=3,\n",
    "                                 observation_type=\"input_driven_obs\",\n",
    "                                 transistion_type=\"sticky\", optim_method=\"em\")"
   ]
  },
  {
   "cell_type": "code",
   "execution_count": 6,
   "id": "587de00c-08b7-492f-adb2-df8465529a89",
   "metadata": {},
   "outputs": [],
   "source": [
    "cell_index, tot_time = cells_selection_manual(path_info_dir, data_continous_ratemaps, data_binned_glm, dict_param, 'cells_selection.csv')"
   ]
  },
  {
   "cell_type": "code",
   "execution_count": 7,
   "id": "55f34390-32d7-4eb7-8bcc-eba59a7edff9",
   "metadata": {},
   "outputs": [
    {
     "name": "stdout",
     "output_type": "stream",
     "text": [
      "NAME OF THE FOLDER IS C:\\Users\\teof\\PycharmProjects\\pythonREGITglmhmm\\postural_glm_hmm\\results_folder\\plots_dir/single_pred_dir/diana_notreheaded_singlepredictor_2022-10-24_run/\n",
      "IMPORTANT: given the presence of nans (missing points of the camera) part of the data are deleted.If the number of missing points is 'small enough', it should not interfere with the inference.Below the ratio of missing points\n",
      "the input list is [[array([[10.6933533 ,  1.        ],\n",
      "       [10.94194185,  1.        ],\n",
      "       [11.20825033,  1.        ],\n",
      "       ...,\n",
      "       [ 0.37459429,  1.        ],\n",
      "       [ 0.50266247,  1.        ],\n",
      "       [ 0.64292032,  1.        ]]), array([[10.6933533 ,  1.        ],\n",
      "       [10.94194185,  1.        ],\n",
      "       [11.20825033,  1.        ],\n",
      "       ...,\n",
      "       [ 0.37459429,  1.        ],\n",
      "       [ 0.50266247,  1.        ],\n",
      "       [ 0.64292032,  1.        ]])]]\n",
      "the input list is [[array([[10.6933533 ,  1.        ],\n",
      "       [10.94194185,  1.        ],\n",
      "       [11.20825033,  1.        ],\n",
      "       ...,\n",
      "       [ 0.37459429,  1.        ],\n",
      "       [ 0.50266247,  1.        ],\n",
      "       [ 0.64292032,  1.        ]]), array([[10.6933533 ,  1.        ],\n",
      "       [10.94194185,  1.        ],\n",
      "       [11.20825033,  1.        ],\n",
      "       ...,\n",
      "       [ 0.37459429,  1.        ],\n",
      "       [ 0.50266247,  1.        ],\n",
      "       [ 0.64292032,  1.        ]])], [array([[ 7.84533631,  1.        ],\n",
      "       [ 7.84695203,  1.        ],\n",
      "       [ 7.85171584,  1.        ],\n",
      "       ...,\n",
      "       [11.16635283,  1.        ],\n",
      "       [11.18234474,  1.        ],\n",
      "       [11.24178234,  1.        ]]), array([[ 7.84533631,  1.        ],\n",
      "       [ 7.84695203,  1.        ],\n",
      "       [ 7.85171584,  1.        ],\n",
      "       ...,\n",
      "       [11.16635283,  1.        ],\n",
      "       [11.18234474,  1.        ],\n",
      "       [11.24178234,  1.        ]])]]\n",
      "the input list is [[array([[10.6933533 ,  1.        ],\n",
      "       [10.94194185,  1.        ],\n",
      "       [11.20825033,  1.        ],\n",
      "       ...,\n",
      "       [ 0.37459429,  1.        ],\n",
      "       [ 0.50266247,  1.        ],\n",
      "       [ 0.64292032,  1.        ]]), array([[10.6933533 ,  1.        ],\n",
      "       [10.94194185,  1.        ],\n",
      "       [11.20825033,  1.        ],\n",
      "       ...,\n",
      "       [ 0.37459429,  1.        ],\n",
      "       [ 0.50266247,  1.        ],\n",
      "       [ 0.64292032,  1.        ]])], [array([[ 7.84533631,  1.        ],\n",
      "       [ 7.84695203,  1.        ],\n",
      "       [ 7.85171584,  1.        ],\n",
      "       ...,\n",
      "       [11.16635283,  1.        ],\n",
      "       [11.18234474,  1.        ],\n",
      "       [11.24178234,  1.        ]]), array([[ 7.84533631,  1.        ],\n",
      "       [ 7.84695203,  1.        ],\n",
      "       [ 7.85171584,  1.        ],\n",
      "       ...,\n",
      "       [11.16635283,  1.        ],\n",
      "       [11.18234474,  1.        ],\n",
      "       [11.24178234,  1.        ]])], [array([[5.62521328, 1.        ],\n",
      "       [6.05557478, 1.        ],\n",
      "       [6.2165284 , 1.        ],\n",
      "       ...,\n",
      "       [4.04407274, 1.        ],\n",
      "       [4.32910028, 1.        ],\n",
      "       [4.67918961, 1.        ]]), array([[5.62521328, 1.        ],\n",
      "       [6.05557478, 1.        ],\n",
      "       [6.2165284 , 1.        ],\n",
      "       ...,\n",
      "       [4.04407274, 1.        ],\n",
      "       [4.32910028, 1.        ],\n",
      "       [4.67918961, 1.        ]])]]\n",
      "the input list is [[array([[10.6933533 ,  1.        ],\n",
      "       [10.94194185,  1.        ],\n",
      "       [11.20825033,  1.        ],\n",
      "       ...,\n",
      "       [ 0.37459429,  1.        ],\n",
      "       [ 0.50266247,  1.        ],\n",
      "       [ 0.64292032,  1.        ]]), array([[10.6933533 ,  1.        ],\n",
      "       [10.94194185,  1.        ],\n",
      "       [11.20825033,  1.        ],\n",
      "       ...,\n",
      "       [ 0.37459429,  1.        ],\n",
      "       [ 0.50266247,  1.        ],\n",
      "       [ 0.64292032,  1.        ]])], [array([[ 7.84533631,  1.        ],\n",
      "       [ 7.84695203,  1.        ],\n",
      "       [ 7.85171584,  1.        ],\n",
      "       ...,\n",
      "       [11.16635283,  1.        ],\n",
      "       [11.18234474,  1.        ],\n",
      "       [11.24178234,  1.        ]]), array([[ 7.84533631,  1.        ],\n",
      "       [ 7.84695203,  1.        ],\n",
      "       [ 7.85171584,  1.        ],\n",
      "       ...,\n",
      "       [11.16635283,  1.        ],\n",
      "       [11.18234474,  1.        ],\n",
      "       [11.24178234,  1.        ]])], [array([[5.62521328, 1.        ],\n",
      "       [6.05557478, 1.        ],\n",
      "       [6.2165284 , 1.        ],\n",
      "       ...,\n",
      "       [4.04407274, 1.        ],\n",
      "       [4.32910028, 1.        ],\n",
      "       [4.67918961, 1.        ]]), array([[5.62521328, 1.        ],\n",
      "       [6.05557478, 1.        ],\n",
      "       [6.2165284 , 1.        ],\n",
      "       ...,\n",
      "       [4.04407274, 1.        ],\n",
      "       [4.32910028, 1.        ],\n",
      "       [4.67918961, 1.        ]])], [array([[ -8.12580534,   1.        ],\n",
      "       [ -8.33623325,   1.        ],\n",
      "       [ -8.65236889,   1.        ],\n",
      "       ...,\n",
      "       [-66.44444564,   1.        ],\n",
      "       [-67.07907547,   1.        ],\n",
      "       [-68.29640137,   1.        ]]), array([[ -8.12580534,   1.        ],\n",
      "       [ -8.33623325,   1.        ],\n",
      "       [ -8.65236889,   1.        ],\n",
      "       ...,\n",
      "       [-66.44444564,   1.        ],\n",
      "       [-67.07907547,   1.        ],\n",
      "       [-68.29640137,   1.        ]])]]\n",
      "the input list is [[array([[10.6933533 ,  1.        ],\n",
      "       [10.94194185,  1.        ],\n",
      "       [11.20825033,  1.        ],\n",
      "       ...,\n",
      "       [ 0.37459429,  1.        ],\n",
      "       [ 0.50266247,  1.        ],\n",
      "       [ 0.64292032,  1.        ]]), array([[10.6933533 ,  1.        ],\n",
      "       [10.94194185,  1.        ],\n",
      "       [11.20825033,  1.        ],\n",
      "       ...,\n",
      "       [ 0.37459429,  1.        ],\n",
      "       [ 0.50266247,  1.        ],\n",
      "       [ 0.64292032,  1.        ]])], [array([[ 7.84533631,  1.        ],\n",
      "       [ 7.84695203,  1.        ],\n",
      "       [ 7.85171584,  1.        ],\n",
      "       ...,\n",
      "       [11.16635283,  1.        ],\n",
      "       [11.18234474,  1.        ],\n",
      "       [11.24178234,  1.        ]]), array([[ 7.84533631,  1.        ],\n",
      "       [ 7.84695203,  1.        ],\n",
      "       [ 7.85171584,  1.        ],\n",
      "       ...,\n",
      "       [11.16635283,  1.        ],\n",
      "       [11.18234474,  1.        ],\n",
      "       [11.24178234,  1.        ]])], [array([[5.62521328, 1.        ],\n",
      "       [6.05557478, 1.        ],\n",
      "       [6.2165284 , 1.        ],\n",
      "       ...,\n",
      "       [4.04407274, 1.        ],\n",
      "       [4.32910028, 1.        ],\n",
      "       [4.67918961, 1.        ]]), array([[5.62521328, 1.        ],\n",
      "       [6.05557478, 1.        ],\n",
      "       [6.2165284 , 1.        ],\n",
      "       ...,\n",
      "       [4.04407274, 1.        ],\n",
      "       [4.32910028, 1.        ],\n",
      "       [4.67918961, 1.        ]])], [array([[ -8.12580534,   1.        ],\n",
      "       [ -8.33623325,   1.        ],\n",
      "       [ -8.65236889,   1.        ],\n",
      "       ...,\n",
      "       [-66.44444564,   1.        ],\n",
      "       [-67.07907547,   1.        ],\n",
      "       [-68.29640137,   1.        ]]), array([[ -8.12580534,   1.        ],\n",
      "       [ -8.33623325,   1.        ],\n",
      "       [ -8.65236889,   1.        ],\n",
      "       ...,\n",
      "       [-66.44444564,   1.        ],\n",
      "       [-67.07907547,   1.        ],\n",
      "       [-68.29640137,   1.        ]])], [array([[ -9.32662358,   1.        ],\n",
      "       [ -9.29987361,   1.        ],\n",
      "       [ -9.72262191,   1.        ],\n",
      "       ...,\n",
      "       [-11.40539677,   1.        ],\n",
      "       [-11.3217598 ,   1.        ],\n",
      "       [-10.89174567,   1.        ]]), array([[ -9.32662358,   1.        ],\n",
      "       [ -9.29987361,   1.        ],\n",
      "       [ -9.72262191,   1.        ],\n",
      "       ...,\n",
      "       [-11.40539677,   1.        ],\n",
      "       [-11.3217598 ,   1.        ],\n",
      "       [-10.89174567,   1.        ]])]]\n",
      "the input list is [[array([[10.6933533 ,  1.        ],\n",
      "       [10.94194185,  1.        ],\n",
      "       [11.20825033,  1.        ],\n",
      "       ...,\n",
      "       [ 0.37459429,  1.        ],\n",
      "       [ 0.50266247,  1.        ],\n",
      "       [ 0.64292032,  1.        ]]), array([[10.6933533 ,  1.        ],\n",
      "       [10.94194185,  1.        ],\n",
      "       [11.20825033,  1.        ],\n",
      "       ...,\n",
      "       [ 0.37459429,  1.        ],\n",
      "       [ 0.50266247,  1.        ],\n",
      "       [ 0.64292032,  1.        ]])], [array([[ 7.84533631,  1.        ],\n",
      "       [ 7.84695203,  1.        ],\n",
      "       [ 7.85171584,  1.        ],\n",
      "       ...,\n",
      "       [11.16635283,  1.        ],\n",
      "       [11.18234474,  1.        ],\n",
      "       [11.24178234,  1.        ]]), array([[ 7.84533631,  1.        ],\n",
      "       [ 7.84695203,  1.        ],\n",
      "       [ 7.85171584,  1.        ],\n",
      "       ...,\n",
      "       [11.16635283,  1.        ],\n",
      "       [11.18234474,  1.        ],\n",
      "       [11.24178234,  1.        ]])], [array([[5.62521328, 1.        ],\n",
      "       [6.05557478, 1.        ],\n",
      "       [6.2165284 , 1.        ],\n",
      "       ...,\n",
      "       [4.04407274, 1.        ],\n",
      "       [4.32910028, 1.        ],\n",
      "       [4.67918961, 1.        ]]), array([[5.62521328, 1.        ],\n",
      "       [6.05557478, 1.        ],\n",
      "       [6.2165284 , 1.        ],\n",
      "       ...,\n",
      "       [4.04407274, 1.        ],\n",
      "       [4.32910028, 1.        ],\n",
      "       [4.67918961, 1.        ]])], [array([[ -8.12580534,   1.        ],\n",
      "       [ -8.33623325,   1.        ],\n",
      "       [ -8.65236889,   1.        ],\n",
      "       ...,\n",
      "       [-66.44444564,   1.        ],\n",
      "       [-67.07907547,   1.        ],\n",
      "       [-68.29640137,   1.        ]]), array([[ -8.12580534,   1.        ],\n",
      "       [ -8.33623325,   1.        ],\n",
      "       [ -8.65236889,   1.        ],\n",
      "       ...,\n",
      "       [-66.44444564,   1.        ],\n",
      "       [-67.07907547,   1.        ],\n",
      "       [-68.29640137,   1.        ]])], [array([[ -9.32662358,   1.        ],\n",
      "       [ -9.29987361,   1.        ],\n",
      "       [ -9.72262191,   1.        ],\n",
      "       ...,\n",
      "       [-11.40539677,   1.        ],\n",
      "       [-11.3217598 ,   1.        ],\n",
      "       [-10.89174567,   1.        ]]), array([[ -9.32662358,   1.        ],\n",
      "       [ -9.29987361,   1.        ],\n",
      "       [ -9.72262191,   1.        ],\n",
      "       ...,\n",
      "       [-11.40539677,   1.        ],\n",
      "       [-11.3217598 ,   1.        ],\n",
      "       [-10.89174567,   1.        ]])], [array([[-22.61317687,   1.        ],\n",
      "       [-26.99186929,   1.        ],\n",
      "       [-31.35354101,   1.        ],\n",
      "       ...,\n",
      "       [ -7.74707421,   1.        ],\n",
      "       [ -6.39948677,   1.        ],\n",
      "       [ -4.79408015,   1.        ]]), array([[-22.61317687,   1.        ],\n",
      "       [-26.99186929,   1.        ],\n",
      "       [-31.35354101,   1.        ],\n",
      "       ...,\n",
      "       [ -7.74707421,   1.        ],\n",
      "       [ -6.39948677,   1.        ],\n",
      "       [ -4.79408015,   1.        ]])]]\n",
      "the input list is [[array([[10.6933533 ,  1.        ],\n",
      "       [10.94194185,  1.        ],\n",
      "       [11.20825033,  1.        ],\n",
      "       ...,\n",
      "       [ 0.37459429,  1.        ],\n",
      "       [ 0.50266247,  1.        ],\n",
      "       [ 0.64292032,  1.        ]]), array([[10.6933533 ,  1.        ],\n",
      "       [10.94194185,  1.        ],\n",
      "       [11.20825033,  1.        ],\n",
      "       ...,\n",
      "       [ 0.37459429,  1.        ],\n",
      "       [ 0.50266247,  1.        ],\n",
      "       [ 0.64292032,  1.        ]])], [array([[ 7.84533631,  1.        ],\n",
      "       [ 7.84695203,  1.        ],\n",
      "       [ 7.85171584,  1.        ],\n",
      "       ...,\n",
      "       [11.16635283,  1.        ],\n",
      "       [11.18234474,  1.        ],\n",
      "       [11.24178234,  1.        ]]), array([[ 7.84533631,  1.        ],\n",
      "       [ 7.84695203,  1.        ],\n",
      "       [ 7.85171584,  1.        ],\n",
      "       ...,\n",
      "       [11.16635283,  1.        ],\n",
      "       [11.18234474,  1.        ],\n",
      "       [11.24178234,  1.        ]])], [array([[5.62521328, 1.        ],\n",
      "       [6.05557478, 1.        ],\n",
      "       [6.2165284 , 1.        ],\n",
      "       ...,\n",
      "       [4.04407274, 1.        ],\n",
      "       [4.32910028, 1.        ],\n",
      "       [4.67918961, 1.        ]]), array([[5.62521328, 1.        ],\n",
      "       [6.05557478, 1.        ],\n",
      "       [6.2165284 , 1.        ],\n",
      "       ...,\n",
      "       [4.04407274, 1.        ],\n",
      "       [4.32910028, 1.        ],\n",
      "       [4.67918961, 1.        ]])], [array([[ -8.12580534,   1.        ],\n",
      "       [ -8.33623325,   1.        ],\n",
      "       [ -8.65236889,   1.        ],\n",
      "       ...,\n",
      "       [-66.44444564,   1.        ],\n",
      "       [-67.07907547,   1.        ],\n",
      "       [-68.29640137,   1.        ]]), array([[ -8.12580534,   1.        ],\n",
      "       [ -8.33623325,   1.        ],\n",
      "       [ -8.65236889,   1.        ],\n",
      "       ...,\n",
      "       [-66.44444564,   1.        ],\n",
      "       [-67.07907547,   1.        ],\n",
      "       [-68.29640137,   1.        ]])], [array([[ -9.32662358,   1.        ],\n",
      "       [ -9.29987361,   1.        ],\n",
      "       [ -9.72262191,   1.        ],\n",
      "       ...,\n",
      "       [-11.40539677,   1.        ],\n",
      "       [-11.3217598 ,   1.        ],\n",
      "       [-10.89174567,   1.        ]]), array([[ -9.32662358,   1.        ],\n",
      "       [ -9.29987361,   1.        ],\n",
      "       [ -9.72262191,   1.        ],\n",
      "       ...,\n",
      "       [-11.40539677,   1.        ],\n",
      "       [-11.3217598 ,   1.        ],\n",
      "       [-10.89174567,   1.        ]])], [array([[-22.61317687,   1.        ],\n",
      "       [-26.99186929,   1.        ],\n",
      "       [-31.35354101,   1.        ],\n",
      "       ...,\n",
      "       [ -7.74707421,   1.        ],\n",
      "       [ -6.39948677,   1.        ],\n",
      "       [ -4.79408015,   1.        ]]), array([[-22.61317687,   1.        ],\n",
      "       [-26.99186929,   1.        ],\n",
      "       [-31.35354101,   1.        ],\n",
      "       ...,\n",
      "       [ -7.74707421,   1.        ],\n",
      "       [ -6.39948677,   1.        ],\n",
      "       [ -4.79408015,   1.        ]])], [array([[-1.28057085,  1.        ],\n",
      "       [-1.37676971,  1.        ],\n",
      "       [-1.66261415,  1.        ],\n",
      "       ...,\n",
      "       [-2.58215909,  1.        ],\n",
      "       [-2.21242697,  1.        ],\n",
      "       [-1.65604684,  1.        ]]), array([[-1.28057085,  1.        ],\n",
      "       [-1.37676971,  1.        ],\n",
      "       [-1.66261415,  1.        ],\n",
      "       ...,\n",
      "       [-2.58215909,  1.        ],\n",
      "       [-2.21242697,  1.        ],\n",
      "       [-1.65604684,  1.        ]])]]\n",
      "the input list is [[array([[10.6933533 ,  1.        ],\n",
      "       [10.94194185,  1.        ],\n",
      "       [11.20825033,  1.        ],\n",
      "       ...,\n",
      "       [ 0.37459429,  1.        ],\n",
      "       [ 0.50266247,  1.        ],\n",
      "       [ 0.64292032,  1.        ]]), array([[10.6933533 ,  1.        ],\n",
      "       [10.94194185,  1.        ],\n",
      "       [11.20825033,  1.        ],\n",
      "       ...,\n",
      "       [ 0.37459429,  1.        ],\n",
      "       [ 0.50266247,  1.        ],\n",
      "       [ 0.64292032,  1.        ]])], [array([[ 7.84533631,  1.        ],\n",
      "       [ 7.84695203,  1.        ],\n",
      "       [ 7.85171584,  1.        ],\n",
      "       ...,\n",
      "       [11.16635283,  1.        ],\n",
      "       [11.18234474,  1.        ],\n",
      "       [11.24178234,  1.        ]]), array([[ 7.84533631,  1.        ],\n",
      "       [ 7.84695203,  1.        ],\n",
      "       [ 7.85171584,  1.        ],\n",
      "       ...,\n",
      "       [11.16635283,  1.        ],\n",
      "       [11.18234474,  1.        ],\n",
      "       [11.24178234,  1.        ]])], [array([[5.62521328, 1.        ],\n",
      "       [6.05557478, 1.        ],\n",
      "       [6.2165284 , 1.        ],\n",
      "       ...,\n",
      "       [4.04407274, 1.        ],\n",
      "       [4.32910028, 1.        ],\n",
      "       [4.67918961, 1.        ]]), array([[5.62521328, 1.        ],\n",
      "       [6.05557478, 1.        ],\n",
      "       [6.2165284 , 1.        ],\n",
      "       ...,\n",
      "       [4.04407274, 1.        ],\n",
      "       [4.32910028, 1.        ],\n",
      "       [4.67918961, 1.        ]])], [array([[ -8.12580534,   1.        ],\n",
      "       [ -8.33623325,   1.        ],\n",
      "       [ -8.65236889,   1.        ],\n",
      "       ...,\n",
      "       [-66.44444564,   1.        ],\n",
      "       [-67.07907547,   1.        ],\n",
      "       [-68.29640137,   1.        ]]), array([[ -8.12580534,   1.        ],\n",
      "       [ -8.33623325,   1.        ],\n",
      "       [ -8.65236889,   1.        ],\n",
      "       ...,\n",
      "       [-66.44444564,   1.        ],\n",
      "       [-67.07907547,   1.        ],\n",
      "       [-68.29640137,   1.        ]])], [array([[ -9.32662358,   1.        ],\n",
      "       [ -9.29987361,   1.        ],\n",
      "       [ -9.72262191,   1.        ],\n",
      "       ...,\n",
      "       [-11.40539677,   1.        ],\n",
      "       [-11.3217598 ,   1.        ],\n",
      "       [-10.89174567,   1.        ]]), array([[ -9.32662358,   1.        ],\n",
      "       [ -9.29987361,   1.        ],\n",
      "       [ -9.72262191,   1.        ],\n",
      "       ...,\n",
      "       [-11.40539677,   1.        ],\n",
      "       [-11.3217598 ,   1.        ],\n",
      "       [-10.89174567,   1.        ]])], [array([[-22.61317687,   1.        ],\n",
      "       [-26.99186929,   1.        ],\n",
      "       [-31.35354101,   1.        ],\n",
      "       ...,\n",
      "       [ -7.74707421,   1.        ],\n",
      "       [ -6.39948677,   1.        ],\n",
      "       [ -4.79408015,   1.        ]]), array([[-22.61317687,   1.        ],\n",
      "       [-26.99186929,   1.        ],\n",
      "       [-31.35354101,   1.        ],\n",
      "       ...,\n",
      "       [ -7.74707421,   1.        ],\n",
      "       [ -6.39948677,   1.        ],\n",
      "       [ -4.79408015,   1.        ]])], [array([[-1.28057085,  1.        ],\n",
      "       [-1.37676971,  1.        ],\n",
      "       [-1.66261415,  1.        ],\n",
      "       ...,\n",
      "       [-2.58215909,  1.        ],\n",
      "       [-2.21242697,  1.        ],\n",
      "       [-1.65604684,  1.        ]]), array([[-1.28057085,  1.        ],\n",
      "       [-1.37676971,  1.        ],\n",
      "       [-1.66261415,  1.        ],\n",
      "       ...,\n",
      "       [-2.58215909,  1.        ],\n",
      "       [-2.21242697,  1.        ],\n",
      "       [-1.65604684,  1.        ]])], [array([[-14.39157449,   1.        ],\n",
      "       [-10.29692562,   1.        ],\n",
      "       [ -2.69064825,   1.        ],\n",
      "       ...,\n",
      "       [ 92.69602209,   1.        ],\n",
      "       [ 72.07126303,   1.        ],\n",
      "       [ 46.44469404,   1.        ]]), array([[-14.39157449,   1.        ],\n",
      "       [-10.29692562,   1.        ],\n",
      "       [ -2.69064825,   1.        ],\n",
      "       ...,\n",
      "       [ 92.69602209,   1.        ],\n",
      "       [ 72.07126303,   1.        ],\n",
      "       [ 46.44469404,   1.        ]])]]\n",
      "!Fraction missing points is 0.005575045552201463 for the model 0 neuron 0 and predictor 0\n",
      "!Fraction missing points is 0.003372222675477958 for the model 0 neuron 0 and predictor 1\n",
      "!Fraction missing points is 0.009178428653014603 for the model 0 neuron 0 and predictor 2\n",
      "!Fraction missing points is 0.0033994180196350384 for the model 0 neuron 0 and predictor 3\n",
      "!Fraction missing points is 0.0037257621495200024 for the model 0 neuron 0 and predictor 4\n",
      "!Fraction missing points is 0.007587501019825406 for the model 0 neuron 0 and predictor 5\n",
      "!Fraction missing points is 0.005058334013216937 for the model 0 neuron 0 and predictor 6\n",
      "!Fraction missing points is 0.005112724701531098 for the model 0 neuron 0 and predictor 7\n",
      "!Fraction missing points is 0.005575045552201463 for the model 0 neuron 1 and predictor 0\n",
      "!Fraction missing points is 0.003372222675477958 for the model 0 neuron 1 and predictor 1\n",
      "!Fraction missing points is 0.009178428653014603 for the model 0 neuron 1 and predictor 2\n",
      "!Fraction missing points is 0.0033994180196350384 for the model 0 neuron 1 and predictor 3\n",
      "!Fraction missing points is 0.0037257621495200024 for the model 0 neuron 1 and predictor 4\n",
      "!Fraction missing points is 0.007587501019825406 for the model 0 neuron 1 and predictor 5\n",
      "!Fraction missing points is 0.005058334013216937 for the model 0 neuron 1 and predictor 6\n",
      "!Fraction missing points is 0.005112724701531098 for the model 0 neuron 1 and predictor 7\n",
      "!Fraction missing points is 0.005575045552201463 for the model 1 neuron 0 and predictor 0\n",
      "!Fraction missing points is 0.003372222675477958 for the model 1 neuron 0 and predictor 1\n",
      "!Fraction missing points is 0.009178428653014603 for the model 1 neuron 0 and predictor 2\n",
      "!Fraction missing points is 0.0033994180196350384 for the model 1 neuron 0 and predictor 3\n",
      "!Fraction missing points is 0.0037257621495200024 for the model 1 neuron 0 and predictor 4\n",
      "!Fraction missing points is 0.007587501019825406 for the model 1 neuron 0 and predictor 5\n",
      "!Fraction missing points is 0.005058334013216937 for the model 1 neuron 0 and predictor 6\n",
      "!Fraction missing points is 0.005112724701531098 for the model 1 neuron 0 and predictor 7\n",
      "!Fraction missing points is 0.005575045552201463 for the model 1 neuron 1 and predictor 0\n",
      "!Fraction missing points is 0.003372222675477958 for the model 1 neuron 1 and predictor 1\n",
      "!Fraction missing points is 0.009178428653014603 for the model 1 neuron 1 and predictor 2\n",
      "!Fraction missing points is 0.0033994180196350384 for the model 1 neuron 1 and predictor 3\n",
      "!Fraction missing points is 0.0037257621495200024 for the model 1 neuron 1 and predictor 4\n",
      "!Fraction missing points is 0.007587501019825406 for the model 1 neuron 1 and predictor 5\n",
      "!Fraction missing points is 0.005058334013216937 for the model 1 neuron 1 and predictor 6\n",
      "!Fraction missing points is 0.005112724701531098 for the model 1 neuron 1 and predictor 7\n"
     ]
    }
   ],
   "source": [
    "# processing of data and creation of istances for the inference\n",
    "glmhmms_ista, process_neur, inputs_list, T_list, tot_masked_indices_list, path_plots_list, plots_folder = \\\n",
    "    data_structure(path_info_dir, path_analysis_dir, path_single_pred_dir, data_continous_ratemaps, data_binned_glm,\n",
    "                   dict_param,\n",
    "                   tot_time, cell_index, predictors_name_list, predictor_file=\"test_predictors.csv\")"
   ]
  },
  {
   "cell_type": "code",
   "execution_count": 12,
   "id": "48ee0f47-ac84-40a4-80b0-77c921afa3f4",
   "metadata": {},
   "outputs": [
    {
     "name": "stdout",
     "output_type": "stream",
     "text": [
      "0\n"
     ]
    },
    {
     "data": {
      "application/vnd.jupyter.widget-view+json": {
       "model_id": "a9aa6c14493e45abbffee088e8bd57c9",
       "version_major": 2,
       "version_minor": 0
      },
      "text/plain": [
       "  0%|          | 0/100 [00:00<?, ?it/s]"
      ]
     },
     "metadata": {},
     "output_type": "display_data"
    },
    {
     "name": "stdout",
     "output_type": "stream",
     "text": [
      "computation time loop 0 is 9.713443279266357\n",
      "1\n"
     ]
    },
    {
     "data": {
      "application/vnd.jupyter.widget-view+json": {
       "model_id": "d6a99d664c134df89522d4b6d8485cfc",
       "version_major": 2,
       "version_minor": 0
      },
      "text/plain": [
       "  0%|          | 0/100 [00:00<?, ?it/s]"
      ]
     },
     "metadata": {},
     "output_type": "display_data"
    },
    {
     "name": "stdout",
     "output_type": "stream",
     "text": [
      "computation time loop 1 is 14.18449068069458\n",
      "2\n"
     ]
    },
    {
     "data": {
      "application/vnd.jupyter.widget-view+json": {
       "model_id": "9e8c73f907004f54a0023359db211e54",
       "version_major": 2,
       "version_minor": 0
      },
      "text/plain": [
       "  0%|          | 0/100 [00:00<?, ?it/s]"
      ]
     },
     "metadata": {},
     "output_type": "display_data"
    },
    {
     "name": "stdout",
     "output_type": "stream",
     "text": [
      "computation time loop 2 is 15.862976312637329\n",
      "3\n"
     ]
    },
    {
     "data": {
      "application/vnd.jupyter.widget-view+json": {
       "model_id": "3b4961fb88ae44e091660b034aed162b",
       "version_major": 2,
       "version_minor": 0
      },
      "text/plain": [
       "  0%|          | 0/100 [00:00<?, ?it/s]"
      ]
     },
     "metadata": {},
     "output_type": "display_data"
    },
    {
     "name": "stdout",
     "output_type": "stream",
     "text": [
      "computation time loop 3 is 11.598541498184204\n",
      "4\n"
     ]
    },
    {
     "data": {
      "application/vnd.jupyter.widget-view+json": {
       "model_id": "813126580ecc454ba8294d7b2b5075ee",
       "version_major": 2,
       "version_minor": 0
      },
      "text/plain": [
       "  0%|          | 0/100 [00:00<?, ?it/s]"
      ]
     },
     "metadata": {},
     "output_type": "display_data"
    },
    {
     "name": "stdout",
     "output_type": "stream",
     "text": [
      "computation time loop 4 is 17.033640384674072\n",
      "5\n"
     ]
    },
    {
     "data": {
      "application/vnd.jupyter.widget-view+json": {
       "model_id": "bd741ff1655b49aebd89b4570271ede2",
       "version_major": 2,
       "version_minor": 0
      },
      "text/plain": [
       "  0%|          | 0/100 [00:00<?, ?it/s]"
      ]
     },
     "metadata": {},
     "output_type": "display_data"
    },
    {
     "name": "stdout",
     "output_type": "stream",
     "text": [
      "computation time loop 5 is 8.44988465309143\n",
      "6\n"
     ]
    },
    {
     "data": {
      "application/vnd.jupyter.widget-view+json": {
       "model_id": "68b12184cc0d480c8b3e7b1c9c8d2af0",
       "version_major": 2,
       "version_minor": 0
      },
      "text/plain": [
       "  0%|          | 0/100 [00:00<?, ?it/s]"
      ]
     },
     "metadata": {},
     "output_type": "display_data"
    },
    {
     "name": "stdout",
     "output_type": "stream",
     "text": [
      "computation time loop 6 is 14.332517623901367\n",
      "7\n"
     ]
    },
    {
     "data": {
      "application/vnd.jupyter.widget-view+json": {
       "model_id": "9ff9a34bd5014e54ad8712fbc06e9e8c",
       "version_major": 2,
       "version_minor": 0
      },
      "text/plain": [
       "  0%|          | 0/100 [00:00<?, ?it/s]"
      ]
     },
     "metadata": {},
     "output_type": "display_data"
    },
    {
     "name": "stdout",
     "output_type": "stream",
     "text": [
      "computation time loop 7 is 16.329044580459595\n",
      "0\n"
     ]
    },
    {
     "data": {
      "application/vnd.jupyter.widget-view+json": {
       "model_id": "22cde3ddcb7d467ab735bff04f91b049",
       "version_major": 2,
       "version_minor": 0
      },
      "text/plain": [
       "  0%|          | 0/100 [00:00<?, ?it/s]"
      ]
     },
     "metadata": {},
     "output_type": "display_data"
    },
    {
     "name": "stdout",
     "output_type": "stream",
     "text": [
      "computation time loop 8 is 19.011381149291992\n",
      "1\n"
     ]
    },
    {
     "data": {
      "application/vnd.jupyter.widget-view+json": {
       "model_id": "1bc0f934b6534083aaa3ec3d20100fe9",
       "version_major": 2,
       "version_minor": 0
      },
      "text/plain": [
       "  0%|          | 0/100 [00:00<?, ?it/s]"
      ]
     },
     "metadata": {},
     "output_type": "display_data"
    },
    {
     "name": "stdout",
     "output_type": "stream",
     "text": [
      "computation time loop 9 is 16.91129183769226\n",
      "2\n"
     ]
    },
    {
     "data": {
      "application/vnd.jupyter.widget-view+json": {
       "model_id": "9d52f256716d45409b73ccb25deda969",
       "version_major": 2,
       "version_minor": 0
      },
      "text/plain": [
       "  0%|          | 0/100 [00:00<?, ?it/s]"
      ]
     },
     "metadata": {},
     "output_type": "display_data"
    },
    {
     "name": "stdout",
     "output_type": "stream",
     "text": [
      "computation time loop 10 is 18.420574188232422\n",
      "3\n"
     ]
    },
    {
     "data": {
      "application/vnd.jupyter.widget-view+json": {
       "model_id": "18af6b1e5a1f4131b5cdc0cd3628a361",
       "version_major": 2,
       "version_minor": 0
      },
      "text/plain": [
       "  0%|          | 0/100 [00:00<?, ?it/s]"
      ]
     },
     "metadata": {},
     "output_type": "display_data"
    },
    {
     "name": "stdout",
     "output_type": "stream",
     "text": [
      "computation time loop 11 is 18.430415391921997\n",
      "4\n"
     ]
    },
    {
     "data": {
      "application/vnd.jupyter.widget-view+json": {
       "model_id": "4dba9cfcfba5415d8323aa073b467328",
       "version_major": 2,
       "version_minor": 0
      },
      "text/plain": [
       "  0%|          | 0/100 [00:00<?, ?it/s]"
      ]
     },
     "metadata": {},
     "output_type": "display_data"
    },
    {
     "name": "stdout",
     "output_type": "stream",
     "text": [
      "computation time loop 12 is 18.022186279296875\n",
      "5\n"
     ]
    },
    {
     "data": {
      "application/vnd.jupyter.widget-view+json": {
       "model_id": "399d35a2e01d4dfd9b5240e152cb86ce",
       "version_major": 2,
       "version_minor": 0
      },
      "text/plain": [
       "  0%|          | 0/100 [00:00<?, ?it/s]"
      ]
     },
     "metadata": {},
     "output_type": "display_data"
    },
    {
     "name": "stdout",
     "output_type": "stream",
     "text": [
      "computation time loop 13 is 16.080402374267578\n",
      "6\n"
     ]
    },
    {
     "data": {
      "application/vnd.jupyter.widget-view+json": {
       "model_id": "8874219277da4e1c93386218e686e7ad",
       "version_major": 2,
       "version_minor": 0
      },
      "text/plain": [
       "  0%|          | 0/100 [00:00<?, ?it/s]"
      ]
     },
     "metadata": {},
     "output_type": "display_data"
    },
    {
     "name": "stdout",
     "output_type": "stream",
     "text": [
      "computation time loop 14 is 13.231858253479004\n",
      "7\n"
     ]
    },
    {
     "data": {
      "application/vnd.jupyter.widget-view+json": {
       "model_id": "f3568a744d804142bfa40a4d379f430b",
       "version_major": 2,
       "version_minor": 0
      },
      "text/plain": [
       "  0%|          | 0/100 [00:00<?, ?it/s]"
      ]
     },
     "metadata": {},
     "output_type": "display_data"
    },
    {
     "name": "stdout",
     "output_type": "stream",
     "text": [
      "computation time loop 15 is 15.940877437591553\n",
      "The total time for the inference is 243.55352592468262\n",
      "the input list after inference is (73132, 2)\n"
     ]
    }
   ],
   "source": [
    "fit_ll_states_list, glmhmms_ista, time_states_comp = inference_section(path_analysis_dir, path_info_dir, dict_param,\n",
    "                                                                       glmhmms_ista=glmhmms_ista, process_neur=process_neur,\n",
    "                                                                       inputs_list=inputs_list)"
   ]
  },
  {
   "cell_type": "code",
   "execution_count": null,
   "id": "7d088a93-aed5-4117-b1e4-fba5eaa8e456",
   "metadata": {},
   "outputs": [],
   "source": [
    "posterior_probs_list = posterior_prob_process(path_info_dir, path_analysis_dir, dict_param=dict_param,\n",
    "                                              glmhmms_ista=glmhmms_ista, process_neur=process_neur,\n",
    "                                              inputs_list=inputs_list)"
   ]
  },
  {
   "cell_type": "code",
   "execution_count": null,
   "id": "fdda662e-f9a4-4f2c-bf2e-ddf7ca0f866b",
   "metadata": {},
   "outputs": [],
   "source": [
    "states_occupancies = states_occupancies_computation(path_analysis_dir, posterior_probs_list)"
   ]
  },
  {
   "cell_type": "code",
   "execution_count": null,
   "id": "8c55b6f1-96ac-4c73-ad13-cd38497e37e5",
   "metadata": {},
   "outputs": [],
   "source": [
    "log_like_evolution_per_states(path_analysis_dir, path_info_dir, dict_objects=0, dict_processed_objects=0,\n",
    "                              dictionary_information=0)"
   ]
  },
  {
   "cell_type": "code",
   "execution_count": null,
   "id": "c50de3a6-ecab-4193-8f11-11d651eab088",
   "metadata": {},
   "outputs": [],
   "source": [
    "states_occupancies_histogram(path_analysis_dir, path_info_dir, dict_param=dict_param,\n",
    "                             states_occupancies=states_occupancies)"
   ]
  },
  {
   "cell_type": "code",
   "execution_count": null,
   "id": "f7a26b40-ae45-4879-9570-83698c5ffaca",
   "metadata": {},
   "outputs": [],
   "source": [
    "transition_prob_matrix(path_analysis_dir, path_info_dir, glmhmms_ista=glmhmms_ista, dict_param=dict_param)"
   ]
  },
  {
   "cell_type": "code",
   "execution_count": null,
   "id": "7a89623b-3355-46e3-a13e-0d3fa60bcd9e",
   "metadata": {},
   "outputs": [],
   "source": [
    "weights_distribution_histogram(path_analysis_dir, path_info_dir, animal_name=animal_name)"
   ]
  }
 ],
 "metadata": {
  "kernelspec": {
   "display_name": "Python 3 (ipykernel)",
   "language": "python",
   "name": "python3"
  },
  "language_info": {
   "codemirror_mode": {
    "name": "ipython",
    "version": 3
   },
   "file_extension": ".py",
   "mimetype": "text/x-python",
   "name": "python",
   "nbconvert_exporter": "python",
   "pygments_lexer": "ipython3",
   "version": "3.9.5"
  }
 },
 "nbformat": 4,
 "nbformat_minor": 5
}
