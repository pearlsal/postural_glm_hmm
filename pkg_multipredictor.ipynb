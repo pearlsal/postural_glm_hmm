{
 "cells": [
  {
   "cell_type": "code",
   "execution_count": null,
   "id": "6a12a90f-807d-4042-bffd-05f2becd4358",
   "metadata": {},
   "outputs": [],
   "source": [
    "\"\"\" \n",
    "Notebook to work with loaded data. \n",
    "The package save automatically the output of the inference in pickle files. \n",
    "When you want to just analyze data, you can use the following commands.\n",
    "\"\"\""
   ]
  },
  {
   "cell_type": "code",
   "execution_count": 3,
   "id": "be11afac-379b-44ad-9141-7413ec89f385",
   "metadata": {},
   "outputs": [],
   "source": [
    "from test_beta_package import *"
   ]
  },
  {
   "cell_type": "code",
   "execution_count": 4,
   "id": "40417bc8-a7ab-4513-9abe-64b0c237ca8c",
   "metadata": {},
   "outputs": [],
   "source": [
    "# first you check that the structure of folders is valid and you save them in the memory #\n",
    "path_data_folder, path_raw_data_folder, path_process_data_folder, path_top_folder, path_info_dir, path_analysis_dir, \\\n",
    "path_plots_dir, path_single_pred_dir, path_multi_pred_dir = folder_structure()"
   ]
  },
  {
   "cell_type": "code",
   "execution_count": 6,
   "id": "1990b6f9-9366-4031-a06c-f5de90210991",
   "metadata": {},
   "outputs": [
    {
     "name": "stdout",
     "output_type": "stream",
     "text": [
      "Total computation time for posterior probability is 1.113778829574585\n",
      "state of occupancy is [[[[array([[4.96767130e-01, 5.03232870e-01],\n",
      "       [9.99917953e-01, 8.20471488e-05],\n",
      "       [9.99999807e-01, 1.93234575e-07],\n",
      "       ...,\n",
      "       [9.72244697e-01, 2.77553031e-02],\n",
      "       [9.73824609e-01, 2.61753914e-02],\n",
      "       [9.76293567e-01, 2.37064330e-02]])], [array([[4.97529188e-01, 5.02470812e-01],\n",
      "       [5.50511042e-02, 9.44948896e-01],\n",
      "       [6.10756664e-03, 9.93892433e-01],\n",
      "       ...,\n",
      "       [3.50327614e-06, 9.99996497e-01],\n",
      "       [3.40592805e-06, 9.99996594e-01],\n",
      "       [3.31232774e-06, 9.99996688e-01]])]], [[array([[5.00113943e-01, 4.99886057e-01],\n",
      "       [9.99962930e-01, 3.70704392e-05],\n",
      "       [9.99999994e-01, 5.69029093e-09],\n",
      "       ...,\n",
      "       [9.98752312e-01, 1.24768779e-03],\n",
      "       [9.98834227e-01, 1.16577307e-03],\n",
      "       [9.98956112e-01, 1.04388795e-03]])], [array([[0.99658703, 0.00341297],\n",
      "       [0.97800348, 0.02199652],\n",
      "       [0.95996521, 0.04003479],\n",
      "       ...,\n",
      "       [0.30300989, 0.69699011],\n",
      "       [0.30301444, 0.69698556],\n",
      "       [0.30299999, 0.69700001]])]]], [[[array([[3.84067462e-02, 6.04754639e-02, 9.01117790e-01],\n",
      "       [2.47843502e-09, 3.73175121e-11, 9.99999997e-01],\n",
      "       [1.25142603e-09, 8.34097359e-12, 9.99999999e-01],\n",
      "       ...,\n",
      "       [1.94647882e-01, 3.22610704e-02, 7.73091047e-01],\n",
      "       [1.88977961e-01, 2.29638036e-02, 7.88058236e-01],\n",
      "       [1.84262056e-01, 1.76835746e-02, 7.98054370e-01]])], [array([[4.20380011e-06, 1.18429961e-04, 9.99877366e-01],\n",
      "       [1.06270596e-06, 1.74817611e-05, 9.99981456e-01],\n",
      "       [1.04018044e-06, 1.62950665e-05, 9.99982665e-01],\n",
      "       ...,\n",
      "       [3.04332448e-01, 6.95665927e-01, 1.62510702e-06],\n",
      "       [2.23367175e-01, 3.43377918e-01, 4.33254907e-01],\n",
      "       [6.28243652e-01, 3.71756345e-01, 3.05492004e-09]])]], [[array([[4.17132754e-08, 9.95333398e-01, 4.66656065e-03],\n",
      "       [1.69287751e-04, 9.99830712e-01, 5.91131222e-11],\n",
      "       [1.17523019e-04, 9.99882477e-01, 3.72626652e-13],\n",
      "       ...,\n",
      "       [7.88148240e-03, 9.85066936e-01, 7.05158174e-03],\n",
      "       [1.39847947e-02, 9.76465540e-01, 9.54966565e-03],\n",
      "       [2.78654335e-02, 9.59888755e-01, 1.22458120e-02]])], [array([[9.96414557e-01, 1.01469332e-03, 2.57075007e-03],\n",
      "       [9.99999992e-01, 1.55668844e-09, 6.00882259e-09],\n",
      "       [9.99999998e-01, 2.63879686e-10, 1.60815726e-09],\n",
      "       ...,\n",
      "       [1.00000000e+00, 9.24441181e-14, 1.43030211e-12],\n",
      "       [1.00000000e+00, 8.89629000e-14, 1.38264101e-12],\n",
      "       [1.00000000e+00, 7.71353716e-14, 1.21901479e-12]])]]]]\n"
     ]
    }
   ],
   "source": [
    "# Below you process the posterior probability and states occupancies # #if you haven't computed before#\n",
    "posterior_probs_list = posterior_prob_process(path_info_dir, path_analysis_dir, dict_processed_objects=0)\n",
    "states_occupancies = states_occupancies_computation(path_analysis_dir, posterior_probs_list=None, dict_posterior=0)"
   ]
  },
  {
   "cell_type": "code",
   "execution_count": 5,
   "id": "7acf38d9-9ec2-49fd-b878-5b72db866f54",
   "metadata": {},
   "outputs": [],
   "source": [
    "# Below you can start to plot the quantities you are interested in #"
   ]
  },
  {
   "cell_type": "code",
   "execution_count": 26,
   "id": "66045257-2a4b-4463-8e07-0ccff57dbbab",
   "metadata": {},
   "outputs": [
    {
     "ename": "NameError",
     "evalue": "name 'colors_number_and_info_plot' is not defined",
     "output_type": "error",
     "traceback": [
      "\u001b[1;31m------------------------------------------------------------------\u001b[0m",
      "\u001b[1;31mNameError\u001b[0m                        Traceback (most recent call last)",
      "Input \u001b[1;32mIn [26]\u001b[0m, in \u001b[0;36m<cell line: 2>\u001b[1;34m()\u001b[0m\n\u001b[0;32m      1\u001b[0m \u001b[38;5;28;01mfrom\u001b[39;00m \u001b[38;5;21;01mtest_beta_package\u001b[39;00m \u001b[38;5;28;01mimport\u001b[39;00m \u001b[38;5;241m*\u001b[39m\n\u001b[1;32m----> 2\u001b[0m \u001b[43mlog_like_evolution_per_states\u001b[49m\u001b[43m(\u001b[49m\u001b[43mpath_analysis_dir\u001b[49m\u001b[43m,\u001b[49m\u001b[43m \u001b[49m\u001b[43mpath_info_dir\u001b[49m\u001b[43m,\u001b[49m\u001b[43m \u001b[49m\u001b[43mdict_objects\u001b[49m\u001b[38;5;241;43m=\u001b[39;49m\u001b[38;5;241;43m0\u001b[39;49m\u001b[43m,\u001b[49m\u001b[43m \u001b[49m\u001b[43mdict_processed_objects\u001b[49m\u001b[38;5;241;43m=\u001b[39;49m\u001b[38;5;241;43m0\u001b[39;49m\u001b[43m)\u001b[49m\n",
      "File \u001b[1;32m~\\PycharmProjects\\pythonREGITglmhmm\\postural_glm_hmm\\test_beta_package\\post_inference_plots.py:31\u001b[0m, in \u001b[0;36mlog_like_evolution_per_states\u001b[1;34m(path_analysis_dir, path_info_dir, plots_dir, dict_param, fit_ll_states_list, dict_objects, dict_processed_objects)\u001b[0m\n\u001b[0;32m     26\u001b[0m         dict_param \u001b[38;5;241m=\u001b[39m pickle\u001b[38;5;241m.\u001b[39mload(handle)\n\u001b[0;32m     29\u001b[0m \u001b[38;5;66;03m# TODO: separate dpi, fcc, ec function\u001b[39;00m\n\u001b[0;32m     30\u001b[0m colors_states, dpi, fcc, ec, post_description_savefig \u001b[38;5;241m=\u001b[39m \\\n\u001b[1;32m---> 31\u001b[0m     \u001b[43mcolors_number_and_info_plot\u001b[49m(dict_param, colors_number\u001b[38;5;241m=\u001b[39m\u001b[38;5;28mlen\u001b[39m(fit_ll_states_list))\n\u001b[0;32m     33\u001b[0m \u001b[38;5;28mprint\u001b[39m(\u001b[38;5;28mlen\u001b[39m(fit_ll_states_list), \u001b[38;5;28mlen\u001b[39m(fit_ll_states_list[\u001b[38;5;241m0\u001b[39m]))\n\u001b[0;32m     35\u001b[0m fig \u001b[38;5;241m=\u001b[39m plt\u001b[38;5;241m.\u001b[39mfigure(figsize\u001b[38;5;241m=\u001b[39m(\u001b[38;5;241m7\u001b[39m, \u001b[38;5;241m5\u001b[39m), dpi\u001b[38;5;241m=\u001b[39mdpi, facecolor\u001b[38;5;241m=\u001b[39mfcc, edgecolor\u001b[38;5;241m=\u001b[39mec)\n",
      "\u001b[1;31mNameError\u001b[0m: name 'colors_number_and_info_plot' is not defined"
     ]
    }
   ],
   "source": [
    "from test_beta_package import *\n",
    "log_like_evolution_per_states(path_analysis_dir, path_info_dir, dict_objects=0, dict_processed_objects=0)"
   ]
  },
  {
   "cell_type": "code",
   "execution_count": 24,
   "id": "88ab772f-7e20-4565-9ec1-d9089d2f6b28",
   "metadata": {},
   "outputs": [],
   "source": [
    "from test_beta_package import *"
   ]
  },
  {
   "cell_type": "code",
   "execution_count": 25,
   "id": "5fc2797d-a696-4a91-adfd-d440b3a573a8",
   "metadata": {},
   "outputs": [
    {
     "ename": "TypeError",
     "evalue": "colors_number_and_info_plot() missing 1 required positional argument: 'dict_param'",
     "output_type": "error",
     "traceback": [
      "\u001b[1;31m------------------------------------------------------------------\u001b[0m",
      "\u001b[1;31mTypeError\u001b[0m                        Traceback (most recent call last)",
      "Input \u001b[1;32mIn [25]\u001b[0m, in \u001b[0;36m<cell line: 1>\u001b[1;34m()\u001b[0m\n\u001b[1;32m----> 1\u001b[0m \u001b[43mcolors_number_and_info_plot\u001b[49m\u001b[43m(\u001b[49m\u001b[43mcolors_number\u001b[49m\u001b[38;5;241;43m=\u001b[39;49m\u001b[38;5;241;43m3\u001b[39;49m\u001b[43m)\u001b[49m\n",
      "\u001b[1;31mTypeError\u001b[0m: colors_number_and_info_plot() missing 1 required positional argument: 'dict_param'"
     ]
    }
   ],
   "source": [
    "\n",
    "colors_number_and_info_plot(colors_number=3)"
   ]
  },
  {
   "cell_type": "code",
   "execution_count": 16,
   "id": "8400560e-b877-4cfe-9b0d-9732bd7fa3d9",
   "metadata": {},
   "outputs": [
    {
     "name": "stdout",
     "output_type": "stream",
     "text": [
      "state of occupancy is [2.23705081e-02 1.36739047e-05 9.77615818e-01]\n"
     ]
    },
    {
     "ename": "NameError",
     "evalue": "name 'colors_number_and_info_plot' is not defined",
     "output_type": "error",
     "traceback": [
      "\u001b[1;31m------------------------------------------------------------------\u001b[0m",
      "\u001b[1;31mNameError\u001b[0m                        Traceback (most recent call last)",
      "Input \u001b[1;32mIn [16]\u001b[0m, in \u001b[0;36m<cell line: 1>\u001b[1;34m()\u001b[0m\n\u001b[1;32m----> 1\u001b[0m \u001b[43mstates_occupancies_histogram\u001b[49m\u001b[43m(\u001b[49m\u001b[43mpath_analysis_dir\u001b[49m\u001b[43m,\u001b[49m\u001b[43m \u001b[49m\u001b[43mpath_info_dir\u001b[49m\u001b[43m,\u001b[49m\u001b[43m \u001b[49m\u001b[43mdict_param\u001b[49m\u001b[38;5;241;43m=\u001b[39;49m\u001b[38;5;241;43m0\u001b[39;49m\u001b[43m,\u001b[49m\u001b[43m \u001b[49m\u001b[43mfile_states_occup\u001b[49m\u001b[38;5;241;43m=\u001b[39;49m\u001b[38;5;241;43m0\u001b[39;49m\u001b[43m,\u001b[49m\u001b[43mstates_occupancies\u001b[49m\u001b[38;5;241;43m=\u001b[39;49m\u001b[43mstates_occupancies\u001b[49m\u001b[43m)\u001b[49m\n",
      "File \u001b[1;32m~\\PycharmProjects\\pythonREGITglmhmm\\postural_glm_hmm\\test_beta_package\\post_inference_plots.py:143\u001b[0m, in \u001b[0;36mstates_occupancies_histogram\u001b[1;34m(path_analysis_dir, path_info_dir, dict_param, file_states_occup, states_occupancies)\u001b[0m\n\u001b[0;32m    138\u001b[0m         dict_objects \u001b[38;5;241m=\u001b[39m pickle\u001b[38;5;241m.\u001b[39mload(handle)\n\u001b[0;32m    139\u001b[0m         plots_dir \u001b[38;5;241m=\u001b[39m dict_objects[\u001b[38;5;124m'\u001b[39m\u001b[38;5;124mpath_plots_list\u001b[39m\u001b[38;5;124m'\u001b[39m][\u001b[38;5;241m0\u001b[39m]\n\u001b[0;32m    142\u001b[0m colors_states, dpi, fcc, ec, post_description_savefig \u001b[38;5;241m=\u001b[39m \\\n\u001b[1;32m--> 143\u001b[0m     \u001b[43mcolors_number_and_info_plot\u001b[49m(dict_param, colors_number\u001b[38;5;241m=\u001b[39m\u001b[38;5;241m3\u001b[39m)\n\u001b[0;32m    145\u001b[0m fig \u001b[38;5;241m=\u001b[39m plt\u001b[38;5;241m.\u001b[39mfigure(figsize\u001b[38;5;241m=\u001b[39m(\u001b[38;5;241m2\u001b[39m, \u001b[38;5;241m2.5\u001b[39m), dpi\u001b[38;5;241m=\u001b[39m\u001b[38;5;241m80\u001b[39m, facecolor\u001b[38;5;241m=\u001b[39mfcc, edgecolor\u001b[38;5;241m=\u001b[39mec)\n\u001b[0;32m    146\u001b[0m \u001b[38;5;28;01mfor\u001b[39;00m z, occ \u001b[38;5;129;01min\u001b[39;00m \u001b[38;5;28menumerate\u001b[39m(states_occupancies):\n",
      "\u001b[1;31mNameError\u001b[0m: name 'colors_number_and_info_plot' is not defined"
     ]
    }
   ],
   "source": [
    "states_occupancies_histogram(path_analysis_dir, path_info_dir, dict_param=0, file_states_occup=0,states_occupancies=states_occupancies)\n"
   ]
  },
  {
   "cell_type": "code",
   "execution_count": 8,
   "id": "205e45fd-5070-43dc-8abf-b1386963854d",
   "metadata": {},
   "outputs": [
    {
     "ename": "NameError",
     "evalue": "name 'transition_prob_matrix' is not defined",
     "output_type": "error",
     "traceback": [
      "\u001b[1;31m------------------------------------------------------------------\u001b[0m",
      "\u001b[1;31mNameError\u001b[0m                        Traceback (most recent call last)",
      "\u001b[1;32m~\\AppData\\Local\\Temp\\ipykernel_8488\\2082137140.py\u001b[0m in \u001b[0;36m<module>\u001b[1;34m\u001b[0m\n\u001b[1;32m----> 1\u001b[1;33m \u001b[0mtransition_prob_matrix\u001b[0m\u001b[1;33m(\u001b[0m\u001b[0mpath_analysis_dir\u001b[0m\u001b[1;33m,\u001b[0m \u001b[0mpath_info_dir\u001b[0m\u001b[1;33m,\u001b[0m \u001b[0mdict_param\u001b[0m\u001b[1;33m=\u001b[0m\u001b[1;36m0\u001b[0m\u001b[1;33m,\u001b[0m \u001b[0mdict_processed_objects\u001b[0m\u001b[1;33m=\u001b[0m\u001b[1;36m0\u001b[0m\u001b[1;33m)\u001b[0m\u001b[1;33m\u001b[0m\u001b[1;33m\u001b[0m\u001b[0m\n\u001b[0m",
      "\u001b[1;31mNameError\u001b[0m: name 'transition_prob_matrix' is not defined"
     ]
    }
   ],
   "source": [
    "transition_prob_matrix(path_analysis_dir, path_info_dir, dict_param=0, dict_processed_objects=0)\n"
   ]
  },
  {
   "cell_type": "code",
   "execution_count": 9,
   "id": "92736819-c216-4b74-8a15-0964807da07b",
   "metadata": {},
   "outputs": [
    {
     "ename": "NameError",
     "evalue": "name 'weights_distribution_histogram' is not defined",
     "output_type": "error",
     "traceback": [
      "\u001b[1;31m------------------------------------------------------------------\u001b[0m",
      "\u001b[1;31mNameError\u001b[0m                        Traceback (most recent call last)",
      "\u001b[1;32m~\\AppData\\Local\\Temp\\ipykernel_8488\\913662333.py\u001b[0m in \u001b[0;36m<module>\u001b[1;34m\u001b[0m\n\u001b[1;32m----> 1\u001b[1;33m \u001b[0mweights_distribution_histogram\u001b[0m\u001b[1;33m(\u001b[0m\u001b[0mpath_analysis_dir\u001b[0m\u001b[1;33m,\u001b[0m \u001b[0mpath_info_dir\u001b[0m\u001b[1;33m)\u001b[0m\u001b[1;33m\u001b[0m\u001b[1;33m\u001b[0m\u001b[0m\n\u001b[0m",
      "\u001b[1;31mNameError\u001b[0m: name 'weights_distribution_histogram' is not defined"
     ]
    }
   ],
   "source": [
    "weights_distribution_histogram(path_analysis_dir, path_info_dir)\n"
   ]
  },
  {
   "cell_type": "code",
   "execution_count": null,
   "id": "28eb7001-f7c2-482c-9546-801ee75c7bcb",
   "metadata": {},
   "outputs": [],
   "source": []
  }
 ],
 "metadata": {
  "kernelspec": {
   "display_name": "Python 3 (ipykernel)",
   "language": "python",
   "name": "python3"
  },
  "language_info": {
   "codemirror_mode": {
    "name": "ipython",
    "version": 3
   },
   "file_extension": ".py",
   "mimetype": "text/x-python",
   "name": "python",
   "nbconvert_exporter": "python",
   "pygments_lexer": "ipython3",
   "version": "3.9.5"
  }
 },
 "nbformat": 4,
 "nbformat_minor": 5
}
