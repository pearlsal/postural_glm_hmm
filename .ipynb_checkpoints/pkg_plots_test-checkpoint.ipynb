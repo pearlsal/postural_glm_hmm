{
 "cells": [
  {
   "cell_type": "code",
   "execution_count": null,
   "id": "6a12a90f-807d-4042-bffd-05f2becd4358",
   "metadata": {},
   "outputs": [],
   "source": [
    "\"\"\" \n",
    "Notebook to work with loaded data. \n",
    "The package save automatically the output of the inference in pickle files. \n",
    "When you want to just analyze data, you can use the following commands.\n",
    "\"\"\""
   ]
  },
  {
   "cell_type": "code",
   "execution_count": 2,
   "id": "be11afac-379b-44ad-9141-7413ec89f385",
   "metadata": {},
   "outputs": [
    {
     "ename": "ModuleNotFoundError",
     "evalue": "No module named 'test_beta_package'",
     "output_type": "error",
     "traceback": [
      "\u001b[1;31m------------------------------------------------------------------\u001b[0m",
      "\u001b[1;31mModuleNotFoundError\u001b[0m              Traceback (most recent call last)",
      "\u001b[1;32m~\\AppData\\Local\\Temp\\ipykernel_8488\\1959367883.py\u001b[0m in \u001b[0;36m<module>\u001b[1;34m\u001b[0m\n\u001b[1;32m----> 1\u001b[1;33m \u001b[1;32mfrom\u001b[0m \u001b[0mtest_beta_package\u001b[0m \u001b[1;32mimport\u001b[0m \u001b[1;33m*\u001b[0m\u001b[1;33m\u001b[0m\u001b[1;33m\u001b[0m\u001b[0m\n\u001b[0m",
      "\u001b[1;31mModuleNotFoundError\u001b[0m: No module named 'test_beta_package'"
     ]
    }
   ],
   "source": [
    "from test_beta_package import *"
   ]
  },
  {
   "cell_type": "code",
   "execution_count": 3,
   "id": "40417bc8-a7ab-4513-9abe-64b0c237ca8c",
   "metadata": {},
   "outputs": [
    {
     "ename": "NameError",
     "evalue": "name 'folder_structure' is not defined",
     "output_type": "error",
     "traceback": [
      "\u001b[1;31m------------------------------------------------------------------\u001b[0m",
      "\u001b[1;31mNameError\u001b[0m                        Traceback (most recent call last)",
      "\u001b[1;32m~\\AppData\\Local\\Temp\\ipykernel_8488\\279002817.py\u001b[0m in \u001b[0;36m<module>\u001b[1;34m\u001b[0m\n\u001b[0;32m      1\u001b[0m \u001b[1;31m# first you check that the structure of folders is valid and you save them in the memory #\u001b[0m\u001b[1;33m\u001b[0m\u001b[1;33m\u001b[0m\u001b[1;33m\u001b[0m\u001b[0m\n\u001b[0;32m      2\u001b[0m \u001b[0mpath_data_folder\u001b[0m\u001b[1;33m,\u001b[0m \u001b[0mpath_raw_data_folder\u001b[0m\u001b[1;33m,\u001b[0m \u001b[0mpath_process_data_folder\u001b[0m\u001b[1;33m,\u001b[0m \u001b[0mpath_top_folder\u001b[0m\u001b[1;33m,\u001b[0m \u001b[0mpath_info_dir\u001b[0m\u001b[1;33m,\u001b[0m \u001b[0mpath_analysis_dir\u001b[0m\u001b[1;33m,\u001b[0m\u001b[0;31m \u001b[0m\u001b[0;31m\\\u001b[0m\u001b[1;33m\u001b[0m\u001b[1;33m\u001b[0m\u001b[0m\n\u001b[1;32m----> 3\u001b[1;33m \u001b[0mpath_plots_dir\u001b[0m\u001b[1;33m,\u001b[0m \u001b[0mpath_single_pred_dir\u001b[0m\u001b[1;33m,\u001b[0m \u001b[0mpath_multi_pred_dir\u001b[0m \u001b[1;33m=\u001b[0m \u001b[0mfolder_structure\u001b[0m\u001b[1;33m(\u001b[0m\u001b[1;33m)\u001b[0m\u001b[1;33m\u001b[0m\u001b[1;33m\u001b[0m\u001b[0m\n\u001b[0m",
      "\u001b[1;31mNameError\u001b[0m: name 'folder_structure' is not defined"
     ]
    }
   ],
   "source": [
    "# first you check that the structure of folders is valid and you save them in the memory #\n",
    "path_data_folder, path_raw_data_folder, path_process_data_folder, path_top_folder, path_info_dir, path_analysis_dir, \\\n",
    "path_plots_dir, path_single_pred_dir, path_multi_pred_dir = folder_structure()"
   ]
  },
  {
   "cell_type": "code",
   "execution_count": 4,
   "id": "1990b6f9-9366-4031-a06c-f5de90210991",
   "metadata": {},
   "outputs": [
    {
     "ename": "NameError",
     "evalue": "name 'posterior_prob_process' is not defined",
     "output_type": "error",
     "traceback": [
      "\u001b[1;31m------------------------------------------------------------------\u001b[0m",
      "\u001b[1;31mNameError\u001b[0m                        Traceback (most recent call last)",
      "\u001b[1;32m~\\AppData\\Local\\Temp\\ipykernel_8488\\664556935.py\u001b[0m in \u001b[0;36m<module>\u001b[1;34m\u001b[0m\n\u001b[0;32m      1\u001b[0m \u001b[1;31m# Below you process the posterior probability and states occupancies # #if you haven't computed before#\u001b[0m\u001b[1;33m\u001b[0m\u001b[1;33m\u001b[0m\u001b[1;33m\u001b[0m\u001b[0m\n\u001b[1;32m----> 2\u001b[1;33m \u001b[0mposterior_probs_list\u001b[0m \u001b[1;33m=\u001b[0m \u001b[0mposterior_prob_process\u001b[0m\u001b[1;33m(\u001b[0m\u001b[0mpath_info_dir\u001b[0m\u001b[1;33m,\u001b[0m \u001b[0mpath_analysis_dir\u001b[0m\u001b[1;33m,\u001b[0m \u001b[0mdict_processed_objects\u001b[0m\u001b[1;33m=\u001b[0m\u001b[1;36m0\u001b[0m\u001b[1;33m)\u001b[0m\u001b[1;33m\u001b[0m\u001b[1;33m\u001b[0m\u001b[0m\n\u001b[0m\u001b[0;32m      3\u001b[0m \u001b[0mstates_occupancies\u001b[0m \u001b[1;33m=\u001b[0m \u001b[0mstates_occupancies_computation\u001b[0m\u001b[1;33m(\u001b[0m\u001b[0mpath_analysis_dir\u001b[0m\u001b[1;33m,\u001b[0m \u001b[0mposterior_probs_list\u001b[0m\u001b[1;33m=\u001b[0m\u001b[1;32mNone\u001b[0m\u001b[1;33m,\u001b[0m \u001b[0mdict_posterior\u001b[0m\u001b[1;33m=\u001b[0m\u001b[1;32mNone\u001b[0m\u001b[1;33m)\u001b[0m\u001b[1;33m\u001b[0m\u001b[1;33m\u001b[0m\u001b[0m\n",
      "\u001b[1;31mNameError\u001b[0m: name 'posterior_prob_process' is not defined"
     ]
    }
   ],
   "source": [
    "# Below you process the posterior probability and states occupancies # #if you haven't computed before#\n",
    "posterior_probs_list = posterior_prob_process(path_info_dir, path_analysis_dir, dict_processed_objects=0)\n",
    "states_occupancies = states_occupancies_computation(path_analysis_dir, posterior_probs_list=None, dict_posterior=None)"
   ]
  },
  {
   "cell_type": "code",
   "execution_count": 5,
   "id": "7acf38d9-9ec2-49fd-b878-5b72db866f54",
   "metadata": {},
   "outputs": [],
   "source": [
    "# Below you can start to plot the quantities you are interested in #"
   ]
  },
  {
   "cell_type": "code",
   "execution_count": 6,
   "id": "66045257-2a4b-4463-8e07-0ccff57dbbab",
   "metadata": {},
   "outputs": [
    {
     "ename": "NameError",
     "evalue": "name 'log_like_evolution_per_states' is not defined",
     "output_type": "error",
     "traceback": [
      "\u001b[1;31m------------------------------------------------------------------\u001b[0m",
      "\u001b[1;31mNameError\u001b[0m                        Traceback (most recent call last)",
      "\u001b[1;32m~\\AppData\\Local\\Temp\\ipykernel_8488\\32254347.py\u001b[0m in \u001b[0;36m<module>\u001b[1;34m\u001b[0m\n\u001b[1;32m----> 1\u001b[1;33m \u001b[0mlog_like_evolution_per_states\u001b[0m\u001b[1;33m(\u001b[0m\u001b[0mpath_analysis_dir\u001b[0m\u001b[1;33m,\u001b[0m \u001b[0mpath_info_dir\u001b[0m\u001b[1;33m,\u001b[0m \u001b[0mdict_objects\u001b[0m\u001b[1;33m=\u001b[0m\u001b[1;36m0\u001b[0m\u001b[1;33m,\u001b[0m \u001b[0mdict_processed_objects\u001b[0m\u001b[1;33m=\u001b[0m\u001b[1;36m0\u001b[0m\u001b[1;33m)\u001b[0m\u001b[1;33m\u001b[0m\u001b[1;33m\u001b[0m\u001b[0m\n\u001b[0m",
      "\u001b[1;31mNameError\u001b[0m: name 'log_like_evolution_per_states' is not defined"
     ]
    }
   ],
   "source": [
    "log_like_evolution_per_states(path_analysis_dir, path_info_dir, dict_objects=0, dict_processed_objects=0)"
   ]
  },
  {
   "cell_type": "code",
   "execution_count": 7,
   "id": "8400560e-b877-4cfe-9b0d-9732bd7fa3d9",
   "metadata": {},
   "outputs": [
    {
     "ename": "NameError",
     "evalue": "name 'states_occupancies_histogram' is not defined",
     "output_type": "error",
     "traceback": [
      "\u001b[1;31m------------------------------------------------------------------\u001b[0m",
      "\u001b[1;31mNameError\u001b[0m                        Traceback (most recent call last)",
      "\u001b[1;32m~\\AppData\\Local\\Temp\\ipykernel_8488\\1285254051.py\u001b[0m in \u001b[0;36m<module>\u001b[1;34m\u001b[0m\n\u001b[1;32m----> 1\u001b[1;33m \u001b[0mstates_occupancies_histogram\u001b[0m\u001b[1;33m(\u001b[0m\u001b[0mpath_analysis_dir\u001b[0m\u001b[1;33m,\u001b[0m \u001b[0mpath_info_dir\u001b[0m\u001b[1;33m,\u001b[0m \u001b[0mdict_param\u001b[0m\u001b[1;33m=\u001b[0m\u001b[1;36m0\u001b[0m\u001b[1;33m,\u001b[0m \u001b[0mfile_states_occup\u001b[0m\u001b[1;33m=\u001b[0m\u001b[1;36m0\u001b[0m\u001b[1;33m,\u001b[0m\u001b[0mstates_occupancies\u001b[0m\u001b[1;33m=\u001b[0m\u001b[0mstates_occupancies\u001b[0m\u001b[1;33m)\u001b[0m\u001b[1;33m\u001b[0m\u001b[1;33m\u001b[0m\u001b[0m\n\u001b[0m",
      "\u001b[1;31mNameError\u001b[0m: name 'states_occupancies_histogram' is not defined"
     ]
    }
   ],
   "source": [
    "states_occupancies_histogram(path_analysis_dir, path_info_dir, dict_param=0, file_states_occup=0,states_occupancies=states_occupancies)\n"
   ]
  },
  {
   "cell_type": "code",
   "execution_count": 8,
   "id": "205e45fd-5070-43dc-8abf-b1386963854d",
   "metadata": {},
   "outputs": [
    {
     "ename": "NameError",
     "evalue": "name 'transition_prob_matrix' is not defined",
     "output_type": "error",
     "traceback": [
      "\u001b[1;31m------------------------------------------------------------------\u001b[0m",
      "\u001b[1;31mNameError\u001b[0m                        Traceback (most recent call last)",
      "\u001b[1;32m~\\AppData\\Local\\Temp\\ipykernel_8488\\2082137140.py\u001b[0m in \u001b[0;36m<module>\u001b[1;34m\u001b[0m\n\u001b[1;32m----> 1\u001b[1;33m \u001b[0mtransition_prob_matrix\u001b[0m\u001b[1;33m(\u001b[0m\u001b[0mpath_analysis_dir\u001b[0m\u001b[1;33m,\u001b[0m \u001b[0mpath_info_dir\u001b[0m\u001b[1;33m,\u001b[0m \u001b[0mdict_param\u001b[0m\u001b[1;33m=\u001b[0m\u001b[1;36m0\u001b[0m\u001b[1;33m,\u001b[0m \u001b[0mdict_processed_objects\u001b[0m\u001b[1;33m=\u001b[0m\u001b[1;36m0\u001b[0m\u001b[1;33m)\u001b[0m\u001b[1;33m\u001b[0m\u001b[1;33m\u001b[0m\u001b[0m\n\u001b[0m",
      "\u001b[1;31mNameError\u001b[0m: name 'transition_prob_matrix' is not defined"
     ]
    }
   ],
   "source": [
    "transition_prob_matrix(path_analysis_dir, path_info_dir, dict_param=0, dict_processed_objects=0)\n"
   ]
  },
  {
   "cell_type": "code",
   "execution_count": 9,
   "id": "92736819-c216-4b74-8a15-0964807da07b",
   "metadata": {},
   "outputs": [
    {
     "ename": "NameError",
     "evalue": "name 'weights_distribution_histogram' is not defined",
     "output_type": "error",
     "traceback": [
      "\u001b[1;31m------------------------------------------------------------------\u001b[0m",
      "\u001b[1;31mNameError\u001b[0m                        Traceback (most recent call last)",
      "\u001b[1;32m~\\AppData\\Local\\Temp\\ipykernel_8488\\913662333.py\u001b[0m in \u001b[0;36m<module>\u001b[1;34m\u001b[0m\n\u001b[1;32m----> 1\u001b[1;33m \u001b[0mweights_distribution_histogram\u001b[0m\u001b[1;33m(\u001b[0m\u001b[0mpath_analysis_dir\u001b[0m\u001b[1;33m,\u001b[0m \u001b[0mpath_info_dir\u001b[0m\u001b[1;33m)\u001b[0m\u001b[1;33m\u001b[0m\u001b[1;33m\u001b[0m\u001b[0m\n\u001b[0m",
      "\u001b[1;31mNameError\u001b[0m: name 'weights_distribution_histogram' is not defined"
     ]
    }
   ],
   "source": [
    "weights_distribution_histogram(path_analysis_dir, path_info_dir)\n"
   ]
  },
  {
   "cell_type": "code",
   "execution_count": null,
   "id": "28eb7001-f7c2-482c-9546-801ee75c7bcb",
   "metadata": {},
   "outputs": [],
   "source": []
  }
 ],
 "metadata": {
  "kernelspec": {
   "display_name": "Python 3 (ipykernel)",
   "language": "python",
   "name": "python3"
  },
  "language_info": {
   "codemirror_mode": {
    "name": "ipython",
    "version": 3
   },
   "file_extension": ".py",
   "mimetype": "text/x-python",
   "name": "python",
   "nbconvert_exporter": "python",
   "pygments_lexer": "ipython3",
   "version": "3.7.6"
  }
 },
 "nbformat": 4,
 "nbformat_minor": 5
}
