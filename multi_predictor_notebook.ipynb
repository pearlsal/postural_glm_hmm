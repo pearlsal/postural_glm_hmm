{
 "cells": [
  {
   "cell_type": "code",
   "execution_count": 1,
   "id": "765fe8b4-22ae-43ad-9ae7-947c56a8c945",
   "metadata": {},
   "outputs": [],
   "source": [
    "from test_beta_package import *\n",
    "%matplotlib inline"
   ]
  },
  {
   "cell_type": "code",
   "execution_count": 2,
   "id": "5f2cf3dd-a30f-4b51-a8db-3e92c3537619",
   "metadata": {},
   "outputs": [],
   "source": [
    "# confirm the folder structure and load the variables\n",
    "path_data_folder, path_raw_data_folder, path_process_data_folder, path_top_folder, path_info_dir, path_analysis_dir, \\\n",
    "path_plots_dir, path_single_pred_dir, path_multi_pred_dir = folder_structure()"
   ]
  },
  {
   "cell_type": "code",
   "execution_count": 3,
   "id": "7d7664bb-73c6-4ea8-8292-40bdc663d92e",
   "metadata": {},
   "outputs": [],
   "source": [
    "# load the processed pickle files  \n",
    "data_continous_ratemaps, data_binned_glm = \\\n",
    "    processing_and_loading(path_raw_data_folder, path_process_data_folder, \n",
    "                           data_continous_ratemaps_pickle=\"rm_pre_data_diana_chasing2_notreheaded_XYZeuler_notricks_eo.pkl\",\n",
    "                           data_binned_glm_pickle=\"binned_4_GLM_rm_pre_data_diana_chasing2_notreheaded_XYZeuler_notricks_eo.pkl\")\n"
   ]
  },
  {
   "cell_type": "code",
   "execution_count": 4,
   "id": "ff532012-2e10-4b46-8397-de2a471ffdc5",
   "metadata": {},
   "outputs": [
    {
     "name": "stdout",
     "output_type": "stream",
     "text": [
      "['B Speeds', 'C Body_direction', 'D Allo_head_direction', 'G Neck_elevation', 'K Ego3_Head_roll', 'L Ego3_Head_pitch', 'M Ego3_Head_azimuth', 'N Back_pitch', 'O Back_azimuth', 'P Ego2_head_roll', 'Q Ego2_head_pitch', 'R Ego2_head_azimuth', 'B Speeds_1st_der', 'C Body_direction_1st_der', 'C Body_direction_2nd_der', 'D Allo_head_direction_1st_der', 'D Allo_head_direction_2nd_der', 'G Neck_elevation_1st_der', 'G Neck_elevation_2nd_der', 'K Ego3_Head_roll_1st_der', 'K Ego3_Head_roll_2nd_der', 'L Ego3_Head_pitch_1st_der', 'L Ego3_Head_pitch_2nd_der', 'M Ego3_Head_azimuth_1st_der', 'M Ego3_Head_azimuth_2nd_der', 'N Back_pitch_1st_der', 'N Back_pitch_2nd_der', 'O Back_azimuth_1st_der', 'O Back_azimuth_2nd_der', 'P Ego2_head_roll_1st_der', 'P Ego2_head_roll_2nd_der', 'Q Ego2_head_pitch_1st_der', 'Q Ego2_head_pitch_2nd_der', 'R Ego2_head_azimuth_1st_der', 'R Ego2_head_azimuth_2nd_der']\n"
     ]
    }
   ],
   "source": [
    "# obtain the information from pickles\n",
    "predictors_name_list, cells_id, animal_name = get_data_information(path_info_dir, data_continous_ratemaps)\n",
    "print(predictors_name_list)"
   ]
  },
  {
   "cell_type": "code",
   "execution_count": 5,
   "id": "580b67c7-0b7c-4e20-b0a2-0877d3279930",
   "metadata": {},
   "outputs": [],
   "source": [
    "# assign values to the inference parameters\n",
    "dict_param = dict_parameters_hmm(path_info_dir, animal_name, num_dimen=1, num_categ_obs=2, N_iters=500,\n",
    "                                 tolerance=10 ** -5, num_indep_neurons=1, num_predictors=4, max_num_states=3,\n",
    "                                 observation_type=\"input_driven_obs\",\n",
    "                                 transistion_type=\"standard\", optim_method=\"em\")"
   ]
  },
  {
   "cell_type": "code",
   "execution_count": 6,
   "id": "5ee9c9e7-3d0f-47ef-b04a-b3c5788f2a4c",
   "metadata": {},
   "outputs": [],
   "source": [
    "cells_index, tot_time = cells_selection_manual(path_info_dir, data_continous_ratemaps, data_binned_glm, dict_param, 'cells_selection.csv')"
   ]
  },
  {
   "cell_type": "code",
   "execution_count": 7,
   "id": "3915a098-fe3f-43fb-9602-498f9656a522",
   "metadata": {},
   "outputs": [
    {
     "name": "stdout",
     "output_type": "stream",
     "text": [
      "        Predictors'\n",
      "0          B Speeds\n",
      "1  G Neck_elevation\n",
      "2  K Ego3_Head_roll\n",
      "3      N Back_pitch\n",
      "4  B Speeds_1st_der\n",
      "!Fraction missing points is 0.011952353757036795 for the model 0\n",
      "!Fraction missing points is 0.011952353757036795 for the model 1\n"
     ]
    }
   ],
   "source": [
    "glmhmms_ista, process_neur, inpts, T, tot_masked_indices, path_plots_list, dict_objects_multicov = \\\n",
    "   data_structure_multipredictor(path_analysis_dir, path_info_dir, path_multi_pred_dir, data_continous_ratemaps,\n",
    "                            data_binned_glm, dict_param, tot_time, cells_index, best_predictors='best_predictors.csv')"
   ]
  },
  {
   "cell_type": "code",
   "execution_count": 8,
   "id": "bc74b979-5173-42a3-8df4-f326e4bef6ed",
   "metadata": {},
   "outputs": [
    {
     "name": "stdout",
     "output_type": "stream",
     "text": [
      "[[ 10.6933533    7.77147212  14.95171273  -8.5924654 ]\n",
      " [ 10.94194185   7.73293056  14.66348645  -8.6669004 ]\n",
      " [ 11.20825033   7.70454672  14.19854536  -9.21554013]\n",
      " ...\n",
      " [  1.88188967  11.14532455   4.04407274 -11.50185231]\n",
      " [  1.93495419  11.15501299   4.32910028 -11.38486502]\n",
      " [  1.97855496  11.16212476   4.67918961 -11.25687995]]\n"
     ]
    },
    {
     "data": {
      "application/vnd.jupyter.widget-view+json": {
       "model_id": "b68f1dc3ab0346febe5ee8069da2dc61",
       "version_major": 2,
       "version_minor": 0
      },
      "text/plain": [
       "  0%|          | 0/500 [00:00<?, ?it/s]"
      ]
     },
     "metadata": {},
     "output_type": "display_data"
    },
    {
     "ename": "KeyboardInterrupt",
     "evalue": "",
     "output_type": "error",
     "traceback": [
      "\u001b[1;31m---------------------------------------------------------------------------\u001b[0m",
      "\u001b[1;31mKeyboardInterrupt\u001b[0m                         Traceback (most recent call last)",
      "Input \u001b[1;32mIn [8]\u001b[0m, in \u001b[0;36m<cell line: 1>\u001b[1;34m()\u001b[0m\n\u001b[1;32m----> 1\u001b[0m fit_ll_states_list, glmhmms_ista, time_states_comp \u001b[38;5;241m=\u001b[39m \u001b[43minference_section_multi_predictor\u001b[49m\u001b[43m(\u001b[49m\u001b[43mpath_analysis_dir\u001b[49m\u001b[43m,\u001b[49m\u001b[43m \u001b[49m\u001b[43mpath_info_dir\u001b[49m\u001b[43m,\u001b[49m\u001b[43m \u001b[49m\u001b[43mdict_param\u001b[49m\u001b[43m,\u001b[49m\n\u001b[0;32m      2\u001b[0m \u001b[43m                                                                       \u001b[49m\u001b[43mglmhmms_ista\u001b[49m\u001b[38;5;241;43m=\u001b[39;49m\u001b[43mglmhmms_ista\u001b[49m\u001b[43m,\u001b[49m\n\u001b[0;32m      3\u001b[0m \u001b[43m                                                                       \u001b[49m\u001b[43mprocess_neur\u001b[49m\u001b[38;5;241;43m=\u001b[39;49m\u001b[43mprocess_neur\u001b[49m\u001b[43m,\u001b[49m\n\u001b[0;32m      4\u001b[0m \u001b[43m                                                                       \u001b[49m\u001b[43minputs_list\u001b[49m\u001b[38;5;241;43m=\u001b[39;49m\u001b[43minpts\u001b[49m\u001b[43m)\u001b[49m\n",
      "File \u001b[1;32m~\\PycharmProjects\\pythonREGITglmhmm\\postural_glm_hmm\\test_beta_package\\inference_and_output_analysis.py:90\u001b[0m, in \u001b[0;36minference_section_multi_predictor\u001b[1;34m(path_analysis_dir, path_info_dir, dict_param, glmhmms_ista, process_neur, inputs_list, dict_objects)\u001b[0m\n\u001b[0;32m     88\u001b[0m fit_ll_states_list\u001b[38;5;241m.\u001b[39mappend([])\n\u001b[0;32m     89\u001b[0m time_states_comp\u001b[38;5;241m.\u001b[39mappend([])\n\u001b[1;32m---> 90\u001b[0m fit_ll \u001b[38;5;241m=\u001b[39m \u001b[43mglmhmms_ista\u001b[49m\u001b[43m[\u001b[49m\u001b[43mi\u001b[49m\u001b[43m]\u001b[49m\u001b[38;5;241;43m.\u001b[39;49m\u001b[43mfit\u001b[49m\u001b[43m(\u001b[49m\u001b[43mprocess_neur\u001b[49m\u001b[43m[\u001b[49m\u001b[38;5;241;43m0\u001b[39;49m\u001b[43m]\u001b[49m\u001b[43m,\u001b[49m\u001b[43m \u001b[49m\u001b[43minputs\u001b[49m\u001b[38;5;241;43m=\u001b[39;49m\u001b[43minputs_list\u001b[49m\u001b[43m[\u001b[49m\u001b[38;5;241;43m0\u001b[39;49m\u001b[43m]\u001b[49m\u001b[43m,\u001b[49m\n\u001b[0;32m     91\u001b[0m \u001b[43m         \u001b[49m\u001b[43mmethod\u001b[49m\u001b[38;5;241;43m=\u001b[39;49m\u001b[43mdict_param\u001b[49m\u001b[43m[\u001b[49m\u001b[38;5;124;43m'\u001b[39;49m\u001b[38;5;124;43moptim_method\u001b[39;49m\u001b[38;5;124;43m'\u001b[39;49m\u001b[43m]\u001b[49m\u001b[43m,\u001b[49m\u001b[43m \u001b[49m\u001b[43mnum_iters\u001b[49m\u001b[38;5;241;43m=\u001b[39;49m\u001b[43mdict_param\u001b[49m\u001b[43m[\u001b[49m\u001b[38;5;124;43m'\u001b[39;49m\u001b[38;5;124;43mN_iters\u001b[39;49m\u001b[38;5;124;43m'\u001b[39;49m\u001b[43m]\u001b[49m\u001b[43m,\u001b[49m\n\u001b[0;32m     92\u001b[0m \u001b[43m         \u001b[49m\u001b[43mtolerance\u001b[49m\u001b[38;5;241;43m=\u001b[39;49m\u001b[43mdict_param\u001b[49m\u001b[43m[\u001b[49m\u001b[38;5;124;43m'\u001b[39;49m\u001b[38;5;124;43mtolerance\u001b[39;49m\u001b[38;5;124;43m'\u001b[39;49m\u001b[43m]\u001b[49m\u001b[43m)\u001b[49m  \u001b[38;5;66;03m# actual inference\u001b[39;00m\n\u001b[0;32m     94\u001b[0m fit_ll_states_list[i]\u001b[38;5;241m.\u001b[39mappend(fit_ll)\n\u001b[0;32m     95\u001b[0m time_states_comp[i]\u001b[38;5;241m.\u001b[39mappend(time\u001b[38;5;241m.\u001b[39mtime() \u001b[38;5;241m-\u001b[39m partial_clock)\n",
      "File \u001b[1;32mc:\\users\\teof\\pycharmprojects\\pythonregitglmhmm\\ssm\\ssm\\util.py:111\u001b[0m, in \u001b[0;36mensure_args_are_lists.<locals>.wrapper\u001b[1;34m(self, datas, inputs, masks, tags, **kwargs)\u001b[0m\n\u001b[0;32m    108\u001b[0m \u001b[38;5;28;01melif\u001b[39;00m \u001b[38;5;129;01mnot\u001b[39;00m \u001b[38;5;28misinstance\u001b[39m(tags, (\u001b[38;5;28mlist\u001b[39m, \u001b[38;5;28mtuple\u001b[39m)):\n\u001b[0;32m    109\u001b[0m     tags \u001b[38;5;241m=\u001b[39m [tags]\n\u001b[1;32m--> 111\u001b[0m \u001b[38;5;28;01mreturn\u001b[39;00m f(\u001b[38;5;28mself\u001b[39m, datas, inputs\u001b[38;5;241m=\u001b[39minputs, masks\u001b[38;5;241m=\u001b[39mmasks, tags\u001b[38;5;241m=\u001b[39mtags, \u001b[38;5;241m*\u001b[39m\u001b[38;5;241m*\u001b[39mkwargs)\n",
      "File \u001b[1;32mc:\\users\\teof\\pycharmprojects\\pythonregitglmhmm\\ssm\\ssm\\hmm.py:504\u001b[0m, in \u001b[0;36mHMM.fit\u001b[1;34m(self, datas, inputs, masks, tags, verbose, method, initialize, init_method, **kwargs)\u001b[0m\n\u001b[0;32m    501\u001b[0m          \u001b[38;5;28;01mraise\u001b[39;00m \u001b[38;5;167;01mException\u001b[39;00m(\u001b[38;5;124m\"\u001b[39m\u001b[38;5;124mOnly EM is implemented for constrained transitions.\u001b[39m\u001b[38;5;124m\"\u001b[39m)\n\u001b[0;32m    503\u001b[0m \u001b[38;5;66;03m# print(verbose)\u001b[39;00m\n\u001b[1;32m--> 504\u001b[0m  \u001b[38;5;28;01mreturn\u001b[39;00m _fitting_methods[method](datas,\n\u001b[0;32m    505\u001b[0m                                  inputs\u001b[38;5;241m=\u001b[39minputs,\n\u001b[0;32m    506\u001b[0m                                  masks\u001b[38;5;241m=\u001b[39mmasks,\n\u001b[0;32m    507\u001b[0m                                  tags\u001b[38;5;241m=\u001b[39mtags,\n\u001b[0;32m    508\u001b[0m                                  verbose\u001b[38;5;241m=\u001b[39mverbose,\n\u001b[0;32m    509\u001b[0m                                  \u001b[38;5;241m*\u001b[39m\u001b[38;5;241m*\u001b[39mkwargs)\n",
      "File \u001b[1;32mc:\\users\\teof\\pycharmprojects\\pythonregitglmhmm\\ssm\\ssm\\hmm.py:449\u001b[0m, in \u001b[0;36mHMM._fit_em\u001b[1;34m(self, datas, inputs, masks, tags, verbose, num_iters, tolerance, init_state_mstep_kwargs, transitions_mstep_kwargs, observations_mstep_kwargs, **kwargs)\u001b[0m\n\u001b[0;32m    445\u001b[0m pbar \u001b[38;5;241m=\u001b[39m ssm_pbar(num_iters, verbose, \u001b[38;5;124m\"\u001b[39m\u001b[38;5;124mLP: \u001b[39m\u001b[38;5;132;01m{:.1f}\u001b[39;00m\u001b[38;5;124m\"\u001b[39m, [lls[\u001b[38;5;241m-\u001b[39m\u001b[38;5;241m1\u001b[39m]])\n\u001b[0;32m    447\u001b[0m \u001b[38;5;28;01mfor\u001b[39;00m itr \u001b[38;5;129;01min\u001b[39;00m pbar:\n\u001b[0;32m    448\u001b[0m     \u001b[38;5;66;03m# E step: compute expected latent states with current parameters\u001b[39;00m\n\u001b[1;32m--> 449\u001b[0m     expectations \u001b[38;5;241m=\u001b[39m [\u001b[38;5;28mself\u001b[39m\u001b[38;5;241m.\u001b[39mexpected_states(data, \u001b[38;5;28minput\u001b[39m, mask, tag)\n\u001b[0;32m    450\u001b[0m                     \u001b[38;5;28;01mfor\u001b[39;00m data, \u001b[38;5;28minput\u001b[39m, mask, tag,\n\u001b[0;32m    451\u001b[0m                     \u001b[38;5;129;01min\u001b[39;00m \u001b[38;5;28mzip\u001b[39m(datas, inputs, masks, tags)]\n\u001b[0;32m    453\u001b[0m     \u001b[38;5;66;03m# M step: maximize expected log joint wrt parameters\u001b[39;00m\n\u001b[0;32m    454\u001b[0m     \u001b[38;5;28mself\u001b[39m\u001b[38;5;241m.\u001b[39minit_state_distn\u001b[38;5;241m.\u001b[39mm_step(expectations, datas, inputs, masks, tags, \u001b[38;5;241m*\u001b[39m\u001b[38;5;241m*\u001b[39minit_state_mstep_kwargs)\n",
      "File \u001b[1;32mc:\\users\\teof\\pycharmprojects\\pythonregitglmhmm\\ssm\\ssm\\hmm.py:449\u001b[0m, in \u001b[0;36m<listcomp>\u001b[1;34m(.0)\u001b[0m\n\u001b[0;32m    445\u001b[0m pbar \u001b[38;5;241m=\u001b[39m ssm_pbar(num_iters, verbose, \u001b[38;5;124m\"\u001b[39m\u001b[38;5;124mLP: \u001b[39m\u001b[38;5;132;01m{:.1f}\u001b[39;00m\u001b[38;5;124m\"\u001b[39m, [lls[\u001b[38;5;241m-\u001b[39m\u001b[38;5;241m1\u001b[39m]])\n\u001b[0;32m    447\u001b[0m \u001b[38;5;28;01mfor\u001b[39;00m itr \u001b[38;5;129;01min\u001b[39;00m pbar:\n\u001b[0;32m    448\u001b[0m     \u001b[38;5;66;03m# E step: compute expected latent states with current parameters\u001b[39;00m\n\u001b[1;32m--> 449\u001b[0m     expectations \u001b[38;5;241m=\u001b[39m [\u001b[38;5;28;43mself\u001b[39;49m\u001b[38;5;241;43m.\u001b[39;49m\u001b[43mexpected_states\u001b[49m\u001b[43m(\u001b[49m\u001b[43mdata\u001b[49m\u001b[43m,\u001b[49m\u001b[43m \u001b[49m\u001b[38;5;28;43minput\u001b[39;49m\u001b[43m,\u001b[49m\u001b[43m \u001b[49m\u001b[43mmask\u001b[49m\u001b[43m,\u001b[49m\u001b[43m \u001b[49m\u001b[43mtag\u001b[49m\u001b[43m)\u001b[49m\n\u001b[0;32m    450\u001b[0m                     \u001b[38;5;28;01mfor\u001b[39;00m data, \u001b[38;5;28minput\u001b[39m, mask, tag,\n\u001b[0;32m    451\u001b[0m                     \u001b[38;5;129;01min\u001b[39;00m \u001b[38;5;28mzip\u001b[39m(datas, inputs, masks, tags)]\n\u001b[0;32m    453\u001b[0m     \u001b[38;5;66;03m# M step: maximize expected log joint wrt parameters\u001b[39;00m\n\u001b[0;32m    454\u001b[0m     \u001b[38;5;28mself\u001b[39m\u001b[38;5;241m.\u001b[39minit_state_distn\u001b[38;5;241m.\u001b[39mm_step(expectations, datas, inputs, masks, tags, \u001b[38;5;241m*\u001b[39m\u001b[38;5;241m*\u001b[39minit_state_mstep_kwargs)\n",
      "File \u001b[1;32mc:\\users\\teof\\pycharmprojects\\pythonregitglmhmm\\ssm\\ssm\\util.py:158\u001b[0m, in \u001b[0;36mensure_args_not_none.<locals>.wrapper\u001b[1;34m(self, data, input, mask, tag, **kwargs)\u001b[0m\n\u001b[0;32m    155\u001b[0m \u001b[38;5;28minput\u001b[39m \u001b[38;5;241m=\u001b[39m np\u001b[38;5;241m.\u001b[39mzeros((data\u001b[38;5;241m.\u001b[39mshape[\u001b[38;5;241m0\u001b[39m],) \u001b[38;5;241m+\u001b[39m M) \u001b[38;5;28;01mif\u001b[39;00m \u001b[38;5;28minput\u001b[39m \u001b[38;5;129;01mis\u001b[39;00m \u001b[38;5;28;01mNone\u001b[39;00m \u001b[38;5;28;01melse\u001b[39;00m \u001b[38;5;28minput\u001b[39m\n\u001b[0;32m    157\u001b[0m mask \u001b[38;5;241m=\u001b[39m np\u001b[38;5;241m.\u001b[39mones_like(data, dtype\u001b[38;5;241m=\u001b[39m\u001b[38;5;28mbool\u001b[39m) \u001b[38;5;28;01mif\u001b[39;00m mask \u001b[38;5;129;01mis\u001b[39;00m \u001b[38;5;28;01mNone\u001b[39;00m \u001b[38;5;28;01melse\u001b[39;00m mask\n\u001b[1;32m--> 158\u001b[0m \u001b[38;5;28;01mreturn\u001b[39;00m f(\u001b[38;5;28mself\u001b[39m, data, \u001b[38;5;28minput\u001b[39m\u001b[38;5;241m=\u001b[39m\u001b[38;5;28minput\u001b[39m, mask\u001b[38;5;241m=\u001b[39mmask, tag\u001b[38;5;241m=\u001b[39mtag, \u001b[38;5;241m*\u001b[39m\u001b[38;5;241m*\u001b[39mkwargs)\n",
      "File \u001b[1;32mc:\\users\\teof\\pycharmprojects\\pythonregitglmhmm\\ssm\\ssm\\hmm.py:258\u001b[0m, in \u001b[0;36mHMM.expected_states\u001b[1;34m(self, data, input, mask, tag)\u001b[0m\n\u001b[0;32m    256\u001b[0m Ps \u001b[38;5;241m=\u001b[39m \u001b[38;5;28mself\u001b[39m\u001b[38;5;241m.\u001b[39mtransitions\u001b[38;5;241m.\u001b[39mtransition_matrices(data, \u001b[38;5;28minput\u001b[39m, mask, tag)\n\u001b[0;32m    257\u001b[0m log_likes \u001b[38;5;241m=\u001b[39m \u001b[38;5;28mself\u001b[39m\u001b[38;5;241m.\u001b[39mobservations\u001b[38;5;241m.\u001b[39mlog_likelihoods(data, \u001b[38;5;28minput\u001b[39m, mask, tag)\n\u001b[1;32m--> 258\u001b[0m \u001b[38;5;28;01mreturn\u001b[39;00m \u001b[43mhmm_expected_states\u001b[49m\u001b[43m(\u001b[49m\u001b[43mpi0\u001b[49m\u001b[43m,\u001b[49m\u001b[43m \u001b[49m\u001b[43mPs\u001b[49m\u001b[43m,\u001b[49m\u001b[43m \u001b[49m\u001b[43mlog_likes\u001b[49m\u001b[43m)\u001b[49m\n",
      "File \u001b[1;32mc:\\users\\teof\\pycharmprojects\\pythonregitglmhmm\\ssm\\ssm\\messages.py:170\u001b[0m, in \u001b[0;36mhmm_expected_states\u001b[1;34m(pi0, Ps, ll)\u001b[0m\n\u001b[0;32m    168\u001b[0m alphas \u001b[38;5;241m=\u001b[39m np\u001b[38;5;241m.\u001b[39mzeros((T, K))\n\u001b[0;32m    169\u001b[0m forward_pass(pi0, Ps, ll, alphas)\n\u001b[1;32m--> 170\u001b[0m normalizer \u001b[38;5;241m=\u001b[39m \u001b[43mlogsumexp\u001b[49m(alphas[\u001b[38;5;241m-\u001b[39m\u001b[38;5;241m1\u001b[39m])\n\u001b[0;32m    172\u001b[0m betas \u001b[38;5;241m=\u001b[39m np\u001b[38;5;241m.\u001b[39mzeros((T, K))\n\u001b[0;32m    173\u001b[0m backward_pass(Ps, ll, betas)\n",
      "\u001b[1;31mKeyboardInterrupt\u001b[0m: "
     ]
    }
   ],
   "source": [
    "fit_ll_states_list, glmhmms_ista, time_states_comp = inference_section_multi_predictor(path_analysis_dir, path_info_dir, dict_param,\n",
    "                                                                       glmhmms_ista=glmhmms_ista,\n",
    "                                                                       process_neur=process_neur,\n",
    "                                                                       inputs_list=inpts)"
   ]
  },
  {
   "cell_type": "code",
   "execution_count": null,
   "id": "bdd3c15b-6756-4a0d-a550-9255169557f4",
   "metadata": {},
   "outputs": [],
   "source": [
    "posterior_probs_list = posterior_prob_process(path_info_dir, path_analysis_dir, dict_param=dict_param, dict_processed_objects=0, multi_predictor=0) # glmhmms_ista=glmhmms_ista, process_neur=process_neur, inputs_list=inputs_list)\n"
   ]
  },
  {
   "cell_type": "code",
   "execution_count": null,
   "id": "474e3002-2ca2-4ec6-8406-691a196691fb",
   "metadata": {},
   "outputs": [],
   "source": [
    "%%capture cap --no-stderr\n",
    "# take the cumulative occupancy per state\n",
    "states_occupancies = states_occupancies_computation(path_analysis_dir, dict_posterior=0)"
   ]
  },
  {
   "cell_type": "code",
   "execution_count": null,
   "id": "3f5f8845-e1f8-43c4-9a3a-5d8ba83891ad",
   "metadata": {},
   "outputs": [],
   "source": [
    "states_occupancies_histogram(path_analysis_dir, path_info_dir, dict_param=0, file_states_occup=0)"
   ]
  },
  {
   "cell_type": "code",
   "execution_count": null,
   "id": "6c79b903-5d95-4cb2-b643-4b58f34a9668",
   "metadata": {},
   "outputs": [],
   "source": [
    "transition_prob_matrix(path_analysis_dir, path_info_dir, dict_param=0, dict_processed_objects=0)"
   ]
  },
  {
   "cell_type": "code",
   "execution_count": null,
   "id": "1bff3054-1e9b-4097-b39a-484eabc15c1b",
   "metadata": {},
   "outputs": [],
   "source": [
    "weights_distribution_histogram(path_analysis_dir, path_info_dir, multi_predictor=0)"
   ]
  },
  {
   "cell_type": "code",
   "execution_count": null,
   "id": "1753631d-b7dd-4da4-b1ab-fd81769c842a",
   "metadata": {},
   "outputs": [],
   "source": []
  },
  {
   "cell_type": "code",
   "execution_count": null,
   "id": "47546ce7-5744-49f3-9b40-4f3148b5689c",
   "metadata": {},
   "outputs": [],
   "source": []
  }
 ],
 "metadata": {
  "kernelspec": {
   "display_name": "Python 3 (ipykernel)",
   "language": "python",
   "name": "python3"
  },
  "language_info": {
   "codemirror_mode": {
    "name": "ipython",
    "version": 3
   },
   "file_extension": ".py",
   "mimetype": "text/x-python",
   "name": "python",
   "nbconvert_exporter": "python",
   "pygments_lexer": "ipython3",
   "version": "3.9.5"
  }
 },
 "nbformat": 4,
 "nbformat_minor": 5
}
