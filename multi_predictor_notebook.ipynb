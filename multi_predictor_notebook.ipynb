{
 "cells": [
  {
   "cell_type": "code",
   "execution_count": 9,
   "id": "765fe8b4-22ae-43ad-9ae7-947c56a8c945",
   "metadata": {},
   "outputs": [],
   "source": [
    "from test_beta_package import *\n",
    "%matplotlib inline"
   ]
  },
  {
   "cell_type": "code",
   "execution_count": 10,
   "id": "5f2cf3dd-a30f-4b51-a8db-3e92c3537619",
   "metadata": {},
   "outputs": [],
   "source": [
    "# confirm the folder structure and load the variables\n",
    "path_data_folder, path_raw_data_folder, path_process_data_folder, path_top_folder, path_info_dir, path_analysis_dir, \\\n",
    "path_plots_dir, path_single_pred_dir, path_multi_pred_dir = folder_structure()"
   ]
  },
  {
   "cell_type": "code",
   "execution_count": 11,
   "id": "7d7664bb-73c6-4ea8-8292-40bdc663d92e",
   "metadata": {},
   "outputs": [],
   "source": [
    "# load the processed pickle files  \n",
    "data_continous_ratemaps, data_binned_glm = \\\n",
    "    processing_and_loading(path_raw_data_folder, path_process_data_folder, \n",
    "                           data_continous_ratemaps_pickle=\"rm_pre_data_diana_chasing2_notreheaded_XYZeuler_notricks_eo.pkl\",\n",
    "                           data_binned_glm_pickle=\"binned_4_GLM_rm_pre_data_diana_chasing2_notreheaded_XYZeuler_notricks_eo.pkl\")\n"
   ]
  },
  {
   "cell_type": "code",
   "execution_count": 12,
   "id": "ff532012-2e10-4b46-8397-de2a471ffdc5",
   "metadata": {},
   "outputs": [
    {
     "name": "stdout",
     "output_type": "stream",
     "text": [
      "['B Speeds', 'C Body_direction', 'D Allo_head_direction', 'G Neck_elevation', 'K Ego3_Head_roll', 'L Ego3_Head_pitch', 'M Ego3_Head_azimuth', 'N Back_pitch', 'O Back_azimuth', 'P Ego2_head_roll', 'Q Ego2_head_pitch', 'R Ego2_head_azimuth', 'B Speeds_1st_der', 'C Body_direction_1st_der', 'C Body_direction_2nd_der', 'D Allo_head_direction_1st_der', 'D Allo_head_direction_2nd_der', 'G Neck_elevation_1st_der', 'G Neck_elevation_2nd_der', 'K Ego3_Head_roll_1st_der', 'K Ego3_Head_roll_2nd_der', 'L Ego3_Head_pitch_1st_der', 'L Ego3_Head_pitch_2nd_der', 'M Ego3_Head_azimuth_1st_der', 'M Ego3_Head_azimuth_2nd_der', 'N Back_pitch_1st_der', 'N Back_pitch_2nd_der', 'O Back_azimuth_1st_der', 'O Back_azimuth_2nd_der', 'P Ego2_head_roll_1st_der', 'P Ego2_head_roll_2nd_der', 'Q Ego2_head_pitch_1st_der', 'Q Ego2_head_pitch_2nd_der', 'R Ego2_head_azimuth_1st_der', 'R Ego2_head_azimuth_2nd_der']\n"
     ]
    }
   ],
   "source": [
    "# obtain the information from pickles\n",
    "predictors_name_list, cells_id, animal_name = get_data_information(path_info_dir, data_continous_ratemaps)\n",
    "print(predictors_name_list)"
   ]
  },
  {
   "cell_type": "code",
   "execution_count": 13,
   "id": "580b67c7-0b7c-4e20-b0a2-0877d3279930",
   "metadata": {},
   "outputs": [],
   "source": [
    "# assign values to the inference parameters\n",
    "dict_param = dict_parameters_hmm(path_info_dir, animal_name, num_dimen=1, num_categ_obs=2, N_iters=500,\n",
    "                                 tolerance=10 ** -5, num_indep_neurons=1, num_predictors=4, max_num_states=3,\n",
    "                                 observation_type=\"input_driven_obs\",\n",
    "                                 transistion_type=\"standard\", optim_method=\"em\")"
   ]
  },
  {
   "cell_type": "code",
   "execution_count": 14,
   "id": "5ee9c9e7-3d0f-47ef-b04a-b3c5788f2a4c",
   "metadata": {},
   "outputs": [],
   "source": [
    "cells_index, tot_time = cells_selection_manual(path_info_dir, data_continous_ratemaps, data_binned_glm, dict_param, 'cells_selection.csv')"
   ]
  },
  {
   "cell_type": "code",
   "execution_count": 15,
   "id": "3915a098-fe3f-43fb-9602-498f9656a522",
   "metadata": {},
   "outputs": [
    {
     "name": "stdout",
     "output_type": "stream",
     "text": [
      "        Predictors'\n",
      "0          B Speeds\n",
      "1  G Neck_elevation\n",
      "2  K Ego3_Head_roll\n",
      "3      N Back_pitch\n",
      "4  B Speeds_1st_der\n",
      "!Fraction missing points is 0.011952353757036795 for the model 0\n",
      "!Fraction missing points is 0.011952353757036795 for the model 1\n"
     ]
    }
   ],
   "source": [
    "glmhmms_ista, process_neur, inpts, T, tot_masked_indices, path_plots_list, dict_objects_multicov = \\\n",
    "   data_structure_multipredictor(path_analysis_dir, path_info_dir, path_multi_pred_dir, data_continous_ratemaps,\n",
    "                            data_binned_glm, dict_param, tot_time, cells_index, best_predictors='best_predictors.csv')"
   ]
  },
  {
   "cell_type": "code",
   "execution_count": 16,
   "id": "bc74b979-5173-42a3-8df4-f326e4bef6ed",
   "metadata": {},
   "outputs": [
    {
     "name": "stdout",
     "output_type": "stream",
     "text": [
      "[[ 10.6933533    7.77147212  14.95171273  -8.5924654 ]\n",
      " [ 10.94194185   7.73293056  14.66348645  -8.6669004 ]\n",
      " [ 11.20825033   7.70454672  14.19854536  -9.21554013]\n",
      " ...\n",
      " [  1.88188967  11.14532455   4.04407274 -11.50185231]\n",
      " [  1.93495419  11.15501299   4.32910028 -11.38486502]\n",
      " [  1.97855496  11.16212476   4.67918961 -11.25687995]]\n"
     ]
    },
    {
     "data": {
      "application/vnd.jupyter.widget-view+json": {
       "model_id": "d4b1b6d1b8204de687fb5a9ace4fee08",
       "version_major": 2,
       "version_minor": 0
      },
      "text/plain": [
       "  0%|          | 0/500 [00:00<?, ?it/s]"
      ]
     },
     "metadata": {},
     "output_type": "display_data"
    },
    {
     "name": "stdout",
     "output_type": "stream",
     "text": [
      "computation time loop 0 is 84.99178719520569\n"
     ]
    },
    {
     "data": {
      "application/vnd.jupyter.widget-view+json": {
       "model_id": "3fabc12af0f64e4cbd201c7c7b2fc6ed",
       "version_major": 2,
       "version_minor": 0
      },
      "text/plain": [
       "  0%|          | 0/500 [00:00<?, ?it/s]"
      ]
     },
     "metadata": {},
     "output_type": "display_data"
    },
    {
     "name": "stdout",
     "output_type": "stream",
     "text": [
      "computation time loop 1 is 104.1500473022461\n",
      "The total time for the inference is 189.14183449745178\n"
     ]
    }
   ],
   "source": [
    "fit_ll_states_list, glmhmms_ista, time_states_comp = inference_section_multi_predictor(path_analysis_dir, path_info_dir, dict_param,\n",
    "                                                                       glmhmms_ista=glmhmms_ista,\n",
    "                                                                       process_neur=process_neur,\n",
    "                                                                       inputs_list=inpts)"
   ]
  },
  {
   "cell_type": "code",
   "execution_count": 17,
   "id": "bdd3c15b-6756-4a0d-a550-9255169557f4",
   "metadata": {},
   "outputs": [
    {
     "name": "stdout",
     "output_type": "stream",
     "text": [
      "the input form is [array([[ 10.6933533 ,   7.77147212,  14.95171273,  -8.5924654 ],\n",
      "       [ 10.94194185,   7.73293056,  14.66348645,  -8.6669004 ],\n",
      "       [ 11.20825033,   7.70454672,  14.19854536,  -9.21554013],\n",
      "       ...,\n",
      "       [  1.88188967,  11.14532455,   4.04407274, -11.50185231],\n",
      "       [  1.93495419,  11.15501299,   4.32910028, -11.38486502],\n",
      "       [  1.97855496,  11.16212476,   4.67918961, -11.25687995]])]\n",
      "Total computation time for posterior probability is 0.20026755332946777\n"
     ]
    }
   ],
   "source": [
    "posterior_probs_list = posterior_prob_process(path_info_dir, path_analysis_dir, dict_param=dict_param, dict_processed_objects=0, multi_predictor=0) # glmhmms_ista=glmhmms_ista, process_neur=process_neur, inputs_list=inputs_list)\n"
   ]
  },
  {
   "cell_type": "code",
   "execution_count": 18,
   "id": "474e3002-2ca2-4ec6-8406-691a196691fb",
   "metadata": {},
   "outputs": [],
   "source": [
    "%%capture cap --no-stderr\n",
    "# take the cumulative occupancy per state\n",
    "states_occupancies = states_occupancies_computation(path_analysis_dir, dict_posterior=0)"
   ]
  },
  {
   "cell_type": "code",
   "execution_count": 19,
   "id": "3f5f8845-e1f8-43c4-9a3a-5d8ba83891ad",
   "metadata": {},
   "outputs": [
    {
     "name": "stdout",
     "output_type": "stream",
     "text": [
      "state of occupancy is [0.14298802 0.85701198]\n"
     ]
    },
    {
     "ename": "FileNotFoundError",
     "evalue": "[Errno 2] No such file or directory: 'C:\\\\Users\\\\teof\\\\PycharmProjects\\\\pythonREGITglmhmm\\\\postural_glm_hmm\\\\results_folder\\\\plots_dir/single_pred_dir/diana_notreheaded_singlepredictor_2022-10-26_run//diana_notreheaded_states=2_max_iters=2__pred=1_obs=input_driven_obs_trans=inputdriven/states_occupancies_histogram_neur=1_max_iters=500_tolerance=1e-05_tot_pred=4_obs=input_driven_obs_trans=standard_method=em_diana_notreheaded.pdf'",
     "output_type": "error",
     "traceback": [
      "\u001b[1;31m---------------------------------------------------------------------------\u001b[0m",
      "\u001b[1;31mFileNotFoundError\u001b[0m                         Traceback (most recent call last)",
      "Input \u001b[1;32mIn [19]\u001b[0m, in \u001b[0;36m<cell line: 1>\u001b[1;34m()\u001b[0m\n\u001b[1;32m----> 1\u001b[0m \u001b[43mstates_occupancies_histogram\u001b[49m\u001b[43m(\u001b[49m\u001b[43mpath_analysis_dir\u001b[49m\u001b[43m,\u001b[49m\u001b[43m \u001b[49m\u001b[43mpath_info_dir\u001b[49m\u001b[43m,\u001b[49m\u001b[43m \u001b[49m\u001b[43mdict_param\u001b[49m\u001b[38;5;241;43m=\u001b[39;49m\u001b[38;5;241;43m0\u001b[39;49m\u001b[43m,\u001b[49m\u001b[43m \u001b[49m\u001b[43mfile_states_occup\u001b[49m\u001b[38;5;241;43m=\u001b[39;49m\u001b[38;5;241;43m0\u001b[39;49m\u001b[43m)\u001b[49m\n",
      "File \u001b[1;32m~\\PycharmProjects\\pythonREGITglmhmm\\postural_glm_hmm\\test_beta_package\\post_inference_plots.py:215\u001b[0m, in \u001b[0;36mstates_occupancies_histogram\u001b[1;34m(path_analysis_dir, path_info_dir, dict_param, states_occupancies, file_states_occup)\u001b[0m\n\u001b[0;32m    213\u001b[0m plt\u001b[38;5;241m.\u001b[39mylabel(\u001b[38;5;124m'\u001b[39m\u001b[38;5;124mfrac. occupancy\u001b[39m\u001b[38;5;124m'\u001b[39m, fontsize\u001b[38;5;241m=\u001b[39m\u001b[38;5;241m15\u001b[39m)\n\u001b[0;32m    214\u001b[0m plt\u001b[38;5;241m.\u001b[39mtight_layout()\n\u001b[1;32m--> 215\u001b[0m \u001b[43mplt\u001b[49m\u001b[38;5;241;43m.\u001b[39;49m\u001b[43msavefig\u001b[49m\u001b[43m(\u001b[49m\u001b[43mplots_dir\u001b[49m\u001b[43m \u001b[49m\u001b[38;5;241;43m+\u001b[39;49m\u001b[43m \u001b[49m\u001b[38;5;124;43mf\u001b[39;49m\u001b[38;5;124;43m\"\u001b[39;49m\u001b[38;5;124;43mstates_occupancies_histogram_\u001b[39;49m\u001b[38;5;124;43m\"\u001b[39;49m\u001b[43m \u001b[49m\u001b[38;5;241;43m+\u001b[39;49m\u001b[43m \u001b[49m\u001b[43mpost_description_savefig\u001b[49m\u001b[43m,\u001b[49m\u001b[43m \u001b[49m\u001b[43mbbox_inches\u001b[49m\u001b[38;5;241;43m=\u001b[39;49m\u001b[38;5;124;43m\"\u001b[39;49m\u001b[38;5;124;43mtight\u001b[39;49m\u001b[38;5;124;43m\"\u001b[39;49m\u001b[43m,\u001b[49m\u001b[43m \u001b[49m\u001b[43mdpi\u001b[49m\u001b[38;5;241;43m=\u001b[39;49m\u001b[43mdpi\u001b[49m\u001b[43m)\u001b[49m\n\u001b[0;32m    216\u001b[0m plt\u001b[38;5;241m.\u001b[39mshow()\n",
      "File \u001b[1;32m~\\Miniconda3\\envs\\glmhmmbeta\\lib\\site-packages\\matplotlib\\pyplot.py:859\u001b[0m, in \u001b[0;36msavefig\u001b[1;34m(*args, **kwargs)\u001b[0m\n\u001b[0;32m    856\u001b[0m \u001b[38;5;129m@_copy_docstring_and_deprecators\u001b[39m(Figure\u001b[38;5;241m.\u001b[39msavefig)\n\u001b[0;32m    857\u001b[0m \u001b[38;5;28;01mdef\u001b[39;00m \u001b[38;5;21msavefig\u001b[39m(\u001b[38;5;241m*\u001b[39margs, \u001b[38;5;241m*\u001b[39m\u001b[38;5;241m*\u001b[39mkwargs):\n\u001b[0;32m    858\u001b[0m     fig \u001b[38;5;241m=\u001b[39m gcf()\n\u001b[1;32m--> 859\u001b[0m     res \u001b[38;5;241m=\u001b[39m fig\u001b[38;5;241m.\u001b[39msavefig(\u001b[38;5;241m*\u001b[39margs, \u001b[38;5;241m*\u001b[39m\u001b[38;5;241m*\u001b[39mkwargs)\n\u001b[0;32m    860\u001b[0m     fig\u001b[38;5;241m.\u001b[39mcanvas\u001b[38;5;241m.\u001b[39mdraw_idle()   \u001b[38;5;66;03m# need this if 'transparent=True' to reset colors\u001b[39;00m\n\u001b[0;32m    861\u001b[0m     \u001b[38;5;28;01mreturn\u001b[39;00m res\n",
      "File \u001b[1;32m~\\Miniconda3\\envs\\glmhmmbeta\\lib\\site-packages\\matplotlib\\figure.py:2311\u001b[0m, in \u001b[0;36mFigure.savefig\u001b[1;34m(self, fname, transparent, **kwargs)\u001b[0m\n\u001b[0;32m   2308\u001b[0m         patch\u001b[38;5;241m.\u001b[39mset_facecolor(\u001b[38;5;124m'\u001b[39m\u001b[38;5;124mnone\u001b[39m\u001b[38;5;124m'\u001b[39m)\n\u001b[0;32m   2309\u001b[0m         patch\u001b[38;5;241m.\u001b[39mset_edgecolor(\u001b[38;5;124m'\u001b[39m\u001b[38;5;124mnone\u001b[39m\u001b[38;5;124m'\u001b[39m)\n\u001b[1;32m-> 2311\u001b[0m \u001b[38;5;28mself\u001b[39m\u001b[38;5;241m.\u001b[39mcanvas\u001b[38;5;241m.\u001b[39mprint_figure(fname, \u001b[38;5;241m*\u001b[39m\u001b[38;5;241m*\u001b[39mkwargs)\n\u001b[0;32m   2313\u001b[0m \u001b[38;5;28;01mif\u001b[39;00m transparent:\n\u001b[0;32m   2314\u001b[0m     \u001b[38;5;28;01mfor\u001b[39;00m ax, cc \u001b[38;5;129;01min\u001b[39;00m \u001b[38;5;28mzip\u001b[39m(\u001b[38;5;28mself\u001b[39m\u001b[38;5;241m.\u001b[39maxes, original_axes_colors):\n",
      "File \u001b[1;32m~\\Miniconda3\\envs\\glmhmmbeta\\lib\\site-packages\\matplotlib\\backend_bases.py:2210\u001b[0m, in \u001b[0;36mFigureCanvasBase.print_figure\u001b[1;34m(self, filename, dpi, facecolor, edgecolor, orientation, format, bbox_inches, pad_inches, bbox_extra_artists, backend, **kwargs)\u001b[0m\n\u001b[0;32m   2207\u001b[0m     _bbox_inches_restore \u001b[38;5;241m=\u001b[39m \u001b[38;5;28;01mNone\u001b[39;00m\n\u001b[0;32m   2209\u001b[0m \u001b[38;5;28;01mtry\u001b[39;00m:\n\u001b[1;32m-> 2210\u001b[0m     result \u001b[38;5;241m=\u001b[39m print_method(\n\u001b[0;32m   2211\u001b[0m         filename,\n\u001b[0;32m   2212\u001b[0m         dpi\u001b[38;5;241m=\u001b[39mdpi,\n\u001b[0;32m   2213\u001b[0m         facecolor\u001b[38;5;241m=\u001b[39mfacecolor,\n\u001b[0;32m   2214\u001b[0m         edgecolor\u001b[38;5;241m=\u001b[39medgecolor,\n\u001b[0;32m   2215\u001b[0m         orientation\u001b[38;5;241m=\u001b[39morientation,\n\u001b[0;32m   2216\u001b[0m         bbox_inches_restore\u001b[38;5;241m=\u001b[39m_bbox_inches_restore,\n\u001b[0;32m   2217\u001b[0m         \u001b[38;5;241m*\u001b[39m\u001b[38;5;241m*\u001b[39mkwargs)\n\u001b[0;32m   2218\u001b[0m \u001b[38;5;28;01mfinally\u001b[39;00m:\n\u001b[0;32m   2219\u001b[0m     \u001b[38;5;28;01mif\u001b[39;00m bbox_inches \u001b[38;5;129;01mand\u001b[39;00m restore_bbox:\n",
      "File \u001b[1;32m~\\Miniconda3\\envs\\glmhmmbeta\\lib\\site-packages\\matplotlib\\backend_bases.py:1639\u001b[0m, in \u001b[0;36m_check_savefig_extra_args.<locals>.wrapper\u001b[1;34m(*args, **kwargs)\u001b[0m\n\u001b[0;32m   1631\u001b[0m     cbook\u001b[38;5;241m.\u001b[39mwarn_deprecated(\n\u001b[0;32m   1632\u001b[0m         \u001b[38;5;124m'\u001b[39m\u001b[38;5;124m3.3\u001b[39m\u001b[38;5;124m'\u001b[39m, name\u001b[38;5;241m=\u001b[39mname,\n\u001b[0;32m   1633\u001b[0m         message\u001b[38;5;241m=\u001b[39m\u001b[38;5;124m'\u001b[39m\u001b[38;5;132;01m%(name)s\u001b[39;00m\u001b[38;5;124m() got unexpected keyword argument \u001b[39m\u001b[38;5;124m\"\u001b[39m\u001b[38;5;124m'\u001b[39m\n\u001b[0;32m   1634\u001b[0m                 \u001b[38;5;241m+\u001b[39m arg \u001b[38;5;241m+\u001b[39m \u001b[38;5;124m'\u001b[39m\u001b[38;5;124m\"\u001b[39m\u001b[38;5;124m which is no longer supported as of \u001b[39m\u001b[38;5;124m'\u001b[39m\n\u001b[0;32m   1635\u001b[0m                 \u001b[38;5;124m'\u001b[39m\u001b[38;5;132;01m%(since)s\u001b[39;00m\u001b[38;5;124m and will become an error \u001b[39m\u001b[38;5;124m'\u001b[39m\n\u001b[0;32m   1636\u001b[0m                 \u001b[38;5;124m'\u001b[39m\u001b[38;5;132;01m%(removal)s\u001b[39;00m\u001b[38;5;124m'\u001b[39m)\n\u001b[0;32m   1637\u001b[0m     kwargs\u001b[38;5;241m.\u001b[39mpop(arg)\n\u001b[1;32m-> 1639\u001b[0m \u001b[38;5;28;01mreturn\u001b[39;00m func(\u001b[38;5;241m*\u001b[39margs, \u001b[38;5;241m*\u001b[39m\u001b[38;5;241m*\u001b[39mkwargs)\n",
      "File \u001b[1;32m~\\Miniconda3\\envs\\glmhmmbeta\\lib\\site-packages\\matplotlib\\backends\\backend_pdf.py:2586\u001b[0m, in \u001b[0;36mFigureCanvasPdf.print_pdf\u001b[1;34m(self, filename, dpi, bbox_inches_restore, metadata)\u001b[0m\n\u001b[0;32m   2584\u001b[0m     file \u001b[38;5;241m=\u001b[39m filename\u001b[38;5;241m.\u001b[39m_file\n\u001b[0;32m   2585\u001b[0m \u001b[38;5;28;01melse\u001b[39;00m:\n\u001b[1;32m-> 2586\u001b[0m     file \u001b[38;5;241m=\u001b[39m \u001b[43mPdfFile\u001b[49m\u001b[43m(\u001b[49m\u001b[43mfilename\u001b[49m\u001b[43m,\u001b[49m\u001b[43m \u001b[49m\u001b[43mmetadata\u001b[49m\u001b[38;5;241;43m=\u001b[39;49m\u001b[43mmetadata\u001b[49m\u001b[43m)\u001b[49m\n\u001b[0;32m   2587\u001b[0m \u001b[38;5;28;01mtry\u001b[39;00m:\n\u001b[0;32m   2588\u001b[0m     file\u001b[38;5;241m.\u001b[39mnewPage(width, height)\n",
      "File \u001b[1;32m~\\Miniconda3\\envs\\glmhmmbeta\\lib\\site-packages\\matplotlib\\backends\\backend_pdf.py:562\u001b[0m, in \u001b[0;36mPdfFile.__init__\u001b[1;34m(self, filename, metadata)\u001b[0m\n\u001b[0;32m    560\u001b[0m \u001b[38;5;28mself\u001b[39m\u001b[38;5;241m.\u001b[39moriginal_file_like \u001b[38;5;241m=\u001b[39m \u001b[38;5;28;01mNone\u001b[39;00m\n\u001b[0;32m    561\u001b[0m \u001b[38;5;28mself\u001b[39m\u001b[38;5;241m.\u001b[39mtell_base \u001b[38;5;241m=\u001b[39m \u001b[38;5;241m0\u001b[39m\n\u001b[1;32m--> 562\u001b[0m fh, opened \u001b[38;5;241m=\u001b[39m \u001b[43mcbook\u001b[49m\u001b[38;5;241;43m.\u001b[39;49m\u001b[43mto_filehandle\u001b[49m\u001b[43m(\u001b[49m\u001b[43mfilename\u001b[49m\u001b[43m,\u001b[49m\u001b[43m \u001b[49m\u001b[38;5;124;43m\"\u001b[39;49m\u001b[38;5;124;43mwb\u001b[39;49m\u001b[38;5;124;43m\"\u001b[39;49m\u001b[43m,\u001b[49m\u001b[43m \u001b[49m\u001b[43mreturn_opened\u001b[49m\u001b[38;5;241;43m=\u001b[39;49m\u001b[38;5;28;43;01mTrue\u001b[39;49;00m\u001b[43m)\u001b[49m\n\u001b[0;32m    563\u001b[0m \u001b[38;5;28;01mif\u001b[39;00m \u001b[38;5;129;01mnot\u001b[39;00m opened:\n\u001b[0;32m    564\u001b[0m     \u001b[38;5;28;01mtry\u001b[39;00m:\n",
      "File \u001b[1;32m~\\Miniconda3\\envs\\glmhmmbeta\\lib\\site-packages\\matplotlib\\cbook\\__init__.py:408\u001b[0m, in \u001b[0;36mto_filehandle\u001b[1;34m(fname, flag, return_opened, encoding)\u001b[0m\n\u001b[0;32m    406\u001b[0m         fh \u001b[38;5;241m=\u001b[39m bz2\u001b[38;5;241m.\u001b[39mBZ2File(fname, flag)\n\u001b[0;32m    407\u001b[0m     \u001b[38;5;28;01melse\u001b[39;00m:\n\u001b[1;32m--> 408\u001b[0m         fh \u001b[38;5;241m=\u001b[39m \u001b[38;5;28;43mopen\u001b[39;49m\u001b[43m(\u001b[49m\u001b[43mfname\u001b[49m\u001b[43m,\u001b[49m\u001b[43m \u001b[49m\u001b[43mflag\u001b[49m\u001b[43m,\u001b[49m\u001b[43m \u001b[49m\u001b[43mencoding\u001b[49m\u001b[38;5;241;43m=\u001b[39;49m\u001b[43mencoding\u001b[49m\u001b[43m)\u001b[49m\n\u001b[0;32m    409\u001b[0m     opened \u001b[38;5;241m=\u001b[39m \u001b[38;5;28;01mTrue\u001b[39;00m\n\u001b[0;32m    410\u001b[0m \u001b[38;5;28;01melif\u001b[39;00m \u001b[38;5;28mhasattr\u001b[39m(fname, \u001b[38;5;124m'\u001b[39m\u001b[38;5;124mseek\u001b[39m\u001b[38;5;124m'\u001b[39m):\n",
      "\u001b[1;31mFileNotFoundError\u001b[0m: [Errno 2] No such file or directory: 'C:\\\\Users\\\\teof\\\\PycharmProjects\\\\pythonREGITglmhmm\\\\postural_glm_hmm\\\\results_folder\\\\plots_dir/single_pred_dir/diana_notreheaded_singlepredictor_2022-10-26_run//diana_notreheaded_states=2_max_iters=2__pred=1_obs=input_driven_obs_trans=inputdriven/states_occupancies_histogram_neur=1_max_iters=500_tolerance=1e-05_tot_pred=4_obs=input_driven_obs_trans=standard_method=em_diana_notreheaded.pdf'"
     ]
    },
    {
     "data": {
      "image/png": "[encoded data removed]",
      "text/plain": [
       "<Figure size 240x300 with 1 Axes>"
      ]
     },
     "metadata": {},
     "output_type": "display_data"
    }
   ],
   "source": [
    "states_occupancies_histogram(path_analysis_dir, path_info_dir, dict_param=0, file_states_occup=0)"
   ]
  },
  {
   "cell_type": "code",
   "execution_count": null,
   "id": "6c79b903-5d95-4cb2-b643-4b58f34a9668",
   "metadata": {},
   "outputs": [],
   "source": [
    "transition_prob_matrix(path_analysis_dir, path_info_dir, dict_param=0, dict_processed_objects=0)"
   ]
  },
  {
   "cell_type": "code",
   "execution_count": null,
   "id": "1bff3054-1e9b-4097-b39a-484eabc15c1b",
   "metadata": {},
   "outputs": [],
   "source": [
    "weights_distribution_histogram(path_analysis_dir, path_info_dir, multi_predictor=0)"
   ]
  },
  {
   "cell_type": "code",
   "execution_count": null,
   "id": "1753631d-b7dd-4da4-b1ab-fd81769c842a",
   "metadata": {},
   "outputs": [],
   "source": []
  },
  {
   "cell_type": "code",
   "execution_count": null,
   "id": "47546ce7-5744-49f3-9b40-4f3148b5689c",
   "metadata": {},
   "outputs": [],
   "source": []
  }
 ],
 "metadata": {
  "kernelspec": {
   "display_name": "Python 3 (ipykernel)",
   "language": "python",
   "name": "python3"
  },
  "language_info": {
   "codemirror_mode": {
    "name": "ipython",
    "version": 3
   },
   "file_extension": ".py",
   "mimetype": "text/x-python",
   "name": "python",
   "nbconvert_exporter": "python",
   "pygments_lexer": "ipython3",
   "version": "3.9.5"
  }
 },
 "nbformat": 4,
 "nbformat_minor": 5
}
