{
 "cells": [
  {
   "cell_type": "code",
   "execution_count": 1,
   "id": "765fe8b4-22ae-43ad-9ae7-947c56a8c945",
   "metadata": {},
   "outputs": [],
   "source": [
    "from test_beta_package import *\n",
    "%matplotlib inline"
   ]
  },
  {
   "cell_type": "code",
   "execution_count": 2,
   "id": "5f2cf3dd-a30f-4b51-a8db-3e92c3537619",
   "metadata": {},
   "outputs": [],
   "source": [
    "# confirm the folder structure and load the variables\n",
    "path_data_folder, path_raw_data_folder, path_process_data_folder, path_top_folder, path_info_dir, path_analysis_dir, \\\n",
    "path_plots_dir, path_single_pred_dir, path_multi_pred_dir = folder_structure()"
   ]
  },
  {
   "cell_type": "code",
   "execution_count": 3,
   "id": "7d7664bb-73c6-4ea8-8292-40bdc663d92e",
   "metadata": {},
   "outputs": [],
   "source": [
    "# load the processed pickle files  \n",
    "data_continous_ratemaps, data_binned_glm = \\\n",
    "    processing_and_loading(path_raw_data_folder, path_process_data_folder, \n",
    "                           data_continous_ratemaps_pickle=\"rm_pre_data_diana_chasing2_notreheaded_XYZeuler_notricks_eo.pkl\",\n",
    "                           data_binned_glm_pickle=\"binned_4_GLM_rm_pre_data_diana_chasing2_notreheaded_XYZeuler_notricks_eo.pkl\")\n"
   ]
  },
  {
   "cell_type": "code",
   "execution_count": 4,
   "id": "ff532012-2e10-4b46-8397-de2a471ffdc5",
   "metadata": {},
   "outputs": [],
   "source": [
    "# obtain the information from pickles\n",
    "predictors_name_list, cells_id, animal_name = get_data_information(path_info_dir, data_continous_ratemaps)"
   ]
  },
  {
   "cell_type": "code",
   "execution_count": 5,
   "id": "580b67c7-0b7c-4e20-b0a2-0877d3279930",
   "metadata": {},
   "outputs": [],
   "source": [
    "# assign values to the inference parameters\n",
    "dict_param = dict_parameters_hmm(path_info_dir, animal_name, num_dimen=1, num_categ_obs=2, N_iters=100,\n",
    "                                 tolerance=10 ** -5, num_indep_neurons=2, num_predictors=4, max_num_states=3,\n",
    "                                 observation_type=\"input_driven_obs\",\n",
    "                                 transistion_type=\"inputdriven\", optim_method=\"em\")"
   ]
  },
  {
   "cell_type": "code",
   "execution_count": 6,
   "id": "5ee9c9e7-3d0f-47ef-b04a-b3c5788f2a4c",
   "metadata": {},
   "outputs": [],
   "source": [
    "cells_index, tot_time = cells_selection_manual(path_info_dir, data_continous_ratemaps, data_binned_glm, dict_param, 'cells_selection.csv')"
   ]
  },
  {
   "cell_type": "code",
   "execution_count": 7,
   "id": "3915a098-fe3f-43fb-9602-498f9656a522",
   "metadata": {},
   "outputs": [
    {
     "name": "stdout",
     "output_type": "stream",
     "text": [
      "2022-10-24\n",
      "73132\n",
      "73294\n",
      "72867\n",
      "73268\n",
      "the inpts form is [array([[10.6933533 ,  7.77147212, 14.95171273,  1.        ],\n",
      "       [10.94194185,  7.73293056, 14.66348645,  1.        ],\n",
      "       [11.20825033,  7.70454672, 14.19854536,  1.        ],\n",
      "       ...,\n",
      "       [ 1.88188967, 11.14532455,  4.04407274,  1.        ],\n",
      "       [ 1.93495419, 11.15501299,  4.32910028,  1.        ],\n",
      "       [ 1.97855496, 11.16212476,  4.67918961,  1.        ]]), array([[10.6933533 ,  7.77147212, 14.95171273,  1.        ],\n",
      "       [10.94194185,  7.73293056, 14.66348645,  1.        ],\n",
      "       [11.20825033,  7.70454672, 14.19854536,  1.        ],\n",
      "       ...,\n",
      "       [ 1.88188967, 11.14532455,  4.04407274,  1.        ],\n",
      "       [ 1.93495419, 11.15501299,  4.32910028,  1.        ],\n",
      "       [ 1.97855496, 11.16212476,  4.67918961,  1.        ]])]\n",
      "!Fraction missing points is 0.011952353757036795 for the model 0 neuron 0\n",
      "378\n",
      "!Fraction missing points is 0.011952353757036795 for the model 0 neuron 1\n",
      "103\n",
      "!Fraction missing points is 0.011952353757036795 for the model 1 neuron 0\n",
      "378\n",
      "!Fraction missing points is 0.011952353757036795 for the model 1 neuron 1\n",
      "103\n"
     ]
    }
   ],
   "source": [
    "glmhmms_ista, process_neur, inpts, T, tot_masked_indices, path_plots_list, dict_objects_multicov = \\\n",
    "   data_structure_multipredictor(path_analysis_dir, path_info_dir, path_multi_pred_dir, data_continous_ratemaps,\n",
    "                            data_binned_glm, dict_param, tot_time, cells_index, best_predictors='best_predictors.csv')"
   ]
  },
  {
   "cell_type": "code",
   "execution_count": 8,
   "id": "bc74b979-5173-42a3-8df4-f326e4bef6ed",
   "metadata": {},
   "outputs": [
    {
     "name": "stdout",
     "output_type": "stream",
     "text": [
      "[array([[10.6933533 ,  7.77147212, 14.95171273,  1.        ],\n",
      "       [10.94194185,  7.73293056, 14.66348645,  1.        ],\n",
      "       [11.20825033,  7.70454672, 14.19854536,  1.        ],\n",
      "       ...,\n",
      "       [ 1.88188967, 11.14532455,  4.04407274,  1.        ],\n",
      "       [ 1.93495419, 11.15501299,  4.32910028,  1.        ],\n",
      "       [ 1.97855496, 11.16212476,  4.67918961,  1.        ]]), array([[10.6933533 ,  7.77147212, 14.95171273,  1.        ],\n",
      "       [10.94194185,  7.73293056, 14.66348645,  1.        ],\n",
      "       [11.20825033,  7.70454672, 14.19854536,  1.        ],\n",
      "       ...,\n",
      "       [ 1.88188967, 11.14532455,  4.04407274,  1.        ],\n",
      "       [ 1.93495419, 11.15501299,  4.32910028,  1.        ],\n",
      "       [ 1.97855496, 11.16212476,  4.67918961,  1.        ]])]\n"
     ]
    },
    {
     "ename": "ValueError",
     "evalue": "matmul: Input operand 1 has a mismatch in its core dimension 0, with gufunc signature (n?,k),(k,m?)->(n?,m?) (size 2 is different from 4)",
     "output_type": "error",
     "traceback": [
      "\u001b[1;31m---------------------------------------------------------------------------\u001b[0m",
      "\u001b[1;31mValueError\u001b[0m                                Traceback (most recent call last)",
      "Input \u001b[1;32mIn [8]\u001b[0m, in \u001b[0;36m<cell line: 1>\u001b[1;34m()\u001b[0m\n\u001b[1;32m----> 1\u001b[0m fit_ll_states_list, glmhmms_ista, time_states_comp \u001b[38;5;241m=\u001b[39m \u001b[43minference_section_multi_predictor\u001b[49m\u001b[43m(\u001b[49m\u001b[43mpath_analysis_dir\u001b[49m\u001b[43m,\u001b[49m\u001b[43m \u001b[49m\u001b[43mpath_info_dir\u001b[49m\u001b[43m,\u001b[49m\u001b[43m \u001b[49m\u001b[43mdict_param\u001b[49m\u001b[43m,\u001b[49m\n\u001b[0;32m      2\u001b[0m \u001b[43m                                                                       \u001b[49m\u001b[43mglmhmms_ista\u001b[49m\u001b[38;5;241;43m=\u001b[39;49m\u001b[43mglmhmms_ista\u001b[49m\u001b[43m,\u001b[49m\n\u001b[0;32m      3\u001b[0m \u001b[43m                                                                       \u001b[49m\u001b[43mprocess_neur\u001b[49m\u001b[38;5;241;43m=\u001b[39;49m\u001b[43mprocess_neur\u001b[49m\u001b[43m,\u001b[49m\n\u001b[0;32m      4\u001b[0m \u001b[43m                                                                       \u001b[49m\u001b[43minputs_list\u001b[49m\u001b[38;5;241;43m=\u001b[39;49m\u001b[43minpts\u001b[49m\u001b[43m)\u001b[49m\n",
      "File \u001b[1;32m~\\PycharmProjects\\pythonREGITglmhmm\\postural_glm_hmm\\test_beta_package\\inference_and_output_analysis.py:98\u001b[0m, in \u001b[0;36minference_section_multi_predictor\u001b[1;34m(path_analysis_dir, path_info_dir, dict_param, glmhmms_ista, process_neur, inputs_list, dict_objects)\u001b[0m\n\u001b[0;32m     96\u001b[0m fit_ll_states_list\u001b[38;5;241m.\u001b[39mappend([])\n\u001b[0;32m     97\u001b[0m time_states_comp\u001b[38;5;241m.\u001b[39mappend([])\n\u001b[1;32m---> 98\u001b[0m fit_ll \u001b[38;5;241m=\u001b[39m \u001b[43mglmhmms_ista\u001b[49m\u001b[43m[\u001b[49m\u001b[43mi\u001b[49m\u001b[43m]\u001b[49m\u001b[38;5;241;43m.\u001b[39;49m\u001b[43mfit\u001b[49m\u001b[43m(\u001b[49m\u001b[43mprocess_neur\u001b[49m\u001b[43m[\u001b[49m\u001b[43mi\u001b[49m\u001b[43m]\u001b[49m\u001b[43m,\u001b[49m\u001b[43m \u001b[49m\u001b[43minputs\u001b[49m\u001b[38;5;241;43m=\u001b[39;49m\u001b[43minputs_list\u001b[49m\u001b[43m,\u001b[49m\n\u001b[0;32m     99\u001b[0m \u001b[43m         \u001b[49m\u001b[43mmethod\u001b[49m\u001b[38;5;241;43m=\u001b[39;49m\u001b[43mdict_param\u001b[49m\u001b[43m[\u001b[49m\u001b[38;5;124;43m'\u001b[39;49m\u001b[38;5;124;43moptim_method\u001b[39;49m\u001b[38;5;124;43m'\u001b[39;49m\u001b[43m]\u001b[49m\u001b[43m,\u001b[49m\u001b[43m \u001b[49m\u001b[43mnum_iters\u001b[49m\u001b[38;5;241;43m=\u001b[39;49m\u001b[43mdict_param\u001b[49m\u001b[43m[\u001b[49m\u001b[38;5;124;43m'\u001b[39;49m\u001b[38;5;124;43mN_iters\u001b[39;49m\u001b[38;5;124;43m'\u001b[39;49m\u001b[43m]\u001b[49m\u001b[43m,\u001b[49m\n\u001b[0;32m    100\u001b[0m \u001b[43m         \u001b[49m\u001b[43mtolerance\u001b[49m\u001b[38;5;241;43m=\u001b[39;49m\u001b[43mdict_param\u001b[49m\u001b[43m[\u001b[49m\u001b[38;5;124;43m'\u001b[39;49m\u001b[38;5;124;43mtolerance\u001b[39;49m\u001b[38;5;124;43m'\u001b[39;49m\u001b[43m]\u001b[49m\u001b[43m)\u001b[49m  \u001b[38;5;66;03m# actual inference\u001b[39;00m\n\u001b[0;32m    102\u001b[0m fit_ll_states_list[i]\u001b[38;5;241m.\u001b[39mappend(fit_ll)\n\u001b[0;32m    103\u001b[0m time_states_comp[i]\u001b[38;5;241m.\u001b[39mappend(time\u001b[38;5;241m.\u001b[39mtime() \u001b[38;5;241m-\u001b[39m partial_clock)\n",
      "File \u001b[1;32mc:\\users\\teof\\pycharmprojects\\pythonregitglmhmm\\ssm\\ssm\\util.py:111\u001b[0m, in \u001b[0;36mensure_args_are_lists.<locals>.wrapper\u001b[1;34m(self, datas, inputs, masks, tags, **kwargs)\u001b[0m\n\u001b[0;32m    108\u001b[0m \u001b[38;5;28;01melif\u001b[39;00m \u001b[38;5;129;01mnot\u001b[39;00m \u001b[38;5;28misinstance\u001b[39m(tags, (\u001b[38;5;28mlist\u001b[39m, \u001b[38;5;28mtuple\u001b[39m)):\n\u001b[0;32m    109\u001b[0m     tags \u001b[38;5;241m=\u001b[39m [tags]\n\u001b[1;32m--> 111\u001b[0m \u001b[38;5;28;01mreturn\u001b[39;00m f(\u001b[38;5;28mself\u001b[39m, datas, inputs\u001b[38;5;241m=\u001b[39minputs, masks\u001b[38;5;241m=\u001b[39mmasks, tags\u001b[38;5;241m=\u001b[39mtags, \u001b[38;5;241m*\u001b[39m\u001b[38;5;241m*\u001b[39mkwargs)\n",
      "File \u001b[1;32mc:\\users\\teof\\pycharmprojects\\pythonregitglmhmm\\ssm\\ssm\\hmm.py:492\u001b[0m, in \u001b[0;36mHMM.fit\u001b[1;34m(self, datas, inputs, masks, tags, verbose, method, initialize, init_method, **kwargs)\u001b[0m\n\u001b[0;32m    488\u001b[0m     \u001b[38;5;28;01mraise\u001b[39;00m \u001b[38;5;167;01mException\u001b[39;00m(\u001b[38;5;124m\"\u001b[39m\u001b[38;5;124mInvalid method: \u001b[39m\u001b[38;5;132;01m{}\u001b[39;00m\u001b[38;5;124m. Options are \u001b[39m\u001b[38;5;132;01m{}\u001b[39;00m\u001b[38;5;124m\"\u001b[39m\u001b[38;5;241m.\u001b[39m\n\u001b[0;32m    489\u001b[0m                     \u001b[38;5;28mformat\u001b[39m(method, _fitting_methods\u001b[38;5;241m.\u001b[39mkeys()))\n\u001b[0;32m    491\u001b[0m \u001b[38;5;28;01mif\u001b[39;00m initialize:\n\u001b[1;32m--> 492\u001b[0m     \u001b[38;5;28;43mself\u001b[39;49m\u001b[38;5;241;43m.\u001b[39;49m\u001b[43minitialize\u001b[49m\u001b[43m(\u001b[49m\u001b[43mdatas\u001b[49m\u001b[43m,\u001b[49m\n\u001b[0;32m    493\u001b[0m \u001b[43m                    \u001b[49m\u001b[43minputs\u001b[49m\u001b[38;5;241;43m=\u001b[39;49m\u001b[43minputs\u001b[49m\u001b[43m,\u001b[49m\n\u001b[0;32m    494\u001b[0m \u001b[43m                    \u001b[49m\u001b[43mmasks\u001b[49m\u001b[38;5;241;43m=\u001b[39;49m\u001b[43mmasks\u001b[49m\u001b[43m,\u001b[49m\n\u001b[0;32m    495\u001b[0m \u001b[43m                    \u001b[49m\u001b[43mtags\u001b[49m\u001b[38;5;241;43m=\u001b[39;49m\u001b[43mtags\u001b[49m\u001b[43m,\u001b[49m\n\u001b[0;32m    496\u001b[0m \u001b[43m                    \u001b[49m\u001b[43minit_method\u001b[49m\u001b[38;5;241;43m=\u001b[39;49m\u001b[43minit_method\u001b[49m\u001b[43m)\u001b[49m\n\u001b[0;32m    498\u001b[0m \u001b[38;5;28;01mif\u001b[39;00m \u001b[38;5;28misinstance\u001b[39m(\u001b[38;5;28mself\u001b[39m\u001b[38;5;241m.\u001b[39mtransitions,\n\u001b[0;32m    499\u001b[0m               trans\u001b[38;5;241m.\u001b[39mConstrainedStationaryTransitions):\n\u001b[0;32m    500\u001b[0m     \u001b[38;5;28;01mif\u001b[39;00m method \u001b[38;5;241m!=\u001b[39m \u001b[38;5;124m\"\u001b[39m\u001b[38;5;124mem\u001b[39m\u001b[38;5;124m\"\u001b[39m:\n",
      "File \u001b[1;32mc:\\users\\teof\\pycharmprojects\\pythonregitglmhmm\\ssm\\ssm\\util.py:111\u001b[0m, in \u001b[0;36mensure_args_are_lists.<locals>.wrapper\u001b[1;34m(self, datas, inputs, masks, tags, **kwargs)\u001b[0m\n\u001b[0;32m    108\u001b[0m \u001b[38;5;28;01melif\u001b[39;00m \u001b[38;5;129;01mnot\u001b[39;00m \u001b[38;5;28misinstance\u001b[39m(tags, (\u001b[38;5;28mlist\u001b[39m, \u001b[38;5;28mtuple\u001b[39m)):\n\u001b[0;32m    109\u001b[0m     tags \u001b[38;5;241m=\u001b[39m [tags]\n\u001b[1;32m--> 111\u001b[0m \u001b[38;5;28;01mreturn\u001b[39;00m f(\u001b[38;5;28mself\u001b[39m, datas, inputs\u001b[38;5;241m=\u001b[39minputs, masks\u001b[38;5;241m=\u001b[39mmasks, tags\u001b[38;5;241m=\u001b[39mtags, \u001b[38;5;241m*\u001b[39m\u001b[38;5;241m*\u001b[39mkwargs)\n",
      "File \u001b[1;32mc:\\users\\teof\\pycharmprojects\\pythonregitglmhmm\\ssm\\ssm\\hmm.py:148\u001b[0m, in \u001b[0;36mHMM.initialize\u001b[1;34m(self, datas, inputs, masks, tags, init_method)\u001b[0m\n\u001b[0;32m    146\u001b[0m \u001b[38;5;28mself\u001b[39m\u001b[38;5;241m.\u001b[39minit_state_distn\u001b[38;5;241m.\u001b[39minitialize(datas, inputs\u001b[38;5;241m=\u001b[39minputs, masks\u001b[38;5;241m=\u001b[39mmasks, tags\u001b[38;5;241m=\u001b[39mtags)\n\u001b[0;32m    147\u001b[0m \u001b[38;5;28mself\u001b[39m\u001b[38;5;241m.\u001b[39mtransitions\u001b[38;5;241m.\u001b[39minitialize(datas, inputs\u001b[38;5;241m=\u001b[39minputs, masks\u001b[38;5;241m=\u001b[39mmasks, tags\u001b[38;5;241m=\u001b[39mtags)\n\u001b[1;32m--> 148\u001b[0m \u001b[38;5;28;43mself\u001b[39;49m\u001b[38;5;241;43m.\u001b[39;49m\u001b[43mobservations\u001b[49m\u001b[38;5;241;43m.\u001b[39;49m\u001b[43minitialize\u001b[49m\u001b[43m(\u001b[49m\u001b[43mdatas\u001b[49m\u001b[43m,\u001b[49m\u001b[43m \u001b[49m\u001b[43minputs\u001b[49m\u001b[38;5;241;43m=\u001b[39;49m\u001b[43minputs\u001b[49m\u001b[43m,\u001b[49m\u001b[43m \u001b[49m\u001b[43mmasks\u001b[49m\u001b[38;5;241;43m=\u001b[39;49m\u001b[43mmasks\u001b[49m\u001b[43m,\u001b[49m\u001b[43m \u001b[49m\u001b[43mtags\u001b[49m\u001b[38;5;241;43m=\u001b[39;49m\u001b[43mtags\u001b[49m\u001b[43m,\u001b[49m\u001b[43m \u001b[49m\u001b[43minit_method\u001b[49m\u001b[38;5;241;43m=\u001b[39;49m\u001b[43minit_method\u001b[49m\u001b[43m)\u001b[49m\n",
      "File \u001b[1;32mc:\\users\\teof\\pycharmprojects\\pythonregitglmhmm\\ssm\\ssm\\util.py:111\u001b[0m, in \u001b[0;36mensure_args_are_lists.<locals>.wrapper\u001b[1;34m(self, datas, inputs, masks, tags, **kwargs)\u001b[0m\n\u001b[0;32m    108\u001b[0m \u001b[38;5;28;01melif\u001b[39;00m \u001b[38;5;129;01mnot\u001b[39;00m \u001b[38;5;28misinstance\u001b[39m(tags, (\u001b[38;5;28mlist\u001b[39m, \u001b[38;5;28mtuple\u001b[39m)):\n\u001b[0;32m    109\u001b[0m     tags \u001b[38;5;241m=\u001b[39m [tags]\n\u001b[1;32m--> 111\u001b[0m \u001b[38;5;28;01mreturn\u001b[39;00m f(\u001b[38;5;28mself\u001b[39m, datas, inputs\u001b[38;5;241m=\u001b[39minputs, masks\u001b[38;5;241m=\u001b[39mmasks, tags\u001b[38;5;241m=\u001b[39mtags, \u001b[38;5;241m*\u001b[39m\u001b[38;5;241m*\u001b[39mkwargs)\n",
      "File \u001b[1;32mc:\\users\\teof\\pycharmprojects\\pythonregitglmhmm\\ssm\\ssm\\observations.py:61\u001b[0m, in \u001b[0;36mObservations.initialize\u001b[1;34m(self, datas, inputs, masks, tags, init_method)\u001b[0m\n\u001b[0;32m     58\u001b[0m expectations \u001b[38;5;241m=\u001b[39m [(Ez, \u001b[38;5;28;01mNone\u001b[39;00m, \u001b[38;5;28;01mNone\u001b[39;00m) \u001b[38;5;28;01mfor\u001b[39;00m Ez \u001b[38;5;129;01min\u001b[39;00m Ezs]\n\u001b[0;32m     60\u001b[0m \u001b[38;5;66;03m# Set the variances all at once to use the setter\u001b[39;00m\n\u001b[1;32m---> 61\u001b[0m \u001b[38;5;28;43mself\u001b[39;49m\u001b[38;5;241;43m.\u001b[39;49m\u001b[43mm_step\u001b[49m\u001b[43m(\u001b[49m\u001b[43mexpectations\u001b[49m\u001b[43m,\u001b[49m\u001b[43m \u001b[49m\u001b[43mdatas\u001b[49m\u001b[43m,\u001b[49m\u001b[43m \u001b[49m\u001b[43minputs\u001b[49m\u001b[43m,\u001b[49m\u001b[43m \u001b[49m\u001b[43mmasks\u001b[49m\u001b[43m,\u001b[49m\u001b[43m \u001b[49m\u001b[43mtags\u001b[49m\u001b[43m)\u001b[49m\n",
      "File \u001b[1;32mc:\\users\\teof\\pycharmprojects\\pythonregitglmhmm\\ssm\\ssm\\observations.py:812\u001b[0m, in \u001b[0;36mInputDrivenObservations.m_step\u001b[1;34m(self, expectations, datas, inputs, masks, tags, optimizer, **kwargs)\u001b[0m\n\u001b[0;32m    810\u001b[0m \u001b[38;5;28;01mdef\u001b[39;00m \u001b[38;5;21m_hess_k\u001b[39m(params):\n\u001b[0;32m    811\u001b[0m     \u001b[38;5;28;01mreturn\u001b[39;00m _hess(params, k)\n\u001b[1;32m--> 812\u001b[0m sol \u001b[38;5;241m=\u001b[39m \u001b[43mminimize\u001b[49m\u001b[43m(\u001b[49m\u001b[43m_objective_k\u001b[49m\u001b[43m,\u001b[49m\u001b[43m \u001b[49m\u001b[38;5;28;43mself\u001b[39;49m\u001b[38;5;241;43m.\u001b[39;49m\u001b[43mparams\u001b[49m\u001b[43m[\u001b[49m\u001b[43mk\u001b[49m\u001b[43m]\u001b[49m\u001b[38;5;241;43m.\u001b[39;49m\u001b[43mreshape\u001b[49m\u001b[43m(\u001b[49m\u001b[43m(\u001b[49m\u001b[43m(\u001b[49m\u001b[38;5;28;43mself\u001b[39;49m\u001b[38;5;241;43m.\u001b[39;49m\u001b[43mC\u001b[49m\u001b[38;5;241;43m-\u001b[39;49m\u001b[38;5;241;43m1\u001b[39;49m\u001b[43m)\u001b[49m\u001b[43m \u001b[49m\u001b[38;5;241;43m*\u001b[39;49m\u001b[43m \u001b[49m\u001b[38;5;28;43mself\u001b[39;49m\u001b[38;5;241;43m.\u001b[39;49m\u001b[43mM\u001b[49m\u001b[43m)\u001b[49m\u001b[43m)\u001b[49m\u001b[43m,\u001b[49m\u001b[43m \u001b[49m\u001b[43mhess\u001b[49m\u001b[38;5;241;43m=\u001b[39;49m\u001b[43m_hess_k\u001b[49m\u001b[43m,\u001b[49m\u001b[43m \u001b[49m\u001b[43mjac\u001b[49m\u001b[38;5;241;43m=\u001b[39;49m\u001b[43m_gradient_k\u001b[49m\u001b[43m,\u001b[49m\u001b[43m \u001b[49m\u001b[43mmethod\u001b[49m\u001b[38;5;241;43m=\u001b[39;49m\u001b[38;5;124;43m\"\u001b[39;49m\u001b[38;5;124;43mtrust-ncg\u001b[39;49m\u001b[38;5;124;43m\"\u001b[39;49m\u001b[43m)\u001b[49m\n\u001b[0;32m    813\u001b[0m \u001b[38;5;28mself\u001b[39m\u001b[38;5;241m.\u001b[39mparams[k] \u001b[38;5;241m=\u001b[39m np\u001b[38;5;241m.\u001b[39mreshape(sol\u001b[38;5;241m.\u001b[39mx, (\u001b[38;5;28mself\u001b[39m\u001b[38;5;241m.\u001b[39mC\u001b[38;5;241m-\u001b[39m\u001b[38;5;241m1\u001b[39m, \u001b[38;5;28mself\u001b[39m\u001b[38;5;241m.\u001b[39mM))\n",
      "File \u001b[1;32m~\\Miniconda3\\envs\\glmhmmbeta\\lib\\site-packages\\scipy\\optimize\\_minimize.py:718\u001b[0m, in \u001b[0;36mminimize\u001b[1;34m(fun, x0, args, method, jac, hess, hessp, bounds, constraints, tol, callback, options)\u001b[0m\n\u001b[0;32m    715\u001b[0m     res \u001b[38;5;241m=\u001b[39m _minimize_dogleg(fun, x0, args, jac, hess,\n\u001b[0;32m    716\u001b[0m                            callback\u001b[38;5;241m=\u001b[39mcallback, \u001b[38;5;241m*\u001b[39m\u001b[38;5;241m*\u001b[39moptions)\n\u001b[0;32m    717\u001b[0m \u001b[38;5;28;01melif\u001b[39;00m meth \u001b[38;5;241m==\u001b[39m \u001b[38;5;124m'\u001b[39m\u001b[38;5;124mtrust-ncg\u001b[39m\u001b[38;5;124m'\u001b[39m:\n\u001b[1;32m--> 718\u001b[0m     res \u001b[38;5;241m=\u001b[39m _minimize_trust_ncg(fun, x0, args, jac, hess, hessp,\n\u001b[0;32m    719\u001b[0m                               callback\u001b[38;5;241m=\u001b[39mcallback, \u001b[38;5;241m*\u001b[39m\u001b[38;5;241m*\u001b[39moptions)\n\u001b[0;32m    720\u001b[0m \u001b[38;5;28;01melif\u001b[39;00m meth \u001b[38;5;241m==\u001b[39m \u001b[38;5;124m'\u001b[39m\u001b[38;5;124mtrust-krylov\u001b[39m\u001b[38;5;124m'\u001b[39m:\n\u001b[0;32m    721\u001b[0m     res \u001b[38;5;241m=\u001b[39m _minimize_trust_krylov(fun, x0, args, jac, hess, hessp,\n\u001b[0;32m    722\u001b[0m                                  callback\u001b[38;5;241m=\u001b[39mcallback, \u001b[38;5;241m*\u001b[39m\u001b[38;5;241m*\u001b[39moptions)\n",
      "File \u001b[1;32m~\\Miniconda3\\envs\\glmhmmbeta\\lib\\site-packages\\scipy\\optimize\\_trustregion_ncg.py:37\u001b[0m, in \u001b[0;36m_minimize_trust_ncg\u001b[1;34m(fun, x0, args, jac, hess, hessp, **trust_region_options)\u001b[0m\n\u001b[0;32m     34\u001b[0m \u001b[38;5;28;01mif\u001b[39;00m hess \u001b[38;5;129;01mis\u001b[39;00m \u001b[38;5;28;01mNone\u001b[39;00m \u001b[38;5;129;01mand\u001b[39;00m hessp \u001b[38;5;129;01mis\u001b[39;00m \u001b[38;5;28;01mNone\u001b[39;00m:\n\u001b[0;32m     35\u001b[0m     \u001b[38;5;28;01mraise\u001b[39;00m \u001b[38;5;167;01mValueError\u001b[39;00m(\u001b[38;5;124m'\u001b[39m\u001b[38;5;124mEither the Hessian or the Hessian-vector product \u001b[39m\u001b[38;5;124m'\u001b[39m\n\u001b[0;32m     36\u001b[0m                      \u001b[38;5;124m'\u001b[39m\u001b[38;5;124mis required for Newton-CG trust-region minimization\u001b[39m\u001b[38;5;124m'\u001b[39m)\n\u001b[1;32m---> 37\u001b[0m \u001b[38;5;28;01mreturn\u001b[39;00m _minimize_trust_region(fun, x0, args\u001b[38;5;241m=\u001b[39margs, jac\u001b[38;5;241m=\u001b[39mjac, hess\u001b[38;5;241m=\u001b[39mhess,\n\u001b[0;32m     38\u001b[0m                               hessp\u001b[38;5;241m=\u001b[39mhessp, subproblem\u001b[38;5;241m=\u001b[39mCGSteihaugSubproblem,\n\u001b[0;32m     39\u001b[0m                               \u001b[38;5;241m*\u001b[39m\u001b[38;5;241m*\u001b[39mtrust_region_options)\n",
      "File \u001b[1;32m~\\Miniconda3\\envs\\glmhmmbeta\\lib\\site-packages\\scipy\\optimize\\_trustregion.py:174\u001b[0m, in \u001b[0;36m_minimize_trust_region\u001b[1;34m(fun, x0, args, jac, hess, hessp, subproblem, initial_trust_radius, max_trust_radius, eta, gtol, maxiter, disp, return_all, callback, inexact, **unknown_options)\u001b[0m\n\u001b[0;32m    170\u001b[0m x0 \u001b[38;5;241m=\u001b[39m np\u001b[38;5;241m.\u001b[39masarray(x0)\u001b[38;5;241m.\u001b[39mflatten()\n\u001b[0;32m    172\u001b[0m \u001b[38;5;66;03m# A ScalarFunction representing the problem. This caches calls to fun, jac,\u001b[39;00m\n\u001b[0;32m    173\u001b[0m \u001b[38;5;66;03m# hess.\u001b[39;00m\n\u001b[1;32m--> 174\u001b[0m sf \u001b[38;5;241m=\u001b[39m \u001b[43m_prepare_scalar_function\u001b[49m\u001b[43m(\u001b[49m\u001b[43mfun\u001b[49m\u001b[43m,\u001b[49m\u001b[43m \u001b[49m\u001b[43mx0\u001b[49m\u001b[43m,\u001b[49m\u001b[43m \u001b[49m\u001b[43mjac\u001b[49m\u001b[38;5;241;43m=\u001b[39;49m\u001b[43mjac\u001b[49m\u001b[43m,\u001b[49m\u001b[43m \u001b[49m\u001b[43mhess\u001b[49m\u001b[38;5;241;43m=\u001b[39;49m\u001b[43mhess\u001b[49m\u001b[43m,\u001b[49m\u001b[43m \u001b[49m\u001b[43margs\u001b[49m\u001b[38;5;241;43m=\u001b[39;49m\u001b[43margs\u001b[49m\u001b[43m)\u001b[49m\n\u001b[0;32m    175\u001b[0m fun \u001b[38;5;241m=\u001b[39m sf\u001b[38;5;241m.\u001b[39mfun\n\u001b[0;32m    176\u001b[0m jac \u001b[38;5;241m=\u001b[39m sf\u001b[38;5;241m.\u001b[39mgrad\n",
      "File \u001b[1;32m~\\Miniconda3\\envs\\glmhmmbeta\\lib\\site-packages\\scipy\\optimize\\_optimize.py:263\u001b[0m, in \u001b[0;36m_prepare_scalar_function\u001b[1;34m(fun, x0, jac, args, bounds, epsilon, finite_diff_rel_step, hess)\u001b[0m\n\u001b[0;32m    259\u001b[0m     bounds \u001b[38;5;241m=\u001b[39m (\u001b[38;5;241m-\u001b[39mnp\u001b[38;5;241m.\u001b[39minf, np\u001b[38;5;241m.\u001b[39minf)\n\u001b[0;32m    261\u001b[0m \u001b[38;5;66;03m# ScalarFunction caches. Reuse of fun(x) during grad\u001b[39;00m\n\u001b[0;32m    262\u001b[0m \u001b[38;5;66;03m# calculation reduces overall function evaluations.\u001b[39;00m\n\u001b[1;32m--> 263\u001b[0m sf \u001b[38;5;241m=\u001b[39m \u001b[43mScalarFunction\u001b[49m\u001b[43m(\u001b[49m\u001b[43mfun\u001b[49m\u001b[43m,\u001b[49m\u001b[43m \u001b[49m\u001b[43mx0\u001b[49m\u001b[43m,\u001b[49m\u001b[43m \u001b[49m\u001b[43margs\u001b[49m\u001b[43m,\u001b[49m\u001b[43m \u001b[49m\u001b[43mgrad\u001b[49m\u001b[43m,\u001b[49m\u001b[43m \u001b[49m\u001b[43mhess\u001b[49m\u001b[43m,\u001b[49m\n\u001b[0;32m    264\u001b[0m \u001b[43m                    \u001b[49m\u001b[43mfinite_diff_rel_step\u001b[49m\u001b[43m,\u001b[49m\u001b[43m \u001b[49m\u001b[43mbounds\u001b[49m\u001b[43m,\u001b[49m\u001b[43m \u001b[49m\u001b[43mepsilon\u001b[49m\u001b[38;5;241;43m=\u001b[39;49m\u001b[43mepsilon\u001b[49m\u001b[43m)\u001b[49m\n\u001b[0;32m    266\u001b[0m \u001b[38;5;28;01mreturn\u001b[39;00m sf\n",
      "File \u001b[1;32m~\\Miniconda3\\envs\\glmhmmbeta\\lib\\site-packages\\scipy\\optimize\\_differentiable_functions.py:158\u001b[0m, in \u001b[0;36mScalarFunction.__init__\u001b[1;34m(self, fun, x0, args, grad, hess, finite_diff_rel_step, finite_diff_bounds, epsilon)\u001b[0m\n\u001b[0;32m    155\u001b[0m     \u001b[38;5;28mself\u001b[39m\u001b[38;5;241m.\u001b[39mf \u001b[38;5;241m=\u001b[39m fun_wrapped(\u001b[38;5;28mself\u001b[39m\u001b[38;5;241m.\u001b[39mx)\n\u001b[0;32m    157\u001b[0m \u001b[38;5;28mself\u001b[39m\u001b[38;5;241m.\u001b[39m_update_fun_impl \u001b[38;5;241m=\u001b[39m update_fun\n\u001b[1;32m--> 158\u001b[0m \u001b[38;5;28;43mself\u001b[39;49m\u001b[38;5;241;43m.\u001b[39;49m\u001b[43m_update_fun\u001b[49m\u001b[43m(\u001b[49m\u001b[43m)\u001b[49m\n\u001b[0;32m    160\u001b[0m \u001b[38;5;66;03m# Gradient evaluation\u001b[39;00m\n\u001b[0;32m    161\u001b[0m \u001b[38;5;28;01mif\u001b[39;00m callable(grad):\n",
      "File \u001b[1;32m~\\Miniconda3\\envs\\glmhmmbeta\\lib\\site-packages\\scipy\\optimize\\_differentiable_functions.py:251\u001b[0m, in \u001b[0;36mScalarFunction._update_fun\u001b[1;34m(self)\u001b[0m\n\u001b[0;32m    249\u001b[0m \u001b[38;5;28;01mdef\u001b[39;00m \u001b[38;5;21m_update_fun\u001b[39m(\u001b[38;5;28mself\u001b[39m):\n\u001b[0;32m    250\u001b[0m     \u001b[38;5;28;01mif\u001b[39;00m \u001b[38;5;129;01mnot\u001b[39;00m \u001b[38;5;28mself\u001b[39m\u001b[38;5;241m.\u001b[39mf_updated:\n\u001b[1;32m--> 251\u001b[0m         \u001b[38;5;28;43mself\u001b[39;49m\u001b[38;5;241;43m.\u001b[39;49m\u001b[43m_update_fun_impl\u001b[49m\u001b[43m(\u001b[49m\u001b[43m)\u001b[49m\n\u001b[0;32m    252\u001b[0m         \u001b[38;5;28mself\u001b[39m\u001b[38;5;241m.\u001b[39mf_updated \u001b[38;5;241m=\u001b[39m \u001b[38;5;28;01mTrue\u001b[39;00m\n",
      "File \u001b[1;32m~\\Miniconda3\\envs\\glmhmmbeta\\lib\\site-packages\\scipy\\optimize\\_differentiable_functions.py:155\u001b[0m, in \u001b[0;36mScalarFunction.__init__.<locals>.update_fun\u001b[1;34m()\u001b[0m\n\u001b[0;32m    154\u001b[0m \u001b[38;5;28;01mdef\u001b[39;00m \u001b[38;5;21mupdate_fun\u001b[39m():\n\u001b[1;32m--> 155\u001b[0m     \u001b[38;5;28mself\u001b[39m\u001b[38;5;241m.\u001b[39mf \u001b[38;5;241m=\u001b[39m \u001b[43mfun_wrapped\u001b[49m\u001b[43m(\u001b[49m\u001b[38;5;28;43mself\u001b[39;49m\u001b[38;5;241;43m.\u001b[39;49m\u001b[43mx\u001b[49m\u001b[43m)\u001b[49m\n",
      "File \u001b[1;32m~\\Miniconda3\\envs\\glmhmmbeta\\lib\\site-packages\\scipy\\optimize\\_differentiable_functions.py:137\u001b[0m, in \u001b[0;36mScalarFunction.__init__.<locals>.fun_wrapped\u001b[1;34m(x)\u001b[0m\n\u001b[0;32m    133\u001b[0m \u001b[38;5;28mself\u001b[39m\u001b[38;5;241m.\u001b[39mnfev \u001b[38;5;241m+\u001b[39m\u001b[38;5;241m=\u001b[39m \u001b[38;5;241m1\u001b[39m\n\u001b[0;32m    134\u001b[0m \u001b[38;5;66;03m# Send a copy because the user may overwrite it.\u001b[39;00m\n\u001b[0;32m    135\u001b[0m \u001b[38;5;66;03m# Overwriting results in undefined behaviour because\u001b[39;00m\n\u001b[0;32m    136\u001b[0m \u001b[38;5;66;03m# fun(self.x) will change self.x, with the two no longer linked.\u001b[39;00m\n\u001b[1;32m--> 137\u001b[0m fx \u001b[38;5;241m=\u001b[39m \u001b[43mfun\u001b[49m\u001b[43m(\u001b[49m\u001b[43mnp\u001b[49m\u001b[38;5;241;43m.\u001b[39;49m\u001b[43mcopy\u001b[49m\u001b[43m(\u001b[49m\u001b[43mx\u001b[49m\u001b[43m)\u001b[49m\u001b[43m,\u001b[49m\u001b[43m \u001b[49m\u001b[38;5;241;43m*\u001b[39;49m\u001b[43margs\u001b[49m\u001b[43m)\u001b[49m\n\u001b[0;32m    138\u001b[0m \u001b[38;5;66;03m# Make sure the function returns a true scalar\u001b[39;00m\n\u001b[0;32m    139\u001b[0m \u001b[38;5;28;01mif\u001b[39;00m \u001b[38;5;129;01mnot\u001b[39;00m np\u001b[38;5;241m.\u001b[39misscalar(fx):\n",
      "File \u001b[1;32mc:\\users\\teof\\pycharmprojects\\pythonregitglmhmm\\ssm\\ssm\\observations.py:807\u001b[0m, in \u001b[0;36mInputDrivenObservations.m_step.<locals>._objective_k\u001b[1;34m(params)\u001b[0m\n\u001b[0;32m    806\u001b[0m \u001b[38;5;28;01mdef\u001b[39;00m \u001b[38;5;21m_objective_k\u001b[39m(params):\n\u001b[1;32m--> 807\u001b[0m     \u001b[38;5;28;01mreturn\u001b[39;00m \u001b[43m_objective\u001b[49m\u001b[43m(\u001b[49m\u001b[43mparams\u001b[49m\u001b[43m,\u001b[49m\u001b[43m \u001b[49m\u001b[43mk\u001b[49m\u001b[43m)\u001b[49m\n",
      "File \u001b[1;32mc:\\users\\teof\\pycharmprojects\\pythonregitglmhmm\\ssm\\ssm\\observations.py:734\u001b[0m, in \u001b[0;36mInputDrivenObservations.m_step.<locals>._objective\u001b[1;34m(params, k)\u001b[0m\n\u001b[0;32m    731\u001b[0m obj \u001b[38;5;241m=\u001b[39m \u001b[38;5;241m0\u001b[39m\n\u001b[0;32m    732\u001b[0m \u001b[38;5;28;01mfor\u001b[39;00m data, \u001b[38;5;28minput\u001b[39m, mask, tag, (expected_states, _, _) \\\n\u001b[0;32m    733\u001b[0m         \u001b[38;5;129;01min\u001b[39;00m \u001b[38;5;28mzip\u001b[39m(datas, inputs, masks, tags, expectations):\n\u001b[1;32m--> 734\u001b[0m     xproj \u001b[38;5;241m=\u001b[39m \u001b[38;5;28;43minput\u001b[39;49m\u001b[43m \u001b[49m\u001b[38;5;241;43m@\u001b[39;49m\u001b[43m \u001b[49m\u001b[43mW\u001b[49m\u001b[38;5;241;43m.\u001b[39;49m\u001b[43mT\u001b[49m  \u001b[38;5;66;03m# projection of input onto weight matrix for particular state, size is Tx(C-1)\u001b[39;00m\n\u001b[0;32m    735\u001b[0m     f, _ \u001b[38;5;241m=\u001b[39m _multisoftplus(xproj)\n\u001b[0;32m    736\u001b[0m     \u001b[38;5;28;01massert\u001b[39;00m data\u001b[38;5;241m.\u001b[39mshape[\u001b[38;5;241m1\u001b[39m] \u001b[38;5;241m==\u001b[39m \u001b[38;5;241m1\u001b[39m, \u001b[38;5;124m\"\u001b[39m\u001b[38;5;124mInputDrivenObservations written for D = 1!\u001b[39m\u001b[38;5;124m\"\u001b[39m\n",
      "\u001b[1;31mValueError\u001b[0m: matmul: Input operand 1 has a mismatch in its core dimension 0, with gufunc signature (n?,k),(k,m?)->(n?,m?) (size 2 is different from 4)"
     ]
    }
   ],
   "source": [
    "fit_ll_states_list, glmhmms_ista, time_states_comp = inference_section_multi_predictor(path_analysis_dir, path_info_dir, dict_param,\n",
    "                                                                       glmhmms_ista=glmhmms_ista,\n",
    "                                                                       process_neur=process_neur,\n",
    "                                                                       inputs_list=inpts)"
   ]
  },
  {
   "cell_type": "code",
   "execution_count": null,
   "id": "bdd3c15b-6756-4a0d-a550-9255169557f4",
   "metadata": {},
   "outputs": [],
   "source": [
    "# posterior_probs_list = posterior_prob_process(path_info_dir, path_analysis_dir, dict_param, dict_processed_objects=\"a\") # glmhmms_ista=glmhmms_ista, process_neur=process_neur, inputs_list=inputs_list)\n"
   ]
  },
  {
   "cell_type": "code",
   "execution_count": null,
   "id": "474e3002-2ca2-4ec6-8406-691a196691fb",
   "metadata": {},
   "outputs": [],
   "source": [
    "# take the cumulative occupancy per state\n",
    "states_occupancies = states_occupancies_computation(path_analysis_dir, dict_posterior=0)"
   ]
  },
  {
   "cell_type": "code",
   "execution_count": null,
   "id": "3f5f8845-e1f8-43c4-9a3a-5d8ba83891ad",
   "metadata": {},
   "outputs": [],
   "source": [
    "states_occupancies_histogram(path_analysis_dir, path_info_dir, dict_param=0, file_states_occup=0)"
   ]
  },
  {
   "cell_type": "code",
   "execution_count": null,
   "id": "6c79b903-5d95-4cb2-b643-4b58f34a9668",
   "metadata": {},
   "outputs": [],
   "source": [
    "transition_prob_matrix(path_analysis_dir, path_info_dir, dict_param=0, dict_processed_objects=0)"
   ]
  },
  {
   "cell_type": "code",
   "execution_count": null,
   "id": "1bff3054-1e9b-4097-b39a-484eabc15c1b",
   "metadata": {},
   "outputs": [],
   "source": [
    "weights_distribution_histogram(path_analysis_dir, path_info_dir)"
   ]
  },
  {
   "cell_type": "code",
   "execution_count": null,
   "id": "1753631d-b7dd-4da4-b1ab-fd81769c842a",
   "metadata": {},
   "outputs": [],
   "source": []
  }
 ],
 "metadata": {
  "kernelspec": {
   "display_name": "Python 3 (ipykernel)",
   "language": "python",
   "name": "python3"
  },
  "language_info": {
   "codemirror_mode": {
    "name": "ipython",
    "version": 3
   },
   "file_extension": ".py",
   "mimetype": "text/x-python",
   "name": "python",
   "nbconvert_exporter": "python",
   "pygments_lexer": "ipython3",
   "version": "3.9.5"
  }
 },
 "nbformat": 4,
 "nbformat_minor": 5
}
