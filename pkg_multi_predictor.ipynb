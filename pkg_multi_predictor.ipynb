{
 "cells": [
  {
   "cell_type": "code",
   "execution_count": 1,
   "id": "765fe8b4-22ae-43ad-9ae7-947c56a8c945",
   "metadata": {},
   "outputs": [],
   "source": [
    "from test_beta_package import *\n",
    "%matplotlib inline"
   ]
  },
  {
   "cell_type": "code",
   "execution_count": 2,
   "id": "5f2cf3dd-a30f-4b51-a8db-3e92c3537619",
   "metadata": {},
   "outputs": [],
   "source": [
    "# confirm the folder structure and load the variables\n",
    "path_data_folder, path_raw_data_folder, path_process_data_folder, path_top_folder, path_info_dir, path_analysis_dir, \\\n",
    "path_plots_dir, path_single_pred_dir, path_multi_pred_dir = folder_structure()"
   ]
  },
  {
   "cell_type": "code",
   "execution_count": 3,
   "id": "7d7664bb-73c6-4ea8-8292-40bdc663d92e",
   "metadata": {},
   "outputs": [
    {
     "name": "stdout",
     "output_type": "stream",
     "text": [
      "the continous dictionary is dict_keys(['output_file_prefix', 'exist_animal2', 'startaltbins', 'endaltbins', 'settings', 'session_indicator', 'frame_times', 'time_bins', 'framerate', 'overall_framerate', 'session_ts', 'tracking_ts', 'cell_names', 'cell_activities', 'dxs', 'dys', 'animal_location', 'possiblecovariates', 'possiblecovariatesnames', 'possiblecovariatesbounds', 'possiblecovariatesbins'])\n",
      "the binned dictionary is dict_keys(['framerate', 'settings', 'cell_names', 'spk_mat', 'features_mat'])\n",
      "the binned dictionary is [0. 0. 0. ... 0. 0. 0.]\n"
     ]
    }
   ],
   "source": [
    "# load the processed pickle files  \n",
    "data_continous_ratemaps, data_binned_glm = \\\n",
    "    processing_and_loading(path_raw_data_folder, path_process_data_folder, \n",
    "                           data_continous_ratemaps_pickle=\"rm_pre_data_diana_chasing2_notreheaded_XYZeuler_notricks_eo.pkl\",\n",
    "                           data_binned_glm_pickle=\"binned_4_GLM_rm_pre_data_diana_chasing2_notreheaded_XYZeuler_notricks_eo.pkl\")\n"
   ]
  },
  {
   "cell_type": "code",
   "execution_count": 14,
   "id": "ff532012-2e10-4b46-8397-de2a471ffdc5",
   "metadata": {},
   "outputs": [
    {
     "name": "stdout",
     "output_type": "stream",
     "text": [
      "['B Speeds', 'C Body_direction', 'D Allo_head_direction', 'G Neck_elevation', 'K Ego3_Head_roll', 'L Ego3_Head_pitch', 'M Ego3_Head_azimuth', 'N Back_pitch', 'O Back_azimuth', 'P Ego2_head_roll', 'Q Ego2_head_pitch', 'R Ego2_head_azimuth', 'B Speeds_1st_der', 'C Body_direction_1st_der', 'C Body_direction_2nd_der', 'D Allo_head_direction_1st_der', 'D Allo_head_direction_2nd_der', 'G Neck_elevation_1st_der', 'G Neck_elevation_2nd_der', 'K Ego3_Head_roll_1st_der', 'K Ego3_Head_roll_2nd_der', 'L Ego3_Head_pitch_1st_der', 'L Ego3_Head_pitch_2nd_der', 'M Ego3_Head_azimuth_1st_der', 'M Ego3_Head_azimuth_2nd_der', 'N Back_pitch_1st_der', 'N Back_pitch_2nd_der', 'O Back_azimuth_1st_der', 'O Back_azimuth_2nd_der', 'P Ego2_head_roll_1st_der', 'P Ego2_head_roll_2nd_der', 'Q Ego2_head_pitch_1st_der', 'Q Ego2_head_pitch_2nd_der', 'R Ego2_head_azimuth_1st_der', 'R Ego2_head_azimuth_2nd_der']\n"
     ]
    }
   ],
   "source": [
    "# obtain the information from pickles\n",
    "predictors_name_list, cells_id, animal_name = get_data_information(path_info_dir, data_continous_ratemaps)\n",
    "print(predictors_name_list)"
   ]
  },
  {
   "cell_type": "code",
   "execution_count": 5,
   "id": "580b67c7-0b7c-4e20-b0a2-0877d3279930",
   "metadata": {},
   "outputs": [],
   "source": [
    "# assign values to the inference parameters\n",
    "dict_param = dict_parameters_hmm(path_info_dir, animal_name, num_dimen=1, num_categ_obs=2, N_iters=2,\n",
    "                                 tolerance=10 ** -5, num_indep_neurons=1, num_predictors=4, max_num_states=3,\n",
    "                                 observation_type=\"input_driven_obs\",\n",
    "                                 transistion_type=\"inputdriven\", optim_method=\"em\")"
   ]
  },
  {
   "cell_type": "code",
   "execution_count": 6,
   "id": "5ee9c9e7-3d0f-47ef-b04a-b3c5788f2a4c",
   "metadata": {},
   "outputs": [],
   "source": [
    "cells_index, tot_time = cells_selection_manual(path_info_dir, data_continous_ratemaps, data_binned_glm, dict_param, 'cells_selection.csv')"
   ]
  },
  {
   "cell_type": "code",
   "execution_count": 7,
   "id": "3915a098-fe3f-43fb-9602-498f9656a522",
   "metadata": {},
   "outputs": [
    {
     "name": "stdout",
     "output_type": "stream",
     "text": [
      "        Predictors'\n",
      "0          B Speeds\n",
      "1  G Neck_elevation\n",
      "2  K Ego3_Head_roll\n",
      "3      N Back_pitch\n",
      "4  B Speeds_1st_der\n",
      "!Fraction missing points is 0.011952353757036795 for the model 0\n",
      "!Fraction missing points is 0.011952353757036795 for the model 1\n"
     ]
    }
   ],
   "source": [
    "glmhmms_ista, process_neur, inpts, T, tot_masked_indices, path_plots_list, dict_objects_multicov = \\\n",
    "   data_structure_multipredictor(path_analysis_dir, path_info_dir, path_multi_pred_dir, data_continous_ratemaps,\n",
    "                            data_binned_glm, dict_param, tot_time, cells_index, best_predictors='best_predictors.csv')"
   ]
  },
  {
   "cell_type": "code",
   "execution_count": 8,
   "id": "bc74b979-5173-42a3-8df4-f326e4bef6ed",
   "metadata": {},
   "outputs": [
    {
     "name": "stdout",
     "output_type": "stream",
     "text": [
      "[[ 10.6933533    7.77147212  14.95171273  -8.59643744]\n",
      " [ 10.94194185   7.73293056  14.66348645  -8.67085945]\n",
      " [ 11.20825033   7.70454672  14.19854536  -9.21949251]\n",
      " ...\n",
      " [  1.88188967  11.14532455   4.04407274 -11.50604441]\n",
      " [  1.93495419  11.15501299   4.32910028 -11.38905724]\n",
      " [  1.97855496  11.16212476   4.67918961 -11.26107216]]\n"
     ]
    },
    {
     "data": {
      "application/vnd.jupyter.widget-view+json": {
       "model_id": "93278b7b8f87419d8ee08008c9182113",
       "version_major": 2,
       "version_minor": 0
      },
      "text/plain": [
       "  0%|          | 0/2 [00:00<?, ?it/s]"
      ]
     },
     "metadata": {},
     "output_type": "display_data"
    },
    {
     "name": "stdout",
     "output_type": "stream",
     "text": [
      "computation time loop 0 is 2.5370285511016846\n"
     ]
    },
    {
     "data": {
      "application/vnd.jupyter.widget-view+json": {
       "model_id": "4a870f7c6dae418999511d184c162422",
       "version_major": 2,
       "version_minor": 0
      },
      "text/plain": [
       "  0%|          | 0/2 [00:00<?, ?it/s]"
      ]
     },
     "metadata": {},
     "output_type": "display_data"
    },
    {
     "name": "stdout",
     "output_type": "stream",
     "text": [
      "computation time loop 1 is 2.6491000652313232\n",
      "The total time for the inference is 5.187127113342285\n"
     ]
    }
   ],
   "source": [
    "fit_ll_states_list, glmhmms_ista, time_states_comp = inference_section_multi_predictor(path_analysis_dir, path_info_dir, dict_param,\n",
    "                                                                       glmhmms_ista=glmhmms_ista,\n",
    "                                                                       process_neur=process_neur,\n",
    "                                                                       inputs_list=inpts)"
   ]
  },
  {
   "cell_type": "code",
   "execution_count": 9,
   "id": "bdd3c15b-6756-4a0d-a550-9255169557f4",
   "metadata": {},
   "outputs": [
    {
     "name": "stdout",
     "output_type": "stream",
     "text": [
      "the input form is [array([[ 10.6933533 ,   7.77147212,  14.95171273,  -8.59643744],\n",
      "       [ 10.94194185,   7.73293056,  14.66348645,  -8.67085945],\n",
      "       [ 11.20825033,   7.70454672,  14.19854536,  -9.21949251],\n",
      "       ...,\n",
      "       [  1.88188967,  11.14532455,   4.04407274, -11.50604441],\n",
      "       [  1.93495419,  11.15501299,   4.32910028, -11.38905724],\n",
      "       [  1.97855496,  11.16212476,   4.67918961, -11.26107216]])]\n",
      "Total computation time for posterior probability is 0.2763712406158447\n"
     ]
    }
   ],
   "source": [
    "posterior_probs_list = posterior_prob_process(path_info_dir, path_analysis_dir, dict_param=dict_param, dict_processed_objects=0, multi_predictor=0) # glmhmms_ista=glmhmms_ista, process_neur=process_neur, inputs_list=inputs_list)\n"
   ]
  },
  {
   "cell_type": "code",
   "execution_count": 10,
   "id": "474e3002-2ca2-4ec6-8406-691a196691fb",
   "metadata": {},
   "outputs": [],
   "source": [
    "%%capture cap --no-stderr\n",
    "# take the cumulative occupancy per state\n",
    "states_occupancies = states_occupancies_computation(path_analysis_dir, dict_posterior=0)"
   ]
  },
  {
   "cell_type": "code",
   "execution_count": 11,
   "id": "3f5f8845-e1f8-43c4-9a3a-5d8ba83891ad",
   "metadata": {},
   "outputs": [
    {
     "name": "stdout",
     "output_type": "stream",
     "text": [
      "state of occupancy is [1.36739047e-05 9.99986326e-01]\n"
     ]
    },
    {
     "data": {
      "image/png": "[encoded data removed]",
      "text/plain": [
       "<Figure size 240x300 with 1 Axes>"
      ]
     },
     "metadata": {},
     "output_type": "display_data"
    }
   ],
   "source": [
    "states_occupancies_histogram(path_analysis_dir, path_info_dir, dict_param=0, file_states_occup=0)"
   ]
  },
  {
   "cell_type": "code",
   "execution_count": 12,
   "id": "6c79b903-5d95-4cb2-b643-4b58f34a9668",
   "metadata": {},
   "outputs": [
    {
     "data": {
      "image/png": "[encoded data removed]",
      "text/plain": [
       "<Figure size 840x480 with 1 Axes>"
      ]
     },
     "metadata": {},
     "output_type": "display_data"
    }
   ],
   "source": [
    "transition_prob_matrix(path_analysis_dir, path_info_dir, dict_param=0, dict_processed_objects=0)"
   ]
  },
  {
   "cell_type": "code",
   "execution_count": null,
   "id": "9deae4ac-71e8-455b-be10-03cf057e6898",
   "metadata": {},
   "outputs": [],
   "source": [
    "posterior_prob_per_states_with_predictor(path_analysis_dir, path_info_dir, data_continous_ratemaps,\n",
    "                                             posterior_probs_list,\n",
    "                                             predictors_name_list, tot_masked_indices_list, T_list,\n",
    "                                             plots_dir=None,  dict_param=None,\n",
    "                                             dict_posterior=None,\n",
    "                                             dict_processed_objects=None,\n",
    "                                             dictionary_information=None)"
   ]
  },
  {
   "cell_type": "code",
   "execution_count": 13,
   "id": "1bff3054-1e9b-4097-b39a-484eabc15c1b",
   "metadata": {},
   "outputs": [
    {
     "name": "stdout",
     "output_type": "stream",
     "text": [
      "inferred and transformed weights are {'2_states': [array([[[0.50637672, 0.61997453, 0.49734048, 0.49260187]],\n",
      "\n",
      "       [[0.51510139, 0.60186605, 0.50110528, 0.48656444]]])], '3_states': [array([[[0.51305902, 0.60184188, 0.49710609, 0.48422397]],\n",
      "\n",
      "       [[0.50720022, 0.61357698, 0.4983346 , 0.49145387]],\n",
      "\n",
      "       [[0.50735217, 0.61486978, 0.49749749, 0.49038146]]])]}\n"
     ]
    },
    {
     "ename": "IndexError",
     "evalue": "index 4 is out of bounds for axis 2 with size 4",
     "output_type": "error",
     "traceback": [
      "\u001b[1;31m---------------------------------------------------------------------------\u001b[0m",
      "\u001b[1;31mIndexError\u001b[0m                                Traceback (most recent call last)",
      "Input \u001b[1;32mIn [13]\u001b[0m, in \u001b[0;36m<cell line: 1>\u001b[1;34m()\u001b[0m\n\u001b[1;32m----> 1\u001b[0m \u001b[43mweights_distribution_histogram\u001b[49m\u001b[43m(\u001b[49m\u001b[43mpath_analysis_dir\u001b[49m\u001b[43m,\u001b[49m\u001b[43m \u001b[49m\u001b[43mpath_info_dir\u001b[49m\u001b[43m,\u001b[49m\u001b[43m \u001b[49m\u001b[43mmulti_predictor\u001b[49m\u001b[38;5;241;43m=\u001b[39;49m\u001b[38;5;241;43m0\u001b[39;49m\u001b[43m)\u001b[49m\n",
      "File \u001b[1;32m~\\PycharmProjects\\pythonREGITglmhmm\\postural_glm_hmm\\test_beta_package\\post_inference_plots.py:136\u001b[0m, in \u001b[0;36mweights_distribution_histogram\u001b[1;34m(path_analysis_dir, path_info_dir, multi_predictor)\u001b[0m\n\u001b[0;32m    134\u001b[0m     \u001b[38;5;28;01mfor\u001b[39;00m i \u001b[38;5;129;01min\u001b[39;00m \u001b[38;5;28mrange\u001b[39m(dict_param[\u001b[38;5;124m'\u001b[39m\u001b[38;5;124mnum_predictors\u001b[39m\u001b[38;5;124m'\u001b[39m]):\n\u001b[0;32m    135\u001b[0m         flat_predictor_w\u001b[38;5;241m.\u001b[39mappend(\u001b[38;5;28mlist\u001b[39m(inf_weight_dict[key][\u001b[38;5;241m0\u001b[39m][:, \u001b[38;5;241m0\u001b[39m, i]))\n\u001b[1;32m--> 136\u001b[0m     flat_bias_w\u001b[38;5;241m.\u001b[39mappend(\u001b[43minf_weight_dict\u001b[49m\u001b[43m[\u001b[49m\u001b[43mkey\u001b[49m\u001b[43m]\u001b[49m\u001b[43m[\u001b[49m\u001b[38;5;241;43m0\u001b[39;49m\u001b[43m]\u001b[49m\u001b[43m[\u001b[49m\u001b[43m:\u001b[49m\u001b[43m,\u001b[49m\u001b[43m \u001b[49m\u001b[38;5;241;43m0\u001b[39;49m\u001b[43m,\u001b[49m\u001b[43m \u001b[49m\u001b[43mdict_param\u001b[49m\u001b[43m[\u001b[49m\u001b[38;5;124;43m'\u001b[39;49m\u001b[38;5;124;43mnum_predictors\u001b[39;49m\u001b[38;5;124;43m'\u001b[39;49m\u001b[43m]\u001b[49m\u001b[43m]\u001b[49m)\n\u001b[0;32m    137\u001b[0m flat_predictor_w \u001b[38;5;241m=\u001b[39m \u001b[38;5;28mlist\u001b[39m(itertools\u001b[38;5;241m.\u001b[39mchain\u001b[38;5;241m.\u001b[39mfrom_iterable(flat_predictor_w))\n\u001b[0;32m    138\u001b[0m flat_bias_w \u001b[38;5;241m=\u001b[39m \u001b[38;5;28mlist\u001b[39m(itertools\u001b[38;5;241m.\u001b[39mchain\u001b[38;5;241m.\u001b[39mfrom_iterable(flat_bias_w))\n",
      "\u001b[1;31mIndexError\u001b[0m: index 4 is out of bounds for axis 2 with size 4"
     ]
    }
   ],
   "source": [
    "weights_distribution_histogram(path_analysis_dir, path_info_dir, multi_predictor=0)"
   ]
  },
  {
   "cell_type": "code",
   "execution_count": null,
   "id": "1753631d-b7dd-4da4-b1ab-fd81769c842a",
   "metadata": {},
   "outputs": [],
   "source": []
  }
 ],
 "metadata": {
  "kernelspec": {
   "display_name": "Python 3 (ipykernel)",
   "language": "python",
   "name": "python3"
  },
  "language_info": {
   "codemirror_mode": {
    "name": "ipython",
    "version": 3
   },
   "file_extension": ".py",
   "mimetype": "text/x-python",
   "name": "python",
   "nbconvert_exporter": "python",
   "pygments_lexer": "ipython3",
   "version": "3.9.5"
  }
 },
 "nbformat": 4,
 "nbformat_minor": 5
}
