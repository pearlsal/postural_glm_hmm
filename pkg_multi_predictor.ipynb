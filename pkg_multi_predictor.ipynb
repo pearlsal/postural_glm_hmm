{
 "cells": [
  {
   "cell_type": "code",
   "execution_count": 1,
   "id": "765fe8b4-22ae-43ad-9ae7-947c56a8c945",
   "metadata": {},
   "outputs": [],
   "source": [
    "from test_beta_package import *\n",
    "%matplotlib inline"
   ]
  },
  {
   "cell_type": "code",
   "execution_count": 2,
   "id": "5f2cf3dd-a30f-4b51-a8db-3e92c3537619",
   "metadata": {},
   "outputs": [],
   "source": [
    "# confirm the folder structure and load the variables\n",
    "path_data_folder, path_raw_data_folder, path_process_data_folder, path_top_folder, path_info_dir, path_analysis_dir, \\\n",
    "path_plots_dir, path_single_pred_dir, path_multi_pred_dir = folder_structure()"
   ]
  },
  {
   "cell_type": "code",
   "execution_count": 3,
   "id": "7d7664bb-73c6-4ea8-8292-40bdc663d92e",
   "metadata": {},
   "outputs": [
    {
     "name": "stdout",
     "output_type": "stream",
     "text": [
      "the continous dictionary is dict_keys(['output_file_prefix', 'exist_animal2', 'startaltbins', 'endaltbins', 'settings', 'session_indicator', 'frame_times', 'time_bins', 'framerate', 'overall_framerate', 'session_ts', 'tracking_ts', 'cell_names', 'cell_activities', 'dxs', 'dys', 'animal_location', 'possiblecovariates', 'possiblecovariatesnames', 'possiblecovariatesbounds', 'possiblecovariatesbins'])\n",
      "the binned dictionary is dict_keys(['framerate', 'settings', 'cell_names', 'spk_mat', 'features_mat'])\n",
      "the binned dictionary is [0. 0. 0. ... 0. 0. 0.]\n"
     ]
    }
   ],
   "source": [
    "# load the processed pickle files  \n",
    "data_continous_ratemaps, data_binned_glm = \\\n",
    "    processing_and_loading(path_raw_data_folder, path_process_data_folder, \n",
    "                           data_continous_ratemaps_pickle=\"rm_pre_data_diana_chasing2_notreheaded_XYZeuler_notricks_eo.pkl\",\n",
    "                           data_binned_glm_pickle=\"binned_4_GLM_rm_pre_data_diana_chasing2_notreheaded_XYZeuler_notricks_eo.pkl\")\n"
   ]
  },
  {
   "cell_type": "code",
   "execution_count": 4,
   "id": "ff532012-2e10-4b46-8397-de2a471ffdc5",
   "metadata": {},
   "outputs": [],
   "source": [
    "# obtain the information from pickles\n",
    "predictors_name_list, cells_id, animal_name = get_data_information(path_info_dir, data_continous_ratemaps)"
   ]
  },
  {
   "cell_type": "code",
   "execution_count": 5,
   "id": "580b67c7-0b7c-4e20-b0a2-0877d3279930",
   "metadata": {},
   "outputs": [],
   "source": [
    "# assign values to the inference parameters\n",
    "dict_param = dict_parameters_hmm(path_info_dir, animal_name, num_dimen=1, num_categ_obs=2, N_iters=10,\n",
    "                                 tolerance=10 ** -5, num_indep_neurons=1, num_predictors=4, max_num_states=3,\n",
    "                                 observation_type=\"input_driven_obs\",\n",
    "                                 transistion_type=\"inputdriven\", optim_method=\"em\")"
   ]
  },
  {
   "cell_type": "code",
   "execution_count": 6,
   "id": "5ee9c9e7-3d0f-47ef-b04a-b3c5788f2a4c",
   "metadata": {},
   "outputs": [],
   "source": [
    "cells_index, tot_time = cells_selection_manual(path_info_dir, data_continous_ratemaps, data_binned_glm, dict_param, 'cells_selection.csv')"
   ]
  },
  {
   "cell_type": "code",
   "execution_count": 7,
   "id": "3915a098-fe3f-43fb-9602-498f9656a522",
   "metadata": {},
   "outputs": [
    {
     "name": "stdout",
     "output_type": "stream",
     "text": [
      "        Predictors'\n",
      "0          B Speeds\n",
      "1  G Neck_elevation\n",
      "2  K Ego3_Head_roll\n",
      "3      N Back_pitch\n",
      "4  B Speeds_1st_der\n",
      "the inputs format is [array([[ 10.6933533 ,   7.77147212,  14.95171273,  -8.59606193],\n",
      "       [ 10.94194185,   7.73293056,  14.66348645,  -8.67050513],\n",
      "       [ 11.20825033,   7.70454672,  14.19854536,  -9.21914885],\n",
      "       ...,\n",
      "       [  1.88188967,  11.14532455,   4.04407274, -11.50492634],\n",
      "       [  1.93495419,  11.15501299,   4.32910028, -11.38794117],\n",
      "       [  1.97855496,  11.16212476,   4.67918961, -11.25995607]])]\n",
      "!Fraction missing points is 0.011952353757036795 for the model 0\n",
      "!Fraction missing points is 0.011952353757036795 for the model 1\n"
     ]
    }
   ],
   "source": [
    "glmhmms_ista, process_neur, inpts, T, tot_masked_indices, path_plots_list, dict_objects_multicov = \\\n",
    "   data_structure_multipredictor(path_analysis_dir, path_info_dir, path_multi_pred_dir, data_continous_ratemaps,\n",
    "                            data_binned_glm, dict_param, tot_time, cells_index, best_predictors='best_predictors.csv')"
   ]
  },
  {
   "cell_type": "code",
   "execution_count": 8,
   "id": "bc74b979-5173-42a3-8df4-f326e4bef6ed",
   "metadata": {},
   "outputs": [
    {
     "name": "stdout",
     "output_type": "stream",
     "text": [
      "[[ 10.6933533    7.77147212  14.95171273  -8.59606193]\n",
      " [ 10.94194185   7.73293056  14.66348645  -8.67050513]\n",
      " [ 11.20825033   7.70454672  14.19854536  -9.21914885]\n",
      " ...\n",
      " [  1.88188967  11.14532455   4.04407274 -11.50492634]\n",
      " [  1.93495419  11.15501299   4.32910028 -11.38794117]\n",
      " [  1.97855496  11.16212476   4.67918961 -11.25995607]]\n"
     ]
    },
    {
     "data": {
      "application/vnd.jupyter.widget-view+json": {
       "model_id": "5e7159f8e773446db2ac3f12025a8861",
       "version_major": 2,
       "version_minor": 0
      },
      "text/plain": [
       "  0%|          | 0/10 [00:00<?, ?it/s]"
      ]
     },
     "metadata": {},
     "output_type": "display_data"
    },
    {
     "name": "stdout",
     "output_type": "stream",
     "text": [
      "computation time loop 0 is 8.667649030685425\n"
     ]
    },
    {
     "data": {
      "application/vnd.jupyter.widget-view+json": {
       "model_id": "a640680d81254312aff22a3441cd7f29",
       "version_major": 2,
       "version_minor": 0
      },
      "text/plain": [
       "  0%|          | 0/10 [00:00<?, ?it/s]"
      ]
     },
     "metadata": {},
     "output_type": "display_data"
    },
    {
     "name": "stdout",
     "output_type": "stream",
     "text": [
      "computation time loop 1 is 10.940544843673706\n",
      "The total time for the inference is 19.60819387435913\n",
      "the input list after inference is (4,)\n"
     ]
    }
   ],
   "source": [
    "fit_ll_states_list, glmhmms_ista, time_states_comp = inference_section_multi_predictor(path_analysis_dir, path_info_dir, dict_param,\n",
    "                                                                       glmhmms_ista=glmhmms_ista,\n",
    "                                                                       process_neur=process_neur,\n",
    "                                                                       inputs_list=inpts)"
   ]
  },
  {
   "cell_type": "code",
   "execution_count": null,
   "id": "0718767b-0e80-40dd-bbde-73f4b0e21447",
   "metadata": {},
   "outputs": [],
   "source": [
    "                           data_continous_ratemaps_pickle=\"rm_pre_data_diana_chasing2_notreheaded_XYZeuler_notricks_eo.pkl\",\n",
    "                           data_binned_glm_pickle=\"binned_4_GLM_rm_pre_data_diana_chasing2_notreheaded_XYZeuler_notricks_eo.pkl\")"
   ]
  },
  {
   "cell_type": "code",
   "execution_count": 14,
   "id": "bdd3c15b-6756-4a0d-a550-9255169557f4",
   "metadata": {},
   "outputs": [
    {
     "ename": "AssertionError",
     "evalue": "",
     "output_type": "error",
     "traceback": [
      "\u001b[1;31m---------------------------------------------------------------------------\u001b[0m",
      "\u001b[1;31mAssertionError\u001b[0m                            Traceback (most recent call last)",
      "Input \u001b[1;32mIn [14]\u001b[0m, in \u001b[0;36m<cell line: 1>\u001b[1;34m()\u001b[0m\n\u001b[1;32m----> 1\u001b[0m posterior_probs_list \u001b[38;5;241m=\u001b[39m \u001b[43mposterior_prob_process\u001b[49m\u001b[43m(\u001b[49m\u001b[43mpath_info_dir\u001b[49m\u001b[43m,\u001b[49m\u001b[43m \u001b[49m\u001b[43mpath_analysis_dir\u001b[49m\u001b[43m,\u001b[49m\u001b[43m \u001b[49m\u001b[43mdict_param\u001b[49m\u001b[43m,\u001b[49m\u001b[43m \u001b[49m\u001b[43mdict_processed_objects\u001b[49m\u001b[38;5;241;43m=\u001b[39;49m\u001b[38;5;124;43m\"\u001b[39;49m\u001b[38;5;124;43ma\u001b[39;49m\u001b[38;5;124;43m\"\u001b[39;49m\u001b[43m)\u001b[49m\n",
      "File \u001b[1;32m~\\PycharmProjects\\pythonREGITglmhmm\\postural_glm_hmm\\test_beta_package\\inference_and_output_analysis.py:159\u001b[0m, in \u001b[0;36mposterior_prob_process\u001b[1;34m(path_info_dir, path_analysis_dir, dict_param, glmhmms_ista, process_neur, inputs_list, dict_processed_objects)\u001b[0m\n\u001b[0;32m    157\u001b[0m         posterior_probs_list[i]\u001b[38;5;241m.\u001b[39mappend([])  \u001b[38;5;66;03m# structure for different neurons\u001b[39;00m\n\u001b[0;32m    158\u001b[0m         \u001b[38;5;28;01mfor\u001b[39;00m j \u001b[38;5;129;01min\u001b[39;00m \u001b[38;5;28mrange\u001b[39m(dict_param[\u001b[38;5;124m'\u001b[39m\u001b[38;5;124mnum_predictors\u001b[39m\u001b[38;5;124m'\u001b[39m]):\n\u001b[1;32m--> 159\u001b[0m             posterior_probs \u001b[38;5;241m=\u001b[39m [glmhmms_ista[i \u001b[38;5;241m*\u001b[39m ((dict_param[\u001b[38;5;124m'\u001b[39m\u001b[38;5;124mnum_predictors\u001b[39m\u001b[38;5;124m'\u001b[39m]) \u001b[38;5;241m*\u001b[39m dict_param[\u001b[38;5;124m'\u001b[39m\u001b[38;5;124mnum_indep_neurons\u001b[39m\u001b[38;5;124m'\u001b[39m]) \u001b[38;5;241m+\u001b[39m\n\u001b[0;32m    160\u001b[0m                                             (k \u001b[38;5;241m*\u001b[39m dict_param[\u001b[38;5;124m'\u001b[39m\u001b[38;5;124mnum_predictors\u001b[39m\u001b[38;5;124m'\u001b[39m]) \u001b[38;5;241m+\u001b[39m j]\u001b[38;5;241m.\u001b[39m\n\u001b[0;32m    161\u001b[0m                                    expected_states(data\u001b[38;5;241m=\u001b[39mdata, \u001b[38;5;28minput\u001b[39m\u001b[38;5;241m=\u001b[39minpt)[\u001b[38;5;241m0\u001b[39m]\n\u001b[0;32m    162\u001b[0m                                \u001b[38;5;66;03m# way to get the posterior probability for each state\u001b[39;00m\n\u001b[0;32m    163\u001b[0m                                \u001b[38;5;28;01mfor\u001b[39;00m data, inpt\n\u001b[0;32m    164\u001b[0m                                \u001b[38;5;129;01min\u001b[39;00m \u001b[38;5;28mzip\u001b[39m([process_neur[\n\u001b[0;32m    165\u001b[0m                                            i \u001b[38;5;241m*\u001b[39m ((dict_param[\u001b[38;5;124m'\u001b[39m\u001b[38;5;124mnum_predictors\u001b[39m\u001b[38;5;124m'\u001b[39m]) \u001b[38;5;241m*\u001b[39m dict_param[\u001b[38;5;124m'\u001b[39m\u001b[38;5;124mnum_indep_neurons\u001b[39m\u001b[38;5;124m'\u001b[39m]) \u001b[38;5;241m+\u001b[39m\n\u001b[0;32m    166\u001b[0m                                            (k \u001b[38;5;241m*\u001b[39m dict_param[\u001b[38;5;124m'\u001b[39m\u001b[38;5;124mnum_predictors\u001b[39m\u001b[38;5;124m'\u001b[39m]) \u001b[38;5;241m+\u001b[39m j]], [inputs_list[j][\u001b[38;5;241m0\u001b[39m]])]\n\u001b[0;32m    167\u001b[0m             posterior_probs_list[i][k]\u001b[38;5;241m.\u001b[39mappend(posterior_probs)\n\u001b[0;32m    168\u001b[0m comp_time_posterior \u001b[38;5;241m=\u001b[39m time\u001b[38;5;241m.\u001b[39mtime() \u001b[38;5;241m-\u001b[39m startclock\n",
      "File \u001b[1;32m~\\PycharmProjects\\pythonREGITglmhmm\\postural_glm_hmm\\test_beta_package\\inference_and_output_analysis.py:159\u001b[0m, in \u001b[0;36m<listcomp>\u001b[1;34m(.0)\u001b[0m\n\u001b[0;32m    157\u001b[0m         posterior_probs_list[i]\u001b[38;5;241m.\u001b[39mappend([])  \u001b[38;5;66;03m# structure for different neurons\u001b[39;00m\n\u001b[0;32m    158\u001b[0m         \u001b[38;5;28;01mfor\u001b[39;00m j \u001b[38;5;129;01min\u001b[39;00m \u001b[38;5;28mrange\u001b[39m(dict_param[\u001b[38;5;124m'\u001b[39m\u001b[38;5;124mnum_predictors\u001b[39m\u001b[38;5;124m'\u001b[39m]):\n\u001b[1;32m--> 159\u001b[0m             posterior_probs \u001b[38;5;241m=\u001b[39m [\u001b[43mglmhmms_ista\u001b[49m\u001b[43m[\u001b[49m\u001b[43mi\u001b[49m\u001b[43m \u001b[49m\u001b[38;5;241;43m*\u001b[39;49m\u001b[43m \u001b[49m\u001b[43m(\u001b[49m\u001b[43m(\u001b[49m\u001b[43mdict_param\u001b[49m\u001b[43m[\u001b[49m\u001b[38;5;124;43m'\u001b[39;49m\u001b[38;5;124;43mnum_predictors\u001b[39;49m\u001b[38;5;124;43m'\u001b[39;49m\u001b[43m]\u001b[49m\u001b[43m)\u001b[49m\u001b[43m \u001b[49m\u001b[38;5;241;43m*\u001b[39;49m\u001b[43m \u001b[49m\u001b[43mdict_param\u001b[49m\u001b[43m[\u001b[49m\u001b[38;5;124;43m'\u001b[39;49m\u001b[38;5;124;43mnum_indep_neurons\u001b[39;49m\u001b[38;5;124;43m'\u001b[39;49m\u001b[43m]\u001b[49m\u001b[43m)\u001b[49m\u001b[43m \u001b[49m\u001b[38;5;241;43m+\u001b[39;49m\n\u001b[0;32m    160\u001b[0m \u001b[43m                                            \u001b[49m\u001b[43m(\u001b[49m\u001b[43mk\u001b[49m\u001b[43m \u001b[49m\u001b[38;5;241;43m*\u001b[39;49m\u001b[43m \u001b[49m\u001b[43mdict_param\u001b[49m\u001b[43m[\u001b[49m\u001b[38;5;124;43m'\u001b[39;49m\u001b[38;5;124;43mnum_predictors\u001b[39;49m\u001b[38;5;124;43m'\u001b[39;49m\u001b[43m]\u001b[49m\u001b[43m)\u001b[49m\u001b[43m \u001b[49m\u001b[38;5;241;43m+\u001b[39;49m\u001b[43m \u001b[49m\u001b[43mj\u001b[49m\u001b[43m]\u001b[49m\u001b[38;5;241;43m.\u001b[39;49m\n\u001b[0;32m    161\u001b[0m \u001b[43m                                   \u001b[49m\u001b[43mexpected_states\u001b[49m\u001b[43m(\u001b[49m\u001b[43mdata\u001b[49m\u001b[38;5;241;43m=\u001b[39;49m\u001b[43mdata\u001b[49m\u001b[43m,\u001b[49m\u001b[43m \u001b[49m\u001b[38;5;28;43minput\u001b[39;49m\u001b[38;5;241;43m=\u001b[39;49m\u001b[43minpt\u001b[49m\u001b[43m)\u001b[49m[\u001b[38;5;241m0\u001b[39m]\n\u001b[0;32m    162\u001b[0m                                \u001b[38;5;66;03m# way to get the posterior probability for each state\u001b[39;00m\n\u001b[0;32m    163\u001b[0m                                \u001b[38;5;28;01mfor\u001b[39;00m data, inpt\n\u001b[0;32m    164\u001b[0m                                \u001b[38;5;129;01min\u001b[39;00m \u001b[38;5;28mzip\u001b[39m([process_neur[\n\u001b[0;32m    165\u001b[0m                                            i \u001b[38;5;241m*\u001b[39m ((dict_param[\u001b[38;5;124m'\u001b[39m\u001b[38;5;124mnum_predictors\u001b[39m\u001b[38;5;124m'\u001b[39m]) \u001b[38;5;241m*\u001b[39m dict_param[\u001b[38;5;124m'\u001b[39m\u001b[38;5;124mnum_indep_neurons\u001b[39m\u001b[38;5;124m'\u001b[39m]) \u001b[38;5;241m+\u001b[39m\n\u001b[0;32m    166\u001b[0m                                            (k \u001b[38;5;241m*\u001b[39m dict_param[\u001b[38;5;124m'\u001b[39m\u001b[38;5;124mnum_predictors\u001b[39m\u001b[38;5;124m'\u001b[39m]) \u001b[38;5;241m+\u001b[39m j]], [inputs_list[j][\u001b[38;5;241m0\u001b[39m]])]\n\u001b[0;32m    167\u001b[0m             posterior_probs_list[i][k]\u001b[38;5;241m.\u001b[39mappend(posterior_probs)\n\u001b[0;32m    168\u001b[0m comp_time_posterior \u001b[38;5;241m=\u001b[39m time\u001b[38;5;241m.\u001b[39mtime() \u001b[38;5;241m-\u001b[39m startclock\n",
      "File \u001b[1;32mc:\\users\\teof\\pycharmprojects\\pythonregitglmhmm\\ssm\\ssm\\util.py:158\u001b[0m, in \u001b[0;36mensure_args_not_none.<locals>.wrapper\u001b[1;34m(self, data, input, mask, tag, **kwargs)\u001b[0m\n\u001b[0;32m    155\u001b[0m \u001b[38;5;28minput\u001b[39m \u001b[38;5;241m=\u001b[39m np\u001b[38;5;241m.\u001b[39mzeros((data\u001b[38;5;241m.\u001b[39mshape[\u001b[38;5;241m0\u001b[39m],) \u001b[38;5;241m+\u001b[39m M) \u001b[38;5;28;01mif\u001b[39;00m \u001b[38;5;28minput\u001b[39m \u001b[38;5;129;01mis\u001b[39;00m \u001b[38;5;28;01mNone\u001b[39;00m \u001b[38;5;28;01melse\u001b[39;00m \u001b[38;5;28minput\u001b[39m\n\u001b[0;32m    157\u001b[0m mask \u001b[38;5;241m=\u001b[39m np\u001b[38;5;241m.\u001b[39mones_like(data, dtype\u001b[38;5;241m=\u001b[39m\u001b[38;5;28mbool\u001b[39m) \u001b[38;5;28;01mif\u001b[39;00m mask \u001b[38;5;129;01mis\u001b[39;00m \u001b[38;5;28;01mNone\u001b[39;00m \u001b[38;5;28;01melse\u001b[39;00m mask\n\u001b[1;32m--> 158\u001b[0m \u001b[38;5;28;01mreturn\u001b[39;00m f(\u001b[38;5;28mself\u001b[39m, data, \u001b[38;5;28minput\u001b[39m\u001b[38;5;241m=\u001b[39m\u001b[38;5;28minput\u001b[39m, mask\u001b[38;5;241m=\u001b[39mmask, tag\u001b[38;5;241m=\u001b[39mtag, \u001b[38;5;241m*\u001b[39m\u001b[38;5;241m*\u001b[39mkwargs)\n",
      "File \u001b[1;32mc:\\users\\teof\\pycharmprojects\\pythonregitglmhmm\\ssm\\ssm\\hmm.py:256\u001b[0m, in \u001b[0;36mHMM.expected_states\u001b[1;34m(self, data, input, mask, tag)\u001b[0m\n\u001b[0;32m    253\u001b[0m \u001b[38;5;129m@ensure_args_not_none\u001b[39m\n\u001b[0;32m    254\u001b[0m \u001b[38;5;28;01mdef\u001b[39;00m \u001b[38;5;21mexpected_states\u001b[39m(\u001b[38;5;28mself\u001b[39m, data, \u001b[38;5;28minput\u001b[39m\u001b[38;5;241m=\u001b[39m\u001b[38;5;28;01mNone\u001b[39;00m, mask\u001b[38;5;241m=\u001b[39m\u001b[38;5;28;01mNone\u001b[39;00m, tag\u001b[38;5;241m=\u001b[39m\u001b[38;5;28;01mNone\u001b[39;00m):\n\u001b[0;32m    255\u001b[0m     pi0 \u001b[38;5;241m=\u001b[39m \u001b[38;5;28mself\u001b[39m\u001b[38;5;241m.\u001b[39minit_state_distn\u001b[38;5;241m.\u001b[39minitial_state_distn\n\u001b[1;32m--> 256\u001b[0m     Ps \u001b[38;5;241m=\u001b[39m \u001b[38;5;28;43mself\u001b[39;49m\u001b[38;5;241;43m.\u001b[39;49m\u001b[43mtransitions\u001b[49m\u001b[38;5;241;43m.\u001b[39;49m\u001b[43mtransition_matrices\u001b[49m\u001b[43m(\u001b[49m\u001b[43mdata\u001b[49m\u001b[43m,\u001b[49m\u001b[43m \u001b[49m\u001b[38;5;28;43minput\u001b[39;49m\u001b[43m,\u001b[49m\u001b[43m \u001b[49m\u001b[43mmask\u001b[49m\u001b[43m,\u001b[49m\u001b[43m \u001b[49m\u001b[43mtag\u001b[49m\u001b[43m)\u001b[49m\n\u001b[0;32m    257\u001b[0m     log_likes \u001b[38;5;241m=\u001b[39m \u001b[38;5;28mself\u001b[39m\u001b[38;5;241m.\u001b[39mobservations\u001b[38;5;241m.\u001b[39mlog_likelihoods(data, \u001b[38;5;28minput\u001b[39m, mask, tag)\n\u001b[0;32m    258\u001b[0m     \u001b[38;5;28;01mreturn\u001b[39;00m hmm_expected_states(pi0, Ps, log_likes)\n",
      "File \u001b[1;32mc:\\users\\teof\\pycharmprojects\\pythonregitglmhmm\\ssm\\ssm\\transitions.py:42\u001b[0m, in \u001b[0;36mTransitions.transition_matrices\u001b[1;34m(self, data, input, mask, tag)\u001b[0m\n\u001b[0;32m     41\u001b[0m \u001b[38;5;28;01mdef\u001b[39;00m \u001b[38;5;21mtransition_matrices\u001b[39m(\u001b[38;5;28mself\u001b[39m, data, \u001b[38;5;28minput\u001b[39m, mask, tag):\n\u001b[1;32m---> 42\u001b[0m     \u001b[38;5;28;01mreturn\u001b[39;00m np\u001b[38;5;241m.\u001b[39mexp(\u001b[38;5;28;43mself\u001b[39;49m\u001b[38;5;241;43m.\u001b[39;49m\u001b[43mlog_transition_matrices\u001b[49m\u001b[43m(\u001b[49m\u001b[43mdata\u001b[49m\u001b[43m,\u001b[49m\u001b[43m \u001b[49m\u001b[38;5;28;43minput\u001b[39;49m\u001b[43m,\u001b[49m\u001b[43m \u001b[49m\u001b[43mmask\u001b[49m\u001b[43m,\u001b[49m\u001b[43m \u001b[49m\u001b[43mtag\u001b[49m\u001b[43m)\u001b[49m)\n",
      "File \u001b[1;32mc:\\users\\teof\\pycharmprojects\\pythonregitglmhmm\\ssm\\ssm\\transitions.py:250\u001b[0m, in \u001b[0;36mInputDrivenTransitions.log_transition_matrices\u001b[1;34m(self, data, input, mask, tag)\u001b[0m\n\u001b[0;32m    248\u001b[0m \u001b[38;5;28;01mdef\u001b[39;00m \u001b[38;5;21mlog_transition_matrices\u001b[39m(\u001b[38;5;28mself\u001b[39m, data, \u001b[38;5;28minput\u001b[39m, mask, tag):\n\u001b[0;32m    249\u001b[0m     T \u001b[38;5;241m=\u001b[39m data\u001b[38;5;241m.\u001b[39mshape[\u001b[38;5;241m0\u001b[39m]\n\u001b[1;32m--> 250\u001b[0m     \u001b[38;5;28;01massert\u001b[39;00m \u001b[38;5;28minput\u001b[39m\u001b[38;5;241m.\u001b[39mshape[\u001b[38;5;241m0\u001b[39m] \u001b[38;5;241m==\u001b[39m T\n\u001b[0;32m    251\u001b[0m     \u001b[38;5;66;03m# Previous state effect\u001b[39;00m\n\u001b[0;32m    252\u001b[0m     log_Ps \u001b[38;5;241m=\u001b[39m np\u001b[38;5;241m.\u001b[39mtile(\u001b[38;5;28mself\u001b[39m\u001b[38;5;241m.\u001b[39mlog_Ps[\u001b[38;5;28;01mNone\u001b[39;00m, :, :], (T\u001b[38;5;241m-\u001b[39m\u001b[38;5;241m1\u001b[39m, \u001b[38;5;241m1\u001b[39m, \u001b[38;5;241m1\u001b[39m))\n",
      "\u001b[1;31mAssertionError\u001b[0m: "
     ]
    }
   ],
   "source": [
    "# posterior_probs_list = posterior_prob_process(path_info_dir, path_analysis_dir, dict_param, dict_processed_objects=\"a\") # glmhmms_ista=glmhmms_ista, process_neur=process_neur, inputs_list=inputs_list)\n"
   ]
  },
  {
   "cell_type": "code",
   "execution_count": 16,
   "id": "474e3002-2ca2-4ec6-8406-691a196691fb",
   "metadata": {},
   "outputs": [],
   "source": [
    "%%capture cap --no-stderr\n",
    "# take the cumulative occupancy per state\n",
    "states_occupancies = states_occupancies_computation(path_analysis_dir, dict_posterior=0)"
   ]
  },
  {
   "cell_type": "code",
   "execution_count": 11,
   "id": "3f5f8845-e1f8-43c4-9a3a-5d8ba83891ad",
   "metadata": {},
   "outputs": [
    {
     "name": "stdout",
     "output_type": "stream",
     "text": [
      "state of occupancy is [0.44150304 0.00851884 0.54997812]\n",
      "3\n",
      "<class 'numpy.ndarray'>\n"
     ]
    },
    {
     "data": {
      "image/png": "[encoded data removed]",
      "text/plain": [
       "<Figure size 240x300 with 1 Axes>"
      ]
     },
     "metadata": {},
     "output_type": "display_data"
    }
   ],
   "source": [
    "states_occupancies_histogram(path_analysis_dir, path_info_dir, dict_param=0, file_states_occup=0)"
   ]
  },
  {
   "cell_type": "code",
   "execution_count": 12,
   "id": "6c79b903-5d95-4cb2-b643-4b58f34a9668",
   "metadata": {},
   "outputs": [
    {
     "data": {
      "image/png": "[encoded data removed]",
      "text/plain": [
       "<Figure size 840x480 with 1 Axes>"
      ]
     },
     "metadata": {},
     "output_type": "display_data"
    }
   ],
   "source": [
    "transition_prob_matrix(path_analysis_dir, path_info_dir, dict_param=0, dict_processed_objects=0)"
   ]
  },
  {
   "cell_type": "code",
   "execution_count": 13,
   "id": "1bff3054-1e9b-4097-b39a-484eabc15c1b",
   "metadata": {},
   "outputs": [
    {
     "name": "stdout",
     "output_type": "stream",
     "text": [
      "inferred and transformed weights are {'2_states': [array([[[0.50579631, 0.61765165, 0.4967354 , 0.49112938]],\n",
      "\n",
      "       [[0.50941182, 0.60993179, 0.49929309, 0.48676435]]])], '3_states': [array([[[0.52342692, 0.60651543, 0.49759181, 0.48587894]],\n",
      "\n",
      "       [[0.65531013, 0.60570465, 0.49330862, 0.49258285]],\n",
      "\n",
      "       [[0.50806   , 0.61462306, 0.49908766, 0.48808817]]])]}\n"
     ]
    },
    {
     "ename": "IndexError",
     "evalue": "index 4 is out of bounds for axis 2 with size 4",
     "output_type": "error",
     "traceback": [
      "\u001b[1;31m---------------------------------------------------------------------------\u001b[0m",
      "\u001b[1;31mIndexError\u001b[0m                                Traceback (most recent call last)",
      "Input \u001b[1;32mIn [13]\u001b[0m, in \u001b[0;36m<cell line: 1>\u001b[1;34m()\u001b[0m\n\u001b[1;32m----> 1\u001b[0m \u001b[43mweights_distribution_histogram\u001b[49m\u001b[43m(\u001b[49m\u001b[43mpath_analysis_dir\u001b[49m\u001b[43m,\u001b[49m\u001b[43m \u001b[49m\u001b[43mpath_info_dir\u001b[49m\u001b[43m,\u001b[49m\u001b[43m \u001b[49m\u001b[43mmulti_predictor\u001b[49m\u001b[38;5;241;43m=\u001b[39;49m\u001b[38;5;241;43m0\u001b[39;49m\u001b[43m)\u001b[49m\n",
      "File \u001b[1;32m~\\PycharmProjects\\pythonREGITglmhmm\\postural_glm_hmm\\test_beta_package\\post_inference_plots.py:269\u001b[0m, in \u001b[0;36mweights_distribution_histogram\u001b[1;34m(path_analysis_dir, path_info_dir, multi_predictor)\u001b[0m\n\u001b[0;32m    267\u001b[0m     \u001b[38;5;28;01mfor\u001b[39;00m i \u001b[38;5;129;01min\u001b[39;00m \u001b[38;5;28mrange\u001b[39m(dict_param[\u001b[38;5;124m'\u001b[39m\u001b[38;5;124mnum_predictors\u001b[39m\u001b[38;5;124m'\u001b[39m]):\n\u001b[0;32m    268\u001b[0m         flat_predictor_w\u001b[38;5;241m.\u001b[39mappend(\u001b[38;5;28mlist\u001b[39m(inf_weight_dict[key][\u001b[38;5;241m0\u001b[39m][:,\u001b[38;5;241m0\u001b[39m,i]))\n\u001b[1;32m--> 269\u001b[0m     flat_bias_w\u001b[38;5;241m.\u001b[39mappend(\u001b[43minf_weight_dict\u001b[49m\u001b[43m[\u001b[49m\u001b[43mkey\u001b[49m\u001b[43m]\u001b[49m\u001b[43m[\u001b[49m\u001b[38;5;241;43m0\u001b[39;49m\u001b[43m]\u001b[49m\u001b[43m[\u001b[49m\u001b[43m:\u001b[49m\u001b[43m,\u001b[49m\u001b[38;5;241;43m0\u001b[39;49m\u001b[43m,\u001b[49m\u001b[43mdict_param\u001b[49m\u001b[43m[\u001b[49m\u001b[38;5;124;43m'\u001b[39;49m\u001b[38;5;124;43mnum_predictors\u001b[39;49m\u001b[38;5;124;43m'\u001b[39;49m\u001b[43m]\u001b[49m\u001b[43m]\u001b[49m)\n\u001b[0;32m    270\u001b[0m flat_predictor_w \u001b[38;5;241m=\u001b[39m \u001b[38;5;28mlist\u001b[39m(itertools\u001b[38;5;241m.\u001b[39mchain\u001b[38;5;241m.\u001b[39mfrom_iterable(flat_predictor_w))\n\u001b[0;32m    271\u001b[0m flat_bias_w \u001b[38;5;241m=\u001b[39m \u001b[38;5;28mlist\u001b[39m(itertools\u001b[38;5;241m.\u001b[39mchain\u001b[38;5;241m.\u001b[39mfrom_iterable(flat_bias_w))\n",
      "\u001b[1;31mIndexError\u001b[0m: index 4 is out of bounds for axis 2 with size 4"
     ]
    }
   ],
   "source": [
    "weights_distribution_histogram(path_analysis_dir, path_info_dir, multi_predictor=0)"
   ]
  },
  {
   "cell_type": "code",
   "execution_count": null,
   "id": "1753631d-b7dd-4da4-b1ab-fd81769c842a",
   "metadata": {},
   "outputs": [],
   "source": []
  }
 ],
 "metadata": {
  "kernelspec": {
   "display_name": "Python 3 (ipykernel)",
   "language": "python",
   "name": "python3"
  },
  "language_info": {
   "codemirror_mode": {
    "name": "ipython",
    "version": 3
   },
   "file_extension": ".py",
   "mimetype": "text/x-python",
   "name": "python",
   "nbconvert_exporter": "python",
   "pygments_lexer": "ipython3",
   "version": "3.9.5"
  }
 },
 "nbformat": 4,
 "nbformat_minor": 5
}
